{
 "cells": [
  {
   "cell_type": "code",
   "execution_count": 51,
   "metadata": {
    "collapsed": false
   },
   "outputs": [],
   "source": [
    "class Minesweeper(object):\n",
    "    grid_repr = {'empty': 'X', 'uncovered': '.', 'marked': 'M', 'armed': '*'}\n",
    "    def __init__(self, dim, number_of_mines):\n",
    "        self.mines = []\n",
    "        self.board = [ [] for d in range(dim)]\n",
    "        for r in self.board:\n",
    "            for i in range(dim):\n",
    "                r.append({'state': 'empty'})\n",
    "        for m in range(number_of_mines):\n",
    "            self.mines.append((random.randint(0,dim-1),random.randint(0,dim-1)) )\n",
    "    \n",
    "    def show(self):\n",
    "        for row in self.board:\n",
    "            print([Minesweeper.grid_repr[item['state']] for item in row])\n",
    "        print(self.mines)\n",
    "    "
   ]
  },
  {
   "cell_type": "code",
   "execution_count": 52,
   "metadata": {
    "collapsed": false
   },
   "outputs": [],
   "source": [
    "mine01 = Minesweeper(5, 5)"
   ]
  },
  {
   "cell_type": "code",
   "execution_count": 53,
   "metadata": {
    "collapsed": false
   },
   "outputs": [
    {
     "name": "stdout",
     "output_type": "stream",
     "text": [
      "['X', 'X', 'X', 'X', 'X']\n",
      "['X', 'X', 'X', 'X', 'X']\n",
      "['X', 'X', 'X', 'X', 'X']\n",
      "['X', 'X', 'X', 'X', 'X']\n",
      "['X', 'X', 'X', 'X', 'X']\n",
      "[(3, 4), (0, 2), (0, 2), (0, 4), (1, 1)]\n"
     ]
    }
   ],
   "source": [
    "mine01.show()"
   ]
  },
  {
   "cell_type": "code",
   "execution_count": 4,
   "metadata": {
    "collapsed": true
   },
   "outputs": [],
   "source": [
    "class Minesweeper(object):\n",
    "    grid_repr = {'empty': 'X', 'uncovered': '.', 'marked': 'M', 'armed': '*'}\n",
    "    def __init__(self, dim, number_of_mines):\n",
    "        self.mines = []\n",
    "        self.board = [ [] for d in range(dim)]\n",
    "        for r in self.board:\n",
    "            for i in range(dim):\n",
    "                r.append({'state': 'empty'})\n",
    "        for m in range(number_of_mines):\n",
    "            x,y = (random.randint(0,dim-1),random.randint(0,dim-1))\n",
    "            self.mines.append((x,y))\n",
    "            self.board[y][x]['state'] = 'armed'\n",
    "    \n",
    "    def show(self):\n",
    "        for row in self.board:\n",
    "            print([Minesweeper.grid_repr[item['state']] for item in row])\n",
    "        print(self.mines)\n",
    "     "
   ]
  },
  {
   "cell_type": "code",
   "execution_count": 5,
   "metadata": {
    "collapsed": false
   },
   "outputs": [],
   "source": [
    "mine02 = Minesweeper(4, 3)"
   ]
  },
  {
   "cell_type": "code",
   "execution_count": 59,
   "metadata": {
    "collapsed": false
   },
   "outputs": [
    {
     "name": "stdout",
     "output_type": "stream",
     "text": [
      "['X', 'X', 'X', 'X']\n",
      "['X', 'X', '*', 'X']\n",
      "['*', 'X', 'X', 'X']\n",
      "['X', 'X', 'X', '*']\n",
      "[(2, 1), (0, 2), (3, 3)]\n"
     ]
    }
   ],
   "source": [
    "mine02.show()"
   ]
  },
  {
   "cell_type": "markdown",
   "metadata": {
    "collapsed": true
   },
   "source": [
    "## Algorithm: Cell Marking\n",
    "### input: N x N array of cells with M randomly placed mines\n",
    "### output: the number of mines adjacent to each cell, if any\n",
    "            for row in rows:\n",
    "                for cell in row:\n",
    "                    adjacement_mine_count = 0\n",
    "                    for neighbor in get_neighbors(cell):\n",
    "                        if neighbor['state'] == 'armed':\n",
    "                            adjacent_mine_count = adjacent_mine_count + 1\n",
    "                    cell['adjacement_mines'] = adjacent_mine_count\n",
    "  "
   ]
  },
  {
   "cell_type": "markdown",
   "metadata": {},
   "source": [
    "## Algorithm: Cell Marking Alternative - iterate through list of mines\n",
    "### input: N x N array of cells with M randomly placed mines, a list of mine locations\n",
    "### output: the number of mines adjacent to each cell, if any\n",
    "            for mine in mines_list:\n",
    "                for cell in neighbors(mine):\n",
    "                    cell[adjacent_mines] = cell[adjacent_mines] + 1\n",
    "  "
   ]
  },
  {
   "cell_type": "code",
   "execution_count": 6,
   "metadata": {
    "collapsed": false
   },
   "outputs": [
    {
     "data": {
      "text/plain": [
       "[(2, 1), (1, 2), (2, 3)]"
      ]
     },
     "execution_count": 6,
     "metadata": {},
     "output_type": "execute_result"
    }
   ],
   "source": [
    "mine02.mines"
   ]
  },
  {
   "cell_type": "code",
   "execution_count": 36,
   "metadata": {
    "collapsed": false
   },
   "outputs": [],
   "source": [
    "def get_neighbors(i, j, n):\n",
    "    def within_bounds(row, col):\n",
    "        return (row,col) != (i,j) and row >= 0 and row < n and col >= 0 and col < n\n",
    "    neighbors = []\n",
    "    for r in range(i-1, i+2, 1):\n",
    "        print('r ',r, 'i', i)\n",
    "        for c in range(j-1, j+2, 1):\n",
    "            print('c ', c)\n",
    "            if within_bounds(r,c):\n",
    "                neighbors.append((r,c))\n",
    "    return neighbors"
   ]
  },
  {
   "cell_type": "code",
   "execution_count": 21,
   "metadata": {
    "collapsed": false
   },
   "outputs": [],
   "source": [
    "lst = range(0,10)"
   ]
  },
  {
   "cell_type": "code",
   "execution_count": 12,
   "metadata": {
    "collapsed": false
   },
   "outputs": [
    {
     "data": {
      "text/plain": [
       "range(0, 10)"
      ]
     },
     "execution_count": 12,
     "metadata": {},
     "output_type": "execute_result"
    }
   ],
   "source": []
  },
  {
   "cell_type": "code",
   "execution_count": 13,
   "metadata": {
    "collapsed": false
   },
   "outputs": [
    {
     "data": {
      "text/plain": [
       "0"
      ]
     },
     "execution_count": 13,
     "metadata": {},
     "output_type": "execute_result"
    }
   ],
   "source": [
    "lst.start"
   ]
  },
  {
   "cell_type": "code",
   "execution_count": 14,
   "metadata": {
    "collapsed": true
   },
   "outputs": [],
   "source": [
    "i,j = 1,2"
   ]
  },
  {
   "cell_type": "code",
   "execution_count": 27,
   "metadata": {
    "collapsed": false
   },
   "outputs": [
    {
     "data": {
      "text/plain": [
       "[0, 1, 2]"
      ]
     },
     "execution_count": 27,
     "metadata": {},
     "output_type": "execute_result"
    }
   ],
   "source": [
    "[i for i in range(i-1,i+2)]"
   ]
  },
  {
   "cell_type": "code",
   "execution_count": 37,
   "metadata": {
    "collapsed": false
   },
   "outputs": [
    {
     "name": "stdout",
     "output_type": "stream",
     "text": [
      "r  1 i 2\n",
      "c  0\n",
      "c  1\n",
      "c  2\n",
      "r  2 i 2\n",
      "c  0\n",
      "c  1\n",
      "c  2\n",
      "r  3 i 2\n",
      "c  0\n",
      "c  1\n",
      "c  2\n"
     ]
    },
    {
     "data": {
      "text/plain": [
       "[(1, 0), (1, 1), (1, 2), (2, 0), (2, 2), (3, 0), (3, 1), (3, 2)]"
      ]
     },
     "execution_count": 37,
     "metadata": {},
     "output_type": "execute_result"
    }
   ],
   "source": [
    "get_neighbors(2,1,4)"
   ]
  },
  {
   "cell_type": "code",
   "execution_count": 39,
   "metadata": {
    "collapsed": false
   },
   "outputs": [],
   "source": [
    "class Minesweeper(object):\n",
    "    grid_repr = {'empty': 'X', 'uncovered': '.', 'marked': 'M', 'armed': '*'}\n",
    "    def compute_mine_adjacency(self):\n",
    "        for mine in self.mines:\n",
    "            for cell in get_neighbors(mine[0], mine[1], len(self.board)):\n",
    "                if self.board[cell[0]][cell[1]]['adjacent_mines'] is None:\n",
    "                    self.board[cell[0]][cell[1]]['adjacent_mines'] = 0\n",
    "                self.board[cell[0]][cell[1]]['adjacent_mines'] = self.board[cell[0]][cell[1]]['adjacent_mines'] + 1\n",
    "                \n",
    "    def __init__(self, dim, number_of_mines):\n",
    "        self.mines = []\n",
    "        self.board = [ [] for d in range(dim)]\n",
    "        for r in self.board:\n",
    "            for i in range(dim):\n",
    "                r.append({'state': 'empty'})\n",
    "        for m in range(number_of_mines):\n",
    "            x,y = (random.randint(0,dim-1),random.randint(0,dim-1))\n",
    "            self.mines.append((x,y))\n",
    "            self.board[y][x]['state'] = 'armed'\n",
    "        self.compute_mine_adjacency()\n",
    "    \n",
    "    def show(self):\n",
    "        for row in self.board:\n",
    "            print([Minesweeper.grid_repr[item['state'], item['adjacent_mines']] for item in row])\n",
    "        print(self.mines)"
   ]
  },
  {
   "cell_type": "code",
   "execution_count": 40,
   "metadata": {
    "collapsed": true
   },
   "outputs": [],
   "source": [
    "mine03 = Minesweeper(4,2)"
   ]
  },
  {
   "cell_type": "code",
   "execution_count": 64,
   "metadata": {
    "collapsed": false
   },
   "outputs": [],
   "source": [
    "class Minesweeper(object):\n",
    "    grid_repr = {'empty': 'X', 'uncovered': '.', 'marked': 'M', 'armed': '*'}\n",
    "    def compute_mine_adjacency(self):\n",
    "        for mine in self.mines:\n",
    "            for cell in get_neighbors(mine[0], mine[1], len(self.board)):\n",
    "                self.board[cell[0]][cell[1]]['adjacent_mines'] = self.board[cell[0]][cell[1]]['adjacent_mines'] + 1\n",
    "                \n",
    "    def __init__(self, dim, number_of_mines):\n",
    "        self.mines = []\n",
    "        self.board = [ [] for d in range(dim)]\n",
    "        for r in self.board:\n",
    "            for i in range(dim):\n",
    "                r.append({'state': 'empty', 'adjacent_mines': 0})\n",
    "        for m in range(number_of_mines):\n",
    "            x,y = (random.randint(0,dim-1),random.randint(0,dim-1))\n",
    "            self.mines.append((x,y))\n",
    "            self.board[x][y]['state'] = 'armed'\n",
    "        self.compute_mine_adjacency()\n",
    "    \n",
    "    def show(self):\n",
    "        for row in self.board:\n",
    "            print([Minesweeper.grid_repr[item['state']] for item in row])\n",
    "            \n",
    "        for row in self.board:\n",
    "            print([item['adjacent_mines'] for item in row])\n",
    "\n",
    "        print(self.mines)"
   ]
  },
  {
   "cell_type": "code",
   "execution_count": 58,
   "metadata": {
    "collapsed": false
   },
   "outputs": [
    {
     "name": "stdout",
     "output_type": "stream",
     "text": [
      "r  0 i 1\n",
      "c  0\n",
      "c  1\n",
      "c  2\n",
      "r  1 i 1\n",
      "c  0\n",
      "c  1\n",
      "c  2\n",
      "r  2 i 1\n",
      "c  0\n",
      "c  1\n",
      "c  2\n",
      "r  2 i 3\n",
      "c  1\n",
      "c  2\n",
      "c  3\n",
      "r  3 i 3\n",
      "c  1\n",
      "c  2\n",
      "c  3\n",
      "r  4 i 3\n",
      "c  1\n",
      "c  2\n",
      "c  3\n"
     ]
    }
   ],
   "source": [
    "mine03 = Minesweeper(4,2)"
   ]
  },
  {
   "cell_type": "code",
   "execution_count": 59,
   "metadata": {
    "collapsed": false
   },
   "outputs": [
    {
     "name": "stdout",
     "output_type": "stream",
     "text": [
      "[1, 1, 1, 0]\n",
      "[1, 0, 1, 0]\n",
      "[1, 2, 2, 1]\n",
      "[0, 1, 0, 1]\n",
      "[(1, 1), (3, 2)]\n"
     ]
    }
   ],
   "source": [
    "mine03.show()"
   ]
  },
  {
   "cell_type": "code",
   "execution_count": 65,
   "metadata": {
    "collapsed": false
   },
   "outputs": [
    {
     "name": "stdout",
     "output_type": "stream",
     "text": [
      "r  2 i 3\n",
      "c  3\n",
      "c  4\n",
      "c  5\n",
      "r  3 i 3\n",
      "c  3\n",
      "c  4\n",
      "c  5\n",
      "r  4 i 3\n",
      "c  3\n",
      "c  4\n",
      "c  5\n",
      "r  2 i 3\n",
      "c  0\n",
      "c  1\n",
      "c  2\n",
      "r  3 i 3\n",
      "c  0\n",
      "c  1\n",
      "c  2\n",
      "r  4 i 3\n",
      "c  0\n",
      "c  1\n",
      "c  2\n",
      "r  1 i 2\n",
      "c  2\n",
      "c  3\n",
      "c  4\n",
      "r  2 i 2\n",
      "c  2\n",
      "c  3\n",
      "c  4\n",
      "r  3 i 2\n",
      "c  2\n",
      "c  3\n",
      "c  4\n"
     ]
    }
   ],
   "source": [
    "mine04 = Minesweeper(5, 3)"
   ]
  },
  {
   "cell_type": "code",
   "execution_count": 62,
   "metadata": {
    "collapsed": false
   },
   "outputs": [
    {
     "name": "stdout",
     "output_type": "stream",
     "text": [
      "['X', 'X', '*', 'X', 'X']\n",
      "['*', 'X', 'X', 'X', 'X']\n",
      "['X', 'X', 'X', 'X', 'X']\n",
      "['X', 'X', 'X', '*', 'X']\n",
      "['X', 'X', 'X', 'X', 'X']\n",
      "[1, 0, 1, 0, 0]\n",
      "[2, 2, 1, 0, 0]\n",
      "[0, 1, 1, 1, 1]\n",
      "[1, 1, 1, 0, 1]\n",
      "[0, 0, 1, 1, 1]\n",
      "[(2, 0), (0, 1), (3, 3)]\n"
     ]
    }
   ],
   "source": [
    "mine04.show()"
   ]
  },
  {
   "cell_type": "code",
   "execution_count": 66,
   "metadata": {
    "collapsed": false
   },
   "outputs": [
    {
     "name": "stdout",
     "output_type": "stream",
     "text": [
      "['X', 'X', 'X', 'X', 'X']\n",
      "['X', 'X', 'X', 'X', 'X']\n",
      "['X', 'X', 'X', '*', 'X']\n",
      "['X', '*', 'X', 'X', '*']\n",
      "['X', 'X', 'X', 'X', 'X']\n",
      "[0, 0, 0, 0, 0]\n",
      "[0, 0, 1, 1, 1]\n",
      "[1, 1, 2, 1, 2]\n",
      "[1, 0, 2, 2, 1]\n",
      "[1, 1, 1, 1, 1]\n",
      "[(3, 4), (3, 1), (2, 3)]\n"
     ]
    }
   ],
   "source": [
    "mine04.show()"
   ]
  },
  {
   "cell_type": "code",
   "execution_count": 67,
   "metadata": {
    "collapsed": true
   },
   "outputs": [],
   "source": [
    "class MSCell(object):\n",
    "    state_repr = {'empty': 'X', 'uncovered': '.', 'marked': 'M', 'armed': '*'}\n",
    "    def __init__(self, state = 'empty', adjacent_mines = 0):\n",
    "        self.state = state\n",
    "        self.adjacent_mines = 0"
   ]
  },
  {
   "cell_type": "code",
   "execution_count": 94,
   "metadata": {
    "collapsed": true
   },
   "outputs": [],
   "source": [
    "class Minesweeper(object):\n",
    "    grid_repr = {'empty': 'X', 'uncovered': '.', 'marked': 'M', 'armed': '*'}\n",
    "    def compute_mine_adjacency(self):\n",
    "        for mine in self.mines:\n",
    "            for cell in get_neighbors(mine[0], mine[1], len(self.board)):\n",
    "                self.board[cell[0]][cell[1]]['adjacent_mines'] = self.board[cell[0]][cell[1]]['adjacent_mines'] + 1\n",
    "                \n",
    "    def __init__(self, dim, number_of_mines):\n",
    "        self.mines = []\n",
    "        self.board = [ [] for d in range(dim)]\n",
    "        for r in self.board:\n",
    "            for i in range(dim):\n",
    "                r.append({'state': 'empty', 'adjacent_mines': 0})\n",
    "        for m in range(number_of_mines):\n",
    "            x,y = (random.randint(0,dim-1),random.randint(0,dim-1))\n",
    "            self.mines.append((x,y))\n",
    "            self.board[x][y]['state'] = 'armed'\n",
    "        self.compute_mine_adjacency()\n",
    "    \n",
    "    def show(self):\n",
    "        for row in self.board:\n",
    "            print([Minesweeper.grid_repr[item['state']] for item in row])\n",
    "            \n",
    "        for row in self.board:\n",
    "            print([item['adjacent_mines'] for item in row])\n",
    "\n",
    "        print(self.mines)\n",
    "        \n",
    "    def uncover_cell(self, x, y):\n",
    "        if self.board[y][x]['state'] == 'empty':\n",
    "            self.board[y][x]['state'] = 'uncovered'\n",
    "            self.uncover_empty_neighbors(y,x)\n",
    "    \n",
    "    def uncover_empty_neighbors(self, i, j):\n",
    "        for r,c in get_neighbors(i,j, len(self.board)):\n",
    "            if self.board[r][c]['state'] == 'empty':\n",
    "                self.board[r][c]['state'] = 'uncovered'\n",
    "                self.uncover_empty_neighbors(r,c)"
   ]
  },
  {
   "cell_type": "code",
   "execution_count": 70,
   "metadata": {
    "collapsed": false
   },
   "outputs": [
    {
     "name": "stdout",
     "output_type": "stream",
     "text": [
      "r  1 i 2\n",
      "c  6\n",
      "c  7\n",
      "c  8\n",
      "r  2 i 2\n",
      "c  6\n",
      "c  7\n",
      "c  8\n",
      "r  3 i 2\n",
      "c  6\n",
      "c  7\n",
      "c  8\n",
      "r  6 i 7\n",
      "c  1\n",
      "c  2\n",
      "c  3\n",
      "r  7 i 7\n",
      "c  1\n",
      "c  2\n",
      "c  3\n",
      "r  8 i 7\n",
      "c  1\n",
      "c  2\n",
      "c  3\n",
      "r  4 i 5\n",
      "c  4\n",
      "c  5\n",
      "c  6\n",
      "r  5 i 5\n",
      "c  4\n",
      "c  5\n",
      "c  6\n",
      "r  6 i 5\n",
      "c  4\n",
      "c  5\n",
      "c  6\n",
      "r  0 i 1\n",
      "c  1\n",
      "c  2\n",
      "c  3\n",
      "r  1 i 1\n",
      "c  1\n",
      "c  2\n",
      "c  3\n",
      "r  2 i 1\n",
      "c  1\n",
      "c  2\n",
      "c  3\n",
      "r  -1 i 0\n",
      "c  0\n",
      "c  1\n",
      "c  2\n",
      "r  0 i 0\n",
      "c  0\n",
      "c  1\n",
      "c  2\n",
      "r  1 i 0\n",
      "c  0\n",
      "c  1\n",
      "c  2\n"
     ]
    }
   ],
   "source": [
    "mine05 = Minesweeper(10, 5)"
   ]
  },
  {
   "cell_type": "code",
   "execution_count": 71,
   "metadata": {
    "collapsed": true
   },
   "outputs": [],
   "source": [
    "def get_neighbors(i, j, n):\n",
    "    def within_bounds(row, col):\n",
    "        return (row,col) != (i,j) and row >= 0 and row < n and col >= 0 and col < n\n",
    "    neighbors = []\n",
    "    for r in range(i-1, i+2, 1):\n",
    "#         print('r ',r, 'i', i)\n",
    "        for c in range(j-1, j+2, 1):\n",
    "#             print('c ', c)\n",
    "            if within_bounds(r,c):\n",
    "                neighbors.append((r,c))\n",
    "    return neighbors"
   ]
  },
  {
   "cell_type": "code",
   "execution_count": 72,
   "metadata": {
    "collapsed": true
   },
   "outputs": [],
   "source": [
    "mine05 = Minesweeper(10, 5)"
   ]
  },
  {
   "cell_type": "code",
   "execution_count": 73,
   "metadata": {
    "collapsed": false
   },
   "outputs": [
    {
     "name": "stdout",
     "output_type": "stream",
     "text": [
      "['X', 'X', 'X', 'X', 'X', 'X', 'X', 'X', 'X', 'X']\n",
      "['X', 'X', 'X', 'X', '*', 'X', 'X', 'X', 'X', 'X']\n",
      "['X', '*', 'X', 'X', 'X', 'X', 'X', 'X', 'X', 'X']\n",
      "['X', 'X', 'X', 'X', 'X', 'X', 'X', 'X', 'X', 'X']\n",
      "['X', 'X', 'X', 'X', 'X', '*', 'X', 'X', 'X', 'X']\n",
      "['X', 'X', 'X', 'X', 'X', 'X', 'X', 'X', 'X', 'X']\n",
      "['X', '*', 'X', '*', 'X', 'X', 'X', 'X', 'X', 'X']\n",
      "['X', 'X', 'X', 'X', 'X', 'X', 'X', 'X', 'X', 'X']\n",
      "['X', 'X', 'X', 'X', 'X', 'X', 'X', 'X', 'X', 'X']\n",
      "['X', 'X', 'X', 'X', 'X', 'X', 'X', 'X', 'X', 'X']\n",
      "[0, 0, 0, 1, 1, 1, 0, 0, 0, 0]\n",
      "[1, 1, 1, 1, 0, 1, 0, 0, 0, 0]\n",
      "[1, 0, 1, 1, 1, 1, 0, 0, 0, 0]\n",
      "[1, 1, 1, 0, 1, 1, 1, 0, 0, 0]\n",
      "[0, 0, 0, 0, 1, 0, 1, 0, 0, 0]\n",
      "[1, 1, 2, 1, 2, 1, 1, 0, 0, 0]\n",
      "[1, 0, 2, 0, 1, 0, 0, 0, 0, 0]\n",
      "[1, 1, 2, 1, 1, 0, 0, 0, 0, 0]\n",
      "[0, 0, 0, 0, 0, 0, 0, 0, 0, 0]\n",
      "[0, 0, 0, 0, 0, 0, 0, 0, 0, 0]\n",
      "[(6, 3), (1, 4), (2, 1), (6, 1), (4, 5)]\n"
     ]
    }
   ],
   "source": [
    "mine05.show()"
   ]
  },
  {
   "cell_type": "code",
   "execution_count": 74,
   "metadata": {
    "collapsed": false
   },
   "outputs": [
    {
     "ename": "TypeError",
     "evalue": "uncover_empty_neighbors() takes 3 positional arguments but 4 were given",
     "output_type": "error",
     "traceback": [
      "\u001b[0;31m---------------------------------------------------------------------------\u001b[0m",
      "\u001b[0;31mTypeError\u001b[0m                                 Traceback (most recent call last)",
      "\u001b[0;32m<ipython-input-74-5e4e8143ca13>\u001b[0m in \u001b[0;36m<module>\u001b[0;34m()\u001b[0m\n\u001b[0;32m----> 1\u001b[0;31m \u001b[0mmine05\u001b[0m\u001b[0;34m.\u001b[0m\u001b[0muncover_cell\u001b[0m\u001b[0;34m(\u001b[0m\u001b[0;36m0\u001b[0m\u001b[0;34m,\u001b[0m\u001b[0;36m4\u001b[0m\u001b[0;34m)\u001b[0m\u001b[0;34m\u001b[0m\u001b[0m\n\u001b[0m",
      "\u001b[0;32m<ipython-input-69-9acdf35ed098>\u001b[0m in \u001b[0;36muncover_cell\u001b[0;34m(self, x, y)\u001b[0m\n\u001b[1;32m     29\u001b[0m     \u001b[0;32mdef\u001b[0m \u001b[0muncover_cell\u001b[0m\u001b[0;34m(\u001b[0m\u001b[0mself\u001b[0m\u001b[0;34m,\u001b[0m \u001b[0mx\u001b[0m\u001b[0;34m,\u001b[0m \u001b[0my\u001b[0m\u001b[0;34m)\u001b[0m\u001b[0;34m:\u001b[0m\u001b[0;34m\u001b[0m\u001b[0m\n\u001b[1;32m     30\u001b[0m         \u001b[0;32mif\u001b[0m \u001b[0mself\u001b[0m\u001b[0;34m.\u001b[0m\u001b[0mboard\u001b[0m\u001b[0;34m[\u001b[0m\u001b[0my\u001b[0m\u001b[0;34m]\u001b[0m\u001b[0;34m[\u001b[0m\u001b[0mx\u001b[0m\u001b[0;34m]\u001b[0m\u001b[0;34m[\u001b[0m\u001b[0;34m'state'\u001b[0m\u001b[0;34m]\u001b[0m \u001b[0;34m==\u001b[0m \u001b[0;34m'empty'\u001b[0m\u001b[0;34m:\u001b[0m\u001b[0;34m\u001b[0m\u001b[0m\n\u001b[0;32m---> 31\u001b[0;31m             \u001b[0mself\u001b[0m\u001b[0;34m.\u001b[0m\u001b[0muncover_empty_neighbors\u001b[0m\u001b[0;34m(\u001b[0m\u001b[0my\u001b[0m\u001b[0;34m,\u001b[0m\u001b[0mx\u001b[0m\u001b[0;34m)\u001b[0m\u001b[0;34m\u001b[0m\u001b[0m\n\u001b[0m\u001b[1;32m     32\u001b[0m \u001b[0;34m\u001b[0m\u001b[0m\n\u001b[1;32m     33\u001b[0m     \u001b[0;32mdef\u001b[0m \u001b[0muncover_empty_neighbors\u001b[0m\u001b[0;34m(\u001b[0m\u001b[0mself\u001b[0m\u001b[0;34m,\u001b[0m \u001b[0mi\u001b[0m\u001b[0;34m,\u001b[0m \u001b[0mj\u001b[0m\u001b[0;34m)\u001b[0m\u001b[0;34m:\u001b[0m\u001b[0;34m\u001b[0m\u001b[0m\n",
      "\u001b[0;32m<ipython-input-69-9acdf35ed098>\u001b[0m in \u001b[0;36muncover_empty_neighbors\u001b[0;34m(self, i, j)\u001b[0m\n\u001b[1;32m     35\u001b[0m             \u001b[0;32mif\u001b[0m \u001b[0mself\u001b[0m\u001b[0;34m.\u001b[0m\u001b[0mboard\u001b[0m\u001b[0;34m[\u001b[0m\u001b[0mr\u001b[0m\u001b[0;34m]\u001b[0m\u001b[0;34m[\u001b[0m\u001b[0mc\u001b[0m\u001b[0;34m]\u001b[0m\u001b[0;34m[\u001b[0m\u001b[0;34m'state'\u001b[0m\u001b[0;34m]\u001b[0m \u001b[0;34m==\u001b[0m \u001b[0;34m'empty'\u001b[0m\u001b[0;34m:\u001b[0m\u001b[0;34m\u001b[0m\u001b[0m\n\u001b[1;32m     36\u001b[0m                 \u001b[0mself\u001b[0m\u001b[0;34m.\u001b[0m\u001b[0mboard\u001b[0m\u001b[0;34m[\u001b[0m\u001b[0mr\u001b[0m\u001b[0;34m]\u001b[0m\u001b[0;34m[\u001b[0m\u001b[0mc\u001b[0m\u001b[0;34m]\u001b[0m\u001b[0;34m[\u001b[0m\u001b[0;34m'state'\u001b[0m\u001b[0;34m]\u001b[0m \u001b[0;34m=\u001b[0m \u001b[0;34m'uncovered'\u001b[0m\u001b[0;34m\u001b[0m\u001b[0m\n\u001b[0;32m---> 37\u001b[0;31m                 \u001b[0mself\u001b[0m\u001b[0;34m.\u001b[0m\u001b[0muncover_empty_neighbors\u001b[0m\u001b[0;34m(\u001b[0m\u001b[0mr\u001b[0m\u001b[0;34m,\u001b[0m\u001b[0mc\u001b[0m\u001b[0;34m,\u001b[0m \u001b[0mlen\u001b[0m\u001b[0;34m(\u001b[0m\u001b[0mself\u001b[0m\u001b[0;34m.\u001b[0m\u001b[0mboard\u001b[0m\u001b[0;34m)\u001b[0m\u001b[0;34m)\u001b[0m\u001b[0;34m\u001b[0m\u001b[0m\n\u001b[0m",
      "\u001b[0;31mTypeError\u001b[0m: uncover_empty_neighbors() takes 3 positional arguments but 4 were given"
     ]
    }
   ],
   "source": [
    "mine05.uncover_cell(0,4)"
   ]
  },
  {
   "cell_type": "code",
   "execution_count": 76,
   "metadata": {
    "collapsed": true
   },
   "outputs": [],
   "source": [
    "mine05 = Minesweeper(10, 10)"
   ]
  },
  {
   "cell_type": "code",
   "execution_count": 77,
   "metadata": {
    "collapsed": false
   },
   "outputs": [
    {
     "name": "stdout",
     "output_type": "stream",
     "text": [
      "['X', 'X', 'X', 'X', 'X', 'X', '*', 'X', 'X', 'X']\n",
      "['X', '*', 'X', '*', 'X', 'X', '*', '*', 'X', 'X']\n",
      "['X', 'X', 'X', 'X', 'X', '*', 'X', 'X', 'X', 'X']\n",
      "['X', 'X', 'X', 'X', 'X', 'X', 'X', 'X', 'X', 'X']\n",
      "['X', '*', 'X', '*', 'X', 'X', 'X', 'X', 'X', 'X']\n",
      "['X', 'X', 'X', 'X', 'X', 'X', 'X', 'X', 'X', 'X']\n",
      "['X', 'X', 'X', 'X', 'X', 'X', 'X', 'X', 'X', 'X']\n",
      "['X', '*', 'X', 'X', 'X', 'X', 'X', 'X', 'X', 'X']\n",
      "['X', 'X', 'X', 'X', '*', 'X', 'X', 'X', 'X', 'X']\n",
      "['X', 'X', 'X', 'X', 'X', 'X', 'X', 'X', 'X', 'X']\n",
      "[1, 1, 2, 1, 1, 2, 2, 3, 1, 0]\n",
      "[1, 0, 2, 0, 2, 3, 3, 2, 1, 0]\n",
      "[1, 1, 2, 1, 2, 1, 3, 2, 1, 0]\n",
      "[1, 1, 2, 1, 2, 1, 1, 0, 0, 0]\n",
      "[1, 0, 2, 0, 1, 0, 0, 0, 0, 0]\n",
      "[1, 1, 2, 1, 1, 0, 0, 0, 0, 0]\n",
      "[1, 1, 1, 0, 0, 0, 0, 0, 0, 0]\n",
      "[1, 0, 1, 1, 1, 1, 0, 0, 0, 0]\n",
      "[1, 1, 1, 1, 0, 1, 0, 0, 0, 0]\n",
      "[0, 0, 0, 1, 1, 1, 0, 0, 0, 0]\n",
      "[(2, 5), (7, 1), (1, 7), (1, 6), (1, 3), (8, 4), (0, 6), (4, 3), (4, 1), (1, 1)]\n"
     ]
    }
   ],
   "source": [
    "mine05.show()"
   ]
  },
  {
   "cell_type": "code",
   "execution_count": 78,
   "metadata": {
    "collapsed": true
   },
   "outputs": [],
   "source": [
    "mine05.uncover_cell(0,4)"
   ]
  },
  {
   "cell_type": "code",
   "execution_count": 79,
   "metadata": {
    "collapsed": false
   },
   "outputs": [
    {
     "name": "stdout",
     "output_type": "stream",
     "text": [
      "['.', '.', '.', '.', '.', '.', '*', '.', '.', '.']\n",
      "['.', '*', '.', '*', '.', '.', '*', '*', '.', '.']\n",
      "['.', '.', '.', '.', '.', '*', '.', '.', '.', '.']\n",
      "['.', '.', '.', '.', '.', '.', '.', '.', '.', '.']\n",
      "['.', '*', '.', '*', '.', '.', '.', '.', '.', '.']\n",
      "['.', '.', '.', '.', '.', '.', '.', '.', '.', '.']\n",
      "['.', '.', '.', '.', '.', '.', '.', '.', '.', '.']\n",
      "['.', '*', '.', '.', '.', '.', '.', '.', '.', '.']\n",
      "['.', '.', '.', '.', '*', '.', '.', '.', '.', '.']\n",
      "['.', '.', '.', '.', '.', '.', '.', '.', '.', '.']\n",
      "[1, 1, 2, 1, 1, 2, 2, 3, 1, 0]\n",
      "[1, 0, 2, 0, 2, 3, 3, 2, 1, 0]\n",
      "[1, 1, 2, 1, 2, 1, 3, 2, 1, 0]\n",
      "[1, 1, 2, 1, 2, 1, 1, 0, 0, 0]\n",
      "[1, 0, 2, 0, 1, 0, 0, 0, 0, 0]\n",
      "[1, 1, 2, 1, 1, 0, 0, 0, 0, 0]\n",
      "[1, 1, 1, 0, 0, 0, 0, 0, 0, 0]\n",
      "[1, 0, 1, 1, 1, 1, 0, 0, 0, 0]\n",
      "[1, 1, 1, 1, 0, 1, 0, 0, 0, 0]\n",
      "[0, 0, 0, 1, 1, 1, 0, 0, 0, 0]\n",
      "[(2, 5), (7, 1), (1, 7), (1, 6), (1, 3), (8, 4), (0, 6), (4, 3), (4, 1), (1, 1)]\n"
     ]
    }
   ],
   "source": [
    "mine05.show()"
   ]
  },
  {
   "cell_type": "code",
   "execution_count": 80,
   "metadata": {
    "collapsed": true
   },
   "outputs": [],
   "source": [
    "mine06 = Minesweeper(10, 20)"
   ]
  },
  {
   "cell_type": "code",
   "execution_count": 81,
   "metadata": {
    "collapsed": false
   },
   "outputs": [
    {
     "name": "stdout",
     "output_type": "stream",
     "text": [
      "['X', 'X', 'X', 'X', '*', 'X', 'X', 'X', 'X', 'X']\n",
      "['X', '*', 'X', 'X', 'X', '*', '*', '*', 'X', 'X']\n",
      "['X', '*', 'X', 'X', 'X', 'X', 'X', 'X', 'X', 'X']\n",
      "['X', 'X', 'X', 'X', 'X', '*', 'X', 'X', 'X', 'X']\n",
      "['X', 'X', 'X', 'X', 'X', 'X', '*', 'X', 'X', '*']\n",
      "['X', 'X', 'X', '*', 'X', 'X', 'X', 'X', 'X', 'X']\n",
      "['X', 'X', 'X', '*', '*', '*', 'X', 'X', '*', 'X']\n",
      "['X', 'X', 'X', 'X', '*', 'X', 'X', 'X', 'X', 'X']\n",
      "['*', 'X', 'X', 'X', 'X', 'X', 'X', 'X', 'X', 'X']\n",
      "['X', '*', 'X', 'X', 'X', 'X', '*', 'X', '*', 'X']\n",
      "[1, 1, 1, 1, 1, 3, 3, 2, 1, 0]\n",
      "[2, 1, 2, 1, 2, 2, 2, 1, 1, 0]\n",
      "[2, 1, 2, 0, 2, 3, 4, 2, 1, 0]\n",
      "[1, 1, 1, 0, 1, 1, 2, 1, 1, 1]\n",
      "[0, 0, 1, 1, 2, 2, 1, 1, 1, 0]\n",
      "[0, 0, 2, 2, 4, 3, 2, 2, 2, 2]\n",
      "[0, 0, 2, 3, 4, 2, 1, 1, 0, 1]\n",
      "[1, 1, 1, 3, 3, 3, 1, 1, 1, 1]\n",
      "[1, 2, 1, 1, 1, 3, 2, 3, 1, 1]\n",
      "[2, 1, 1, 0, 0, 2, 0, 3, 0, 1]\n",
      "[(4, 9), (1, 1), (9, 8), (3, 5), (5, 3), (2, 1), (0, 4), (1, 7), (1, 5), (4, 6), (6, 5), (9, 6), (8, 0), (9, 1), (7, 4), (6, 8), (6, 4), (1, 6), (6, 3), (9, 6)]\n"
     ]
    }
   ],
   "source": [
    "mine06.show()"
   ]
  },
  {
   "cell_type": "code",
   "execution_count": 95,
   "metadata": {
    "collapsed": true
   },
   "outputs": [],
   "source": [
    "# Trying to verify that adjacent empty cells are being uncovered correctly\n",
    "class MinesweeperGenerationalUncover(Minesweeper):\n",
    "    def __init__(self, dim, number_of_mines):\n",
    "        Minesweeper.__init__(self, dim, number_of_mines)\n",
    "        \n",
    "    def uncover_empty_neighbors(self, i, j, depth=1):\n",
    "        if depth == 0:\n",
    "            return\n",
    "        for r,c in get_neighbors(i,j, len(self.board)):\n",
    "            if self.board[r][c]['state'] == 'empty':\n",
    "                self.board[r][c]['state'] = 'uncovered'\n",
    "                self.uncover_empty_neighbors(r,c, depth-1)\n",
    "        "
   ]
  },
  {
   "cell_type": "code",
   "execution_count": 83,
   "metadata": {
    "collapsed": true
   },
   "outputs": [],
   "source": [
    "mine07 = MinesweeperGenerationalUncover(10, 15)"
   ]
  },
  {
   "cell_type": "code",
   "execution_count": 84,
   "metadata": {
    "collapsed": false
   },
   "outputs": [
    {
     "name": "stdout",
     "output_type": "stream",
     "text": [
      "['X', 'X', 'X', 'X', '*', 'X', 'X', '*', 'X', 'X']\n",
      "['X', 'X', 'X', 'X', 'X', 'X', '*', '*', 'X', 'X']\n",
      "['X', '*', 'X', 'X', 'X', 'X', 'X', 'X', 'X', 'X']\n",
      "['X', 'X', 'X', 'X', 'X', '*', 'X', 'X', '*', 'X']\n",
      "['X', 'X', 'X', 'X', 'X', 'X', 'X', 'X', 'X', 'X']\n",
      "['X', 'X', 'X', '*', '*', 'X', 'X', 'X', '*', 'X']\n",
      "['X', 'X', 'X', 'X', 'X', 'X', 'X', 'X', 'X', 'X']\n",
      "['X', 'X', 'X', '*', 'X', 'X', 'X', 'X', 'X', 'X']\n",
      "['X', 'X', '*', 'X', '*', 'X', 'X', 'X', 'X', 'X']\n",
      "['X', 'X', 'X', 'X', 'X', 'X', 'X', 'X', '*', 'X']\n",
      "[0, 0, 0, 2, 0, 3, 3, 2, 2, 0]\n",
      "[1, 1, 1, 2, 2, 3, 2, 2, 2, 0]\n",
      "[1, 0, 1, 0, 1, 2, 3, 3, 2, 1]\n",
      "[1, 1, 1, 0, 1, 0, 1, 1, 0, 1]\n",
      "[0, 0, 1, 2, 3, 2, 1, 2, 2, 2]\n",
      "[0, 0, 1, 1, 1, 1, 0, 1, 0, 1]\n",
      "[0, 0, 2, 3, 3, 1, 0, 1, 1, 1]\n",
      "[0, 1, 2, 2, 2, 1, 0, 0, 0, 0]\n",
      "[0, 1, 1, 3, 1, 1, 0, 1, 1, 1]\n",
      "[0, 1, 1, 2, 1, 1, 0, 1, 0, 1]\n",
      "[(0, 7), (5, 4), (5, 8), (8, 4), (2, 1), (1, 6), (5, 3), (3, 8), (9, 8), (8, 2), (0, 4), (0, 4), (7, 3), (3, 5), (1, 7)]\n"
     ]
    }
   ],
   "source": [
    "mine07.show()"
   ]
  },
  {
   "cell_type": "code",
   "execution_count": 85,
   "metadata": {
    "collapsed": true
   },
   "outputs": [],
   "source": [
    "mine07.uncover_cell(0,0)"
   ]
  },
  {
   "cell_type": "code",
   "execution_count": 86,
   "metadata": {
    "collapsed": false
   },
   "outputs": [
    {
     "name": "stdout",
     "output_type": "stream",
     "text": [
      "['.', '.', '.', 'X', '*', 'X', 'X', '*', 'X', 'X']\n",
      "['.', '.', '.', 'X', 'X', 'X', '*', '*', 'X', 'X']\n",
      "['X', '*', 'X', 'X', 'X', 'X', 'X', 'X', 'X', 'X']\n",
      "['X', 'X', 'X', 'X', 'X', '*', 'X', 'X', '*', 'X']\n",
      "['X', 'X', 'X', 'X', 'X', 'X', 'X', 'X', 'X', 'X']\n",
      "['X', 'X', 'X', '*', '*', 'X', 'X', 'X', '*', 'X']\n",
      "['X', 'X', 'X', 'X', 'X', 'X', 'X', 'X', 'X', 'X']\n",
      "['X', 'X', 'X', '*', 'X', 'X', 'X', 'X', 'X', 'X']\n",
      "['X', 'X', '*', 'X', '*', 'X', 'X', 'X', 'X', 'X']\n",
      "['X', 'X', 'X', 'X', 'X', 'X', 'X', 'X', '*', 'X']\n",
      "[0, 0, 0, 2, 0, 3, 3, 2, 2, 0]\n",
      "[1, 1, 1, 2, 2, 3, 2, 2, 2, 0]\n",
      "[1, 0, 1, 0, 1, 2, 3, 3, 2, 1]\n",
      "[1, 1, 1, 0, 1, 0, 1, 1, 0, 1]\n",
      "[0, 0, 1, 2, 3, 2, 1, 2, 2, 2]\n",
      "[0, 0, 1, 1, 1, 1, 0, 1, 0, 1]\n",
      "[0, 0, 2, 3, 3, 1, 0, 1, 1, 1]\n",
      "[0, 1, 2, 2, 2, 1, 0, 0, 0, 0]\n",
      "[0, 1, 1, 3, 1, 1, 0, 1, 1, 1]\n",
      "[0, 1, 1, 2, 1, 1, 0, 1, 0, 1]\n",
      "[(0, 7), (5, 4), (5, 8), (8, 4), (2, 1), (1, 6), (5, 3), (3, 8), (9, 8), (8, 2), (0, 4), (0, 4), (7, 3), (3, 5), (1, 7)]\n"
     ]
    }
   ],
   "source": [
    "mine07.show()"
   ]
  },
  {
   "cell_type": "code",
   "execution_count": 88,
   "metadata": {
    "collapsed": true
   },
   "outputs": [],
   "source": [
    "mine08 = MinesweeperGenerationalUncover(10, 15)"
   ]
  },
  {
   "cell_type": "code",
   "execution_count": 89,
   "metadata": {
    "collapsed": false
   },
   "outputs": [
    {
     "name": "stdout",
     "output_type": "stream",
     "text": [
      "['X', 'X', 'X', '*', 'X', 'X', 'X', 'X', 'X', 'X']\n",
      "['X', 'X', 'X', 'X', 'X', '*', 'X', 'X', 'X', 'X']\n",
      "['X', 'X', 'X', 'X', 'X', 'X', 'X', 'X', 'X', '*']\n",
      "['X', 'X', 'X', 'X', 'X', 'X', '*', 'X', 'X', 'X']\n",
      "['X', 'X', 'X', 'X', 'X', 'X', 'X', 'X', 'X', 'X']\n",
      "['X', 'X', 'X', 'X', 'X', 'X', 'X', 'X', 'X', '*']\n",
      "['X', 'X', '*', '*', 'X', 'X', 'X', 'X', 'X', 'X']\n",
      "['*', 'X', 'X', 'X', '*', '*', 'X', 'X', 'X', '*']\n",
      "['X', 'X', '*', 'X', 'X', 'X', 'X', 'X', 'X', 'X']\n",
      "['X', 'X', 'X', 'X', 'X', 'X', 'X', 'X', 'X', 'X']\n",
      "[0, 0, 1, 0, 3, 2, 2, 0, 0, 0]\n",
      "[0, 0, 1, 1, 3, 0, 2, 0, 1, 1]\n",
      "[0, 0, 0, 0, 2, 3, 3, 1, 1, 0]\n",
      "[0, 0, 0, 0, 0, 1, 0, 1, 1, 1]\n",
      "[0, 0, 0, 0, 0, 1, 1, 1, 1, 1]\n",
      "[0, 1, 2, 2, 1, 0, 0, 0, 1, 0]\n",
      "[2, 3, 1, 3, 4, 3, 1, 0, 2, 2]\n",
      "[0, 4, 3, 5, 2, 2, 1, 0, 1, 0]\n",
      "[2, 3, 0, 3, 3, 3, 1, 0, 1, 1]\n",
      "[0, 1, 1, 1, 0, 0, 0, 0, 0, 0]\n",
      "[(7, 9), (0, 3), (6, 2), (1, 5), (2, 9), (8, 2), (7, 4), (7, 0), (1, 5), (7, 5), (6, 3), (7, 0), (7, 4), (3, 6), (5, 9)]\n"
     ]
    }
   ],
   "source": [
    "mine08.show()"
   ]
  },
  {
   "cell_type": "code",
   "execution_count": 90,
   "metadata": {
    "collapsed": true
   },
   "outputs": [],
   "source": [
    "mine08.uncover_cell(0,0)"
   ]
  },
  {
   "cell_type": "code",
   "execution_count": 91,
   "metadata": {
    "collapsed": false
   },
   "outputs": [
    {
     "name": "stdout",
     "output_type": "stream",
     "text": [
      "['X', '.', 'X', '*', 'X', 'X', 'X', 'X', 'X', 'X']\n",
      "['.', '.', 'X', 'X', 'X', '*', 'X', 'X', 'X', 'X']\n",
      "['X', 'X', 'X', 'X', 'X', 'X', 'X', 'X', 'X', '*']\n",
      "['X', 'X', 'X', 'X', 'X', 'X', '*', 'X', 'X', 'X']\n",
      "['X', 'X', 'X', 'X', 'X', 'X', 'X', 'X', 'X', 'X']\n",
      "['X', 'X', 'X', 'X', 'X', 'X', 'X', 'X', 'X', '*']\n",
      "['X', 'X', '*', '*', 'X', 'X', 'X', 'X', 'X', 'X']\n",
      "['*', 'X', 'X', 'X', '*', '*', 'X', 'X', 'X', '*']\n",
      "['X', 'X', '*', 'X', 'X', 'X', 'X', 'X', 'X', 'X']\n",
      "['X', 'X', 'X', 'X', 'X', 'X', 'X', 'X', 'X', 'X']\n",
      "[0, 0, 1, 0, 3, 2, 2, 0, 0, 0]\n",
      "[0, 0, 1, 1, 3, 0, 2, 0, 1, 1]\n",
      "[0, 0, 0, 0, 2, 3, 3, 1, 1, 0]\n",
      "[0, 0, 0, 0, 0, 1, 0, 1, 1, 1]\n",
      "[0, 0, 0, 0, 0, 1, 1, 1, 1, 1]\n",
      "[0, 1, 2, 2, 1, 0, 0, 0, 1, 0]\n",
      "[2, 3, 1, 3, 4, 3, 1, 0, 2, 2]\n",
      "[0, 4, 3, 5, 2, 2, 1, 0, 1, 0]\n",
      "[2, 3, 0, 3, 3, 3, 1, 0, 1, 1]\n",
      "[0, 1, 1, 1, 0, 0, 0, 0, 0, 0]\n",
      "[(7, 9), (0, 3), (6, 2), (1, 5), (2, 9), (8, 2), (7, 4), (7, 0), (1, 5), (7, 5), (6, 3), (7, 0), (7, 4), (3, 6), (5, 9)]\n"
     ]
    }
   ],
   "source": [
    "mine08.show()"
   ]
  },
  {
   "cell_type": "code",
   "execution_count": 92,
   "metadata": {
    "collapsed": true
   },
   "outputs": [],
   "source": [
    "mine08.uncover_cell(2,0)"
   ]
  },
  {
   "cell_type": "code",
   "execution_count": 93,
   "metadata": {
    "collapsed": false
   },
   "outputs": [
    {
     "name": "stdout",
     "output_type": "stream",
     "text": [
      "['X', '.', 'X', '*', 'X', 'X', 'X', 'X', 'X', 'X']\n",
      "['.', '.', '.', '.', 'X', '*', 'X', 'X', 'X', 'X']\n",
      "['X', 'X', 'X', 'X', 'X', 'X', 'X', 'X', 'X', '*']\n",
      "['X', 'X', 'X', 'X', 'X', 'X', '*', 'X', 'X', 'X']\n",
      "['X', 'X', 'X', 'X', 'X', 'X', 'X', 'X', 'X', 'X']\n",
      "['X', 'X', 'X', 'X', 'X', 'X', 'X', 'X', 'X', '*']\n",
      "['X', 'X', '*', '*', 'X', 'X', 'X', 'X', 'X', 'X']\n",
      "['*', 'X', 'X', 'X', '*', '*', 'X', 'X', 'X', '*']\n",
      "['X', 'X', '*', 'X', 'X', 'X', 'X', 'X', 'X', 'X']\n",
      "['X', 'X', 'X', 'X', 'X', 'X', 'X', 'X', 'X', 'X']\n",
      "[0, 0, 1, 0, 3, 2, 2, 0, 0, 0]\n",
      "[0, 0, 1, 1, 3, 0, 2, 0, 1, 1]\n",
      "[0, 0, 0, 0, 2, 3, 3, 1, 1, 0]\n",
      "[0, 0, 0, 0, 0, 1, 0, 1, 1, 1]\n",
      "[0, 0, 0, 0, 0, 1, 1, 1, 1, 1]\n",
      "[0, 1, 2, 2, 1, 0, 0, 0, 1, 0]\n",
      "[2, 3, 1, 3, 4, 3, 1, 0, 2, 2]\n",
      "[0, 4, 3, 5, 2, 2, 1, 0, 1, 0]\n",
      "[2, 3, 0, 3, 3, 3, 1, 0, 1, 1]\n",
      "[0, 1, 1, 1, 0, 0, 0, 0, 0, 0]\n",
      "[(7, 9), (0, 3), (6, 2), (1, 5), (2, 9), (8, 2), (7, 4), (7, 0), (1, 5), (7, 5), (6, 3), (7, 0), (7, 4), (3, 6), (5, 9)]\n"
     ]
    }
   ],
   "source": [
    "mine08.show()"
   ]
  },
  {
   "cell_type": "code",
   "execution_count": 96,
   "metadata": {
    "collapsed": true
   },
   "outputs": [],
   "source": [
    "mine09 = MinesweeperGenerationalUncover(10, 15)"
   ]
  },
  {
   "cell_type": "code",
   "execution_count": 97,
   "metadata": {
    "collapsed": false
   },
   "outputs": [
    {
     "name": "stdout",
     "output_type": "stream",
     "text": [
      "['X', 'X', 'X', 'X', 'X', 'X', 'X', 'X', 'X', 'X']\n",
      "['X', '*', 'X', 'X', 'X', 'X', 'X', 'X', 'X', 'X']\n",
      "['X', 'X', 'X', 'X', 'X', 'X', 'X', 'X', 'X', 'X']\n",
      "['X', 'X', 'X', 'X', 'X', 'X', 'X', 'X', 'X', 'X']\n",
      "['X', 'X', '*', 'X', 'X', 'X', 'X', '*', 'X', 'X']\n",
      "['X', 'X', '*', 'X', 'X', 'X', 'X', 'X', 'X', 'X']\n",
      "['X', 'X', '*', 'X', '*', 'X', '*', 'X', 'X', 'X']\n",
      "['X', 'X', '*', 'X', 'X', 'X', '*', 'X', '*', 'X']\n",
      "['X', 'X', 'X', 'X', '*', '*', 'X', 'X', 'X', 'X']\n",
      "['X', 'X', 'X', '*', 'X', 'X', 'X', 'X', 'X', 'X']\n",
      "[1, 1, 1, 0, 0, 0, 0, 0, 0, 0]\n",
      "[1, 0, 1, 0, 0, 0, 0, 0, 0, 0]\n",
      "[1, 1, 1, 0, 0, 0, 0, 0, 0, 0]\n",
      "[0, 1, 1, 1, 0, 0, 1, 1, 1, 0]\n",
      "[0, 2, 1, 2, 0, 0, 1, 0, 1, 0]\n",
      "[0, 4, 3, 6, 2, 3, 2, 2, 1, 0]\n",
      "[0, 4, 2, 6, 0, 4, 1, 3, 1, 1]\n",
      "[0, 3, 2, 6, 4, 6, 2, 3, 0, 1]\n",
      "[0, 1, 2, 3, 2, 2, 2, 2, 1, 1]\n",
      "[0, 0, 1, 1, 3, 2, 1, 0, 0, 0]\n",
      "[(6, 6), (6, 2), (1, 1), (6, 2), (6, 4), (6, 4), (7, 2), (4, 2), (5, 2), (9, 3), (8, 4), (4, 7), (7, 8), (7, 6), (8, 5)]\n"
     ]
    }
   ],
   "source": [
    "mine09.show()"
   ]
  },
  {
   "cell_type": "code",
   "execution_count": 98,
   "metadata": {
    "collapsed": true
   },
   "outputs": [],
   "source": [
    "mine09.uncover_cell(0,0)"
   ]
  },
  {
   "cell_type": "code",
   "execution_count": 99,
   "metadata": {
    "collapsed": false
   },
   "outputs": [
    {
     "name": "stdout",
     "output_type": "stream",
     "text": [
      "['.', '.', 'X', 'X', 'X', 'X', 'X', 'X', 'X', 'X']\n",
      "['.', '*', 'X', 'X', 'X', 'X', 'X', 'X', 'X', 'X']\n",
      "['X', 'X', 'X', 'X', 'X', 'X', 'X', 'X', 'X', 'X']\n",
      "['X', 'X', 'X', 'X', 'X', 'X', 'X', 'X', 'X', 'X']\n",
      "['X', 'X', '*', 'X', 'X', 'X', 'X', '*', 'X', 'X']\n",
      "['X', 'X', '*', 'X', 'X', 'X', 'X', 'X', 'X', 'X']\n",
      "['X', 'X', '*', 'X', '*', 'X', '*', 'X', 'X', 'X']\n",
      "['X', 'X', '*', 'X', 'X', 'X', '*', 'X', '*', 'X']\n",
      "['X', 'X', 'X', 'X', '*', '*', 'X', 'X', 'X', 'X']\n",
      "['X', 'X', 'X', '*', 'X', 'X', 'X', 'X', 'X', 'X']\n",
      "[1, 1, 1, 0, 0, 0, 0, 0, 0, 0]\n",
      "[1, 0, 1, 0, 0, 0, 0, 0, 0, 0]\n",
      "[1, 1, 1, 0, 0, 0, 0, 0, 0, 0]\n",
      "[0, 1, 1, 1, 0, 0, 1, 1, 1, 0]\n",
      "[0, 2, 1, 2, 0, 0, 1, 0, 1, 0]\n",
      "[0, 4, 3, 6, 2, 3, 2, 2, 1, 0]\n",
      "[0, 4, 2, 6, 0, 4, 1, 3, 1, 1]\n",
      "[0, 3, 2, 6, 4, 6, 2, 3, 0, 1]\n",
      "[0, 1, 2, 3, 2, 2, 2, 2, 1, 1]\n",
      "[0, 0, 1, 1, 3, 2, 1, 0, 0, 0]\n",
      "[(6, 6), (6, 2), (1, 1), (6, 2), (6, 4), (6, 4), (7, 2), (4, 2), (5, 2), (9, 3), (8, 4), (4, 7), (7, 8), (7, 6), (8, 5)]\n"
     ]
    }
   ],
   "source": [
    "mine09.show()"
   ]
  },
  {
   "cell_type": "code",
   "execution_count": 100,
   "metadata": {
    "collapsed": true
   },
   "outputs": [],
   "source": [
    "mine10 = Minesweeper(6,4)"
   ]
  },
  {
   "cell_type": "code",
   "execution_count": 101,
   "metadata": {
    "collapsed": false
   },
   "outputs": [
    {
     "name": "stdout",
     "output_type": "stream",
     "text": [
      "['X', 'X', '*', 'X', 'X', 'X']\n",
      "['X', 'X', 'X', 'X', 'X', 'X']\n",
      "['X', 'X', 'X', 'X', 'X', 'X']\n",
      "['X', '*', '*', 'X', 'X', 'X']\n",
      "['X', 'X', 'X', 'X', 'X', 'X']\n",
      "['X', 'X', '*', 'X', 'X', 'X']\n",
      "[0, 1, 0, 1, 0, 0]\n",
      "[0, 1, 1, 1, 0, 0]\n",
      "[1, 2, 2, 1, 0, 0]\n",
      "[1, 1, 1, 1, 0, 0]\n",
      "[1, 3, 3, 2, 0, 0]\n",
      "[0, 1, 0, 1, 0, 0]\n",
      "[(5, 2), (0, 2), (3, 2), (3, 1)]\n"
     ]
    }
   ],
   "source": [
    "mine10.show()"
   ]
  },
  {
   "cell_type": "code",
   "execution_count": 102,
   "metadata": {
    "collapsed": true
   },
   "outputs": [],
   "source": [
    "mine10.uncover_cell(0,0)"
   ]
  },
  {
   "cell_type": "code",
   "execution_count": 103,
   "metadata": {
    "collapsed": false
   },
   "outputs": [
    {
     "name": "stdout",
     "output_type": "stream",
     "text": [
      "['.', '.', '*', '.', '.', '.']\n",
      "['.', '.', '.', '.', '.', '.']\n",
      "['.', '.', '.', '.', '.', '.']\n",
      "['.', '*', '*', '.', '.', '.']\n",
      "['.', '.', '.', '.', '.', '.']\n",
      "['.', '.', '*', '.', '.', '.']\n",
      "[0, 1, 0, 1, 0, 0]\n",
      "[0, 1, 1, 1, 0, 0]\n",
      "[1, 2, 2, 1, 0, 0]\n",
      "[1, 1, 1, 1, 0, 0]\n",
      "[1, 3, 3, 2, 0, 0]\n",
      "[0, 1, 0, 1, 0, 0]\n",
      "[(5, 2), (0, 2), (3, 2), (3, 1)]\n"
     ]
    }
   ],
   "source": [
    "mine10.show()"
   ]
  },
  {
   "cell_type": "code",
   "execution_count": 111,
   "metadata": {
    "collapsed": true
   },
   "outputs": [],
   "source": [
    "mine11 = Minesweeper(10, 30)"
   ]
  },
  {
   "cell_type": "code",
   "execution_count": 112,
   "metadata": {
    "collapsed": false
   },
   "outputs": [
    {
     "name": "stdout",
     "output_type": "stream",
     "text": [
      "['X', 'X', 'X', 'X', 'X', 'X', 'X', '*', 'X', 'X']\n",
      "['X', '*', 'X', '*', 'X', 'X', 'X', 'X', 'X', 'X']\n",
      "['X', 'X', 'X', 'X', '*', '*', '*', 'X', 'X', 'X']\n",
      "['X', 'X', 'X', '*', 'X', 'X', 'X', 'X', 'X', 'X']\n",
      "['*', 'X', '*', 'X', 'X', 'X', 'X', '*', '*', 'X']\n",
      "['X', '*', '*', 'X', 'X', '*', 'X', 'X', '*', 'X']\n",
      "['X', '*', 'X', '*', '*', 'X', 'X', '*', 'X', 'X']\n",
      "['X', '*', 'X', 'X', 'X', 'X', 'X', '*', 'X', '*']\n",
      "['*', 'X', 'X', 'X', 'X', 'X', '*', 'X', 'X', 'X']\n",
      "['X', 'X', 'X', '*', 'X', 'X', '*', '*', 'X', '*']\n",
      "[1, 1, 2, 1, 1, 0, 1, 0, 1, 0]\n",
      "[1, 0, 2, 1, 3, 3, 3, 2, 1, 0]\n",
      "[1, 1, 3, 3, 3, 2, 1, 1, 0, 0]\n",
      "[1, 3, 3, 3, 3, 3, 3, 3, 2, 1]\n",
      "[1, 5, 3, 4, 2, 1, 2, 2, 2, 2]\n",
      "[3, 5, 5, 5, 3, 1, 3, 4, 3, 2]\n",
      "[3, 3, 5, 2, 2, 2, 3, 2, 4, 2]\n",
      "[3, 2, 3, 2, 2, 2, 3, 2, 3, 0]\n",
      "[1, 2, 2, 1, 1, 3, 4, 5, 4, 2]\n",
      "[1, 1, 1, 0, 1, 3, 2, 3, 2, 0]\n",
      "[(9, 6), (9, 9), (2, 6), (8, 0), (4, 8), (8, 6), (2, 4), (9, 6), (4, 2), (6, 4), (3, 3), (9, 7), (2, 5), (4, 0), (5, 5), (4, 2), (5, 1), (7, 7), (5, 8), (5, 2), (6, 1), (1, 3), (6, 3), (6, 7), (1, 1), (9, 3), (7, 1), (4, 7), (0, 7), (7, 9)]\n"
     ]
    }
   ],
   "source": [
    "mine11.show()"
   ]
  },
  {
   "cell_type": "code",
   "execution_count": 109,
   "metadata": {
    "collapsed": false
   },
   "outputs": [],
   "source": [
    "mine11.uncover_cell(9,7)"
   ]
  },
  {
   "cell_type": "code",
   "execution_count": 110,
   "metadata": {
    "collapsed": false
   },
   "outputs": [
    {
     "name": "stdout",
     "output_type": "stream",
     "text": [
      "['.', '.', '*', '.', '.', '.', '.', '*', '.', '.']\n",
      "['*', '.', '.', '.', '.', '.', '.', '.', '*', '.']\n",
      "['*', '*', '*', '.', '.', '.', '.', '.', '.', '.']\n",
      "['.', '.', '*', '*', '.', '.', '*', '.', '.', '.']\n",
      "['*', '.', '*', '.', '*', '.', '.', '.', '.', '*']\n",
      "['.', '.', '*', '.', '.', '.', '*', '*', '.', '*']\n",
      "['.', '.', '.', '.', '.', '.', '.', '.', '.', '*']\n",
      "['.', '.', '*', '.', '*', '.', '.', '.', '*', '.']\n",
      "['.', '.', '.', '*', '*', '.', '*', '.', '*', '.']\n",
      "['.', '.', '.', '.', '.', '*', '.', '.', '*', '.']\n",
      "[1, 2, 0, 1, 0, 0, 1, 1, 2, 1]\n",
      "[2, 5, 3, 2, 0, 0, 1, 2, 1, 1]\n",
      "[2, 4, 3, 3, 1, 1, 1, 2, 1, 1]\n",
      "[3, 6, 4, 5, 3, 3, 0, 1, 1, 1]\n",
      "[0, 4, 3, 6, 1, 4, 3, 3, 3, 1]\n",
      "[1, 3, 1, 4, 2, 3, 1, 1, 4, 2]\n",
      "[0, 3, 3, 4, 1, 2, 2, 3, 4, 2]\n",
      "[0, 2, 1, 5, 2, 3, 1, 3, 2, 3]\n",
      "[0, 2, 3, 4, 3, 4, 1, 4, 2, 3]\n",
      "[0, 0, 1, 2, 3, 2, 2, 3, 1, 2]\n",
      "[(8, 8), (5, 7), (0, 7), (1, 0), (3, 6), (6, 9), (2, 2), (7, 2), (4, 9), (5, 2), (3, 3), (8, 6), (4, 2), (4, 4), (8, 4), (5, 9), (2, 1), (7, 4), (4, 4), (9, 5), (4, 0), (5, 6), (9, 8), (3, 2), (1, 8), (7, 2), (8, 3), (0, 2), (2, 0), (7, 8)]\n"
     ]
    }
   ],
   "source": [
    "mine11.show()"
   ]
  },
  {
   "cell_type": "code",
   "execution_count": 114,
   "metadata": {
    "collapsed": false
   },
   "outputs": [],
   "source": [
    "mine11.board[1][1]['state']='armed'"
   ]
  },
  {
   "cell_type": "code",
   "execution_count": 115,
   "metadata": {
    "collapsed": true
   },
   "outputs": [],
   "source": [
    "mine11.board[1][2]['state']='armed'"
   ]
  },
  {
   "cell_type": "code",
   "execution_count": 116,
   "metadata": {
    "collapsed": false
   },
   "outputs": [
    {
     "name": "stdout",
     "output_type": "stream",
     "text": [
      "['X', 'X', 'X', 'X', 'X', 'X', 'X', '*', 'X', 'X']\n",
      "['X', '*', '*', '*', 'X', 'X', 'X', 'X', 'X', 'X']\n",
      "['X', 'X', 'X', 'X', '*', '*', '*', 'X', 'X', 'X']\n",
      "['X', 'X', 'X', '*', 'X', 'X', 'X', 'X', 'X', 'X']\n",
      "['*', 'X', '*', 'X', 'X', 'X', 'X', '*', '*', 'X']\n",
      "['X', '*', '*', 'X', 'X', '*', 'X', 'X', '*', 'X']\n",
      "['X', '*', 'X', '*', '*', 'X', 'X', '*', 'X', 'X']\n",
      "['X', '*', 'X', 'X', 'X', 'X', 'X', '*', 'X', '*']\n",
      "['*', 'X', 'X', 'X', 'X', 'X', '*', 'X', 'X', 'X']\n",
      "['X', 'X', 'X', '*', 'X', 'X', '*', '*', 'X', '*']\n",
      "[1, 1, 2, 1, 1, 0, 1, 0, 1, 0]\n",
      "[1, 0, 2, 1, 3, 3, 3, 2, 1, 0]\n",
      "[1, 1, 3, 3, 3, 2, 1, 1, 0, 0]\n",
      "[1, 3, 3, 3, 3, 3, 3, 3, 2, 1]\n",
      "[1, 5, 3, 4, 2, 1, 2, 2, 2, 2]\n",
      "[3, 5, 5, 5, 3, 1, 3, 4, 3, 2]\n",
      "[3, 3, 5, 2, 2, 2, 3, 2, 4, 2]\n",
      "[3, 2, 3, 2, 2, 2, 3, 2, 3, 0]\n",
      "[1, 2, 2, 1, 1, 3, 4, 5, 4, 2]\n",
      "[1, 1, 1, 0, 1, 3, 2, 3, 2, 0]\n",
      "[(9, 6), (9, 9), (2, 6), (8, 0), (4, 8), (8, 6), (2, 4), (9, 6), (4, 2), (6, 4), (3, 3), (9, 7), (2, 5), (4, 0), (5, 5), (4, 2), (5, 1), (7, 7), (5, 8), (5, 2), (6, 1), (1, 3), (6, 3), (6, 7), (1, 1), (9, 3), (7, 1), (4, 7), (0, 7), (7, 9)]\n"
     ]
    }
   ],
   "source": [
    "mine11.show()"
   ]
  },
  {
   "cell_type": "code",
   "execution_count": 117,
   "metadata": {
    "collapsed": true
   },
   "outputs": [],
   "source": [
    "mine11.board[0][2]['state']='armed'"
   ]
  },
  {
   "cell_type": "code",
   "execution_count": 118,
   "metadata": {
    "collapsed": false
   },
   "outputs": [
    {
     "name": "stdout",
     "output_type": "stream",
     "text": [
      "['X', 'X', '*', 'X', 'X', 'X', 'X', '*', 'X', 'X']\n",
      "['X', '*', '*', '*', 'X', 'X', 'X', 'X', 'X', 'X']\n",
      "['X', 'X', 'X', 'X', '*', '*', '*', 'X', 'X', 'X']\n",
      "['X', 'X', 'X', '*', 'X', 'X', 'X', 'X', 'X', 'X']\n",
      "['*', 'X', '*', 'X', 'X', 'X', 'X', '*', '*', 'X']\n",
      "['X', '*', '*', 'X', 'X', '*', 'X', 'X', '*', 'X']\n",
      "['X', '*', 'X', '*', '*', 'X', 'X', '*', 'X', 'X']\n",
      "['X', '*', 'X', 'X', 'X', 'X', 'X', '*', 'X', '*']\n",
      "['*', 'X', 'X', 'X', 'X', 'X', '*', 'X', 'X', 'X']\n",
      "['X', 'X', 'X', '*', 'X', 'X', '*', '*', 'X', '*']\n",
      "[1, 1, 2, 1, 1, 0, 1, 0, 1, 0]\n",
      "[1, 0, 2, 1, 3, 3, 3, 2, 1, 0]\n",
      "[1, 1, 3, 3, 3, 2, 1, 1, 0, 0]\n",
      "[1, 3, 3, 3, 3, 3, 3, 3, 2, 1]\n",
      "[1, 5, 3, 4, 2, 1, 2, 2, 2, 2]\n",
      "[3, 5, 5, 5, 3, 1, 3, 4, 3, 2]\n",
      "[3, 3, 5, 2, 2, 2, 3, 2, 4, 2]\n",
      "[3, 2, 3, 2, 2, 2, 3, 2, 3, 0]\n",
      "[1, 2, 2, 1, 1, 3, 4, 5, 4, 2]\n",
      "[1, 1, 1, 0, 1, 3, 2, 3, 2, 0]\n",
      "[(9, 6), (9, 9), (2, 6), (8, 0), (4, 8), (8, 6), (2, 4), (9, 6), (4, 2), (6, 4), (3, 3), (9, 7), (2, 5), (4, 0), (5, 5), (4, 2), (5, 1), (7, 7), (5, 8), (5, 2), (6, 1), (1, 3), (6, 3), (6, 7), (1, 1), (9, 3), (7, 1), (4, 7), (0, 7), (7, 9)]\n"
     ]
    }
   ],
   "source": [
    "mine11.show()"
   ]
  },
  {
   "cell_type": "code",
   "execution_count": 119,
   "metadata": {
    "collapsed": true
   },
   "outputs": [],
   "source": [
    "mine11.board[1][0]['state'] = 'armed'"
   ]
  },
  {
   "cell_type": "code",
   "execution_count": 120,
   "metadata": {
    "collapsed": false
   },
   "outputs": [
    {
     "name": "stdout",
     "output_type": "stream",
     "text": [
      "['X', 'X', '*', 'X', 'X', 'X', 'X', '*', 'X', 'X']\n",
      "['*', '*', '*', '*', 'X', 'X', 'X', 'X', 'X', 'X']\n",
      "['X', 'X', 'X', 'X', '*', '*', '*', 'X', 'X', 'X']\n",
      "['X', 'X', 'X', '*', 'X', 'X', 'X', 'X', 'X', 'X']\n",
      "['*', 'X', '*', 'X', 'X', 'X', 'X', '*', '*', 'X']\n",
      "['X', '*', '*', 'X', 'X', '*', 'X', 'X', '*', 'X']\n",
      "['X', '*', 'X', '*', '*', 'X', 'X', '*', 'X', 'X']\n",
      "['X', '*', 'X', 'X', 'X', 'X', 'X', '*', 'X', '*']\n",
      "['*', 'X', 'X', 'X', 'X', 'X', '*', 'X', 'X', 'X']\n",
      "['X', 'X', 'X', '*', 'X', 'X', '*', '*', 'X', '*']\n",
      "[1, 1, 2, 1, 1, 0, 1, 0, 1, 0]\n",
      "[1, 0, 2, 1, 3, 3, 3, 2, 1, 0]\n",
      "[1, 1, 3, 3, 3, 2, 1, 1, 0, 0]\n",
      "[1, 3, 3, 3, 3, 3, 3, 3, 2, 1]\n",
      "[1, 5, 3, 4, 2, 1, 2, 2, 2, 2]\n",
      "[3, 5, 5, 5, 3, 1, 3, 4, 3, 2]\n",
      "[3, 3, 5, 2, 2, 2, 3, 2, 4, 2]\n",
      "[3, 2, 3, 2, 2, 2, 3, 2, 3, 0]\n",
      "[1, 2, 2, 1, 1, 3, 4, 5, 4, 2]\n",
      "[1, 1, 1, 0, 1, 3, 2, 3, 2, 0]\n",
      "[(9, 6), (9, 9), (2, 6), (8, 0), (4, 8), (8, 6), (2, 4), (9, 6), (4, 2), (6, 4), (3, 3), (9, 7), (2, 5), (4, 0), (5, 5), (4, 2), (5, 1), (7, 7), (5, 8), (5, 2), (6, 1), (1, 3), (6, 3), (6, 7), (1, 1), (9, 3), (7, 1), (4, 7), (0, 7), (7, 9)]\n"
     ]
    }
   ],
   "source": [
    "mine11.show()"
   ]
  },
  {
   "cell_type": "code",
   "execution_count": 121,
   "metadata": {
    "collapsed": true
   },
   "outputs": [],
   "source": [
    "mine11.uncover_cell(0,0)"
   ]
  },
  {
   "cell_type": "code",
   "execution_count": 122,
   "metadata": {
    "collapsed": false
   },
   "outputs": [
    {
     "name": "stdout",
     "output_type": "stream",
     "text": [
      "['.', '.', '*', 'X', 'X', 'X', 'X', '*', 'X', 'X']\n",
      "['*', '*', '*', '*', 'X', 'X', 'X', 'X', 'X', 'X']\n",
      "['X', 'X', 'X', 'X', '*', '*', '*', 'X', 'X', 'X']\n",
      "['X', 'X', 'X', '*', 'X', 'X', 'X', 'X', 'X', 'X']\n",
      "['*', 'X', '*', 'X', 'X', 'X', 'X', '*', '*', 'X']\n",
      "['X', '*', '*', 'X', 'X', '*', 'X', 'X', '*', 'X']\n",
      "['X', '*', 'X', '*', '*', 'X', 'X', '*', 'X', 'X']\n",
      "['X', '*', 'X', 'X', 'X', 'X', 'X', '*', 'X', '*']\n",
      "['*', 'X', 'X', 'X', 'X', 'X', '*', 'X', 'X', 'X']\n",
      "['X', 'X', 'X', '*', 'X', 'X', '*', '*', 'X', '*']\n",
      "[1, 1, 2, 1, 1, 0, 1, 0, 1, 0]\n",
      "[1, 0, 2, 1, 3, 3, 3, 2, 1, 0]\n",
      "[1, 1, 3, 3, 3, 2, 1, 1, 0, 0]\n",
      "[1, 3, 3, 3, 3, 3, 3, 3, 2, 1]\n",
      "[1, 5, 3, 4, 2, 1, 2, 2, 2, 2]\n",
      "[3, 5, 5, 5, 3, 1, 3, 4, 3, 2]\n",
      "[3, 3, 5, 2, 2, 2, 3, 2, 4, 2]\n",
      "[3, 2, 3, 2, 2, 2, 3, 2, 3, 0]\n",
      "[1, 2, 2, 1, 1, 3, 4, 5, 4, 2]\n",
      "[1, 1, 1, 0, 1, 3, 2, 3, 2, 0]\n",
      "[(9, 6), (9, 9), (2, 6), (8, 0), (4, 8), (8, 6), (2, 4), (9, 6), (4, 2), (6, 4), (3, 3), (9, 7), (2, 5), (4, 0), (5, 5), (4, 2), (5, 1), (7, 7), (5, 8), (5, 2), (6, 1), (1, 3), (6, 3), (6, 7), (1, 1), (9, 3), (7, 1), (4, 7), (0, 7), (7, 9)]\n"
     ]
    }
   ],
   "source": [
    "mine11.show()"
   ]
  },
  {
   "cell_type": "markdown",
   "metadata": {},
   "source": [
    "## Working to fix the show methodd\n"
   ]
  },
  {
   "cell_type": "code",
   "execution_count": 123,
   "metadata": {
    "collapsed": true
   },
   "outputs": [],
   "source": [
    "from minesweeper import Minesweeper, MinesweeperGenerationalUncover"
   ]
  },
  {
   "cell_type": "code",
   "execution_count": 124,
   "metadata": {
    "collapsed": false
   },
   "outputs": [
    {
     "name": "stdout",
     "output_type": "stream",
     "text": [
      "['.', '.', '*', 'X', 'X', 'X', 'X', '*', 'X', 'X']\n",
      "['*', '*', '*', '*', 'X', 'X', 'X', 'X', 'X', 'X']\n",
      "['X', 'X', 'X', 'X', '*', '*', '*', 'X', 'X', 'X']\n",
      "['X', 'X', 'X', '*', 'X', 'X', 'X', 'X', 'X', 'X']\n",
      "['*', 'X', '*', 'X', 'X', 'X', 'X', '*', '*', 'X']\n",
      "['X', '*', '*', 'X', 'X', '*', 'X', 'X', '*', 'X']\n",
      "['X', '*', 'X', '*', '*', 'X', 'X', '*', 'X', 'X']\n",
      "['X', '*', 'X', 'X', 'X', 'X', 'X', '*', 'X', '*']\n",
      "['*', 'X', 'X', 'X', 'X', 'X', '*', 'X', 'X', 'X']\n",
      "['X', 'X', 'X', '*', 'X', 'X', '*', '*', 'X', '*']\n",
      "[1, 1, 2, 1, 1, 0, 1, 0, 1, 0]\n",
      "[1, 0, 2, 1, 3, 3, 3, 2, 1, 0]\n",
      "[1, 1, 3, 3, 3, 2, 1, 1, 0, 0]\n",
      "[1, 3, 3, 3, 3, 3, 3, 3, 2, 1]\n",
      "[1, 5, 3, 4, 2, 1, 2, 2, 2, 2]\n",
      "[3, 5, 5, 5, 3, 1, 3, 4, 3, 2]\n",
      "[3, 3, 5, 2, 2, 2, 3, 2, 4, 2]\n",
      "[3, 2, 3, 2, 2, 2, 3, 2, 3, 0]\n",
      "[1, 2, 2, 1, 1, 3, 4, 5, 4, 2]\n",
      "[1, 1, 1, 0, 1, 3, 2, 3, 2, 0]\n",
      "[(9, 6), (9, 9), (2, 6), (8, 0), (4, 8), (8, 6), (2, 4), (9, 6), (4, 2), (6, 4), (3, 3), (9, 7), (2, 5), (4, 0), (5, 5), (4, 2), (5, 1), (7, 7), (5, 8), (5, 2), (6, 1), (1, 3), (6, 3), (6, 7), (1, 1), (9, 3), (7, 1), (4, 7), (0, 7), (7, 9)]\n"
     ]
    }
   ],
   "source": [
    "mine11.show()"
   ]
  },
  {
   "cell_type": "code",
   "execution_count": 125,
   "metadata": {
    "collapsed": false
   },
   "outputs": [
    {
     "data": {
      "text/plain": [
       "{'armed': '*', 'empty': 'X', 'marked': 'M', 'uncovered': '.'}"
      ]
     },
     "execution_count": 125,
     "metadata": {},
     "output_type": "execute_result"
    }
   ],
   "source": [
    "mine11.grid_repr"
   ]
  },
  {
   "cell_type": "code",
   "execution_count": 126,
   "metadata": {
    "collapsed": false
   },
   "outputs": [
    {
     "ename": "NameError",
     "evalue": "name 'reload' is not defined",
     "output_type": "error",
     "traceback": [
      "\u001b[0;31m---------------------------------------------------------------------------\u001b[0m",
      "\u001b[0;31mNameError\u001b[0m                                 Traceback (most recent call last)",
      "\u001b[0;32m<ipython-input-126-7ac4854c92d0>\u001b[0m in \u001b[0;36m<module>\u001b[0;34m()\u001b[0m\n\u001b[0;32m----> 1\u001b[0;31m \u001b[0mreload\u001b[0m\u001b[0;34m(\u001b[0m\u001b[0mminesweeper\u001b[0m\u001b[0;34m.\u001b[0m\u001b[0mpy\u001b[0m\u001b[0;34m)\u001b[0m\u001b[0;34m\u001b[0m\u001b[0m\n\u001b[0m",
      "\u001b[0;31mNameError\u001b[0m: name 'reload' is not defined"
     ]
    }
   ],
   "source": [
    "reload(minesweeper.py)"
   ]
  },
  {
   "cell_type": "code",
   "execution_count": 127,
   "metadata": {
    "collapsed": true
   },
   "outputs": [],
   "source": [
    "import importlib"
   ]
  },
  {
   "cell_type": "code",
   "execution_count": 132,
   "metadata": {
    "collapsed": false
   },
   "outputs": [],
   "source": [
    "import minesweeper"
   ]
  },
  {
   "cell_type": "code",
   "execution_count": 133,
   "metadata": {
    "collapsed": true
   },
   "outputs": [],
   "source": [
    "Minesweeper = minesweeper.Minesweeper"
   ]
  },
  {
   "cell_type": "code",
   "execution_count": 135,
   "metadata": {
    "collapsed": true
   },
   "outputs": [],
   "source": [
    "from minesweeper import Minesweeper, MinesweeperGenerationalUncover"
   ]
  },
  {
   "cell_type": "code",
   "execution_count": 138,
   "metadata": {
    "collapsed": false
   },
   "outputs": [
    {
     "data": {
      "text/plain": [
       "<module 'minesweeper' from '/Users/corntoole/GIT/tophatter_challenge/minesweeper.py'>"
      ]
     },
     "execution_count": 138,
     "metadata": {},
     "output_type": "execute_result"
    }
   ],
   "source": [
    "importlib.reload(minesweeper)"
   ]
  },
  {
   "cell_type": "code",
   "execution_count": 141,
   "metadata": {
    "collapsed": true
   },
   "outputs": [],
   "source": [
    "mine12 = minesweeper.Minesweeper(10,10)"
   ]
  },
  {
   "cell_type": "code",
   "execution_count": 162,
   "metadata": {
    "collapsed": false
   },
   "outputs": [
    {
     "data": {
      "text/plain": [
       "<module 'minesweeper' from '/Users/corntoole/GIT/tophatter_challenge/minesweeper.py'>"
      ]
     },
     "execution_count": 162,
     "metadata": {},
     "output_type": "execute_result"
    }
   ],
   "source": [
    "importlib.reload(minesweeper)"
   ]
  },
  {
   "cell_type": "code",
   "execution_count": 163,
   "metadata": {
    "collapsed": true
   },
   "outputs": [],
   "source": [
    "mine12 = minesweeper.Minesweeper(10,10)"
   ]
  },
  {
   "cell_type": "code",
   "execution_count": 164,
   "metadata": {
    "collapsed": false
   },
   "outputs": [
    {
     "name": "stdout",
     "output_type": "stream",
     "text": [
      "   0  1  2  3  4  5  6  7  8  9 \n",
      "0  X  X  X  X  X  X  X  X  X  X \n",
      "1  X  X  X  X  X  X  X  X  X  X \n",
      "2  X  X  X  X  X  X  X  X  X  X \n",
      "3  X  *  X  X  X  X  X  X  X  X \n",
      "4  X  *  X  X  X  X  X  *  X  X \n",
      "5  X  X  X  X  X  X  X  *  X  * \n",
      "6  X  X  X  X  X  *  X  X  X  X \n",
      "7  X  X  X  *  X  X  X  X  X  X \n",
      "8  X  X  X  X  X  X  X  X  X  * \n",
      "9  X  X  X  X  *  X  X  X  X  X \n",
      "[0, 0, 0, 0, 0, 0, 0, 0, 0, 0]\n",
      "[0, 0, 0, 0, 0, 0, 0, 0, 0, 0]\n",
      "[1, 1, 1, 0, 0, 0, 0, 0, 0, 0]\n",
      "[2, 1, 2, 0, 0, 0, 1, 1, 1, 0]\n",
      "[2, 1, 2, 0, 0, 0, 2, 1, 3, 1]\n",
      "[1, 1, 1, 0, 2, 2, 4, 1, 3, 0]\n",
      "[0, 0, 1, 1, 3, 0, 3, 1, 2, 1]\n",
      "[0, 0, 1, 0, 3, 2, 2, 0, 1, 1]\n",
      "[0, 0, 1, 2, 2, 1, 0, 0, 1, 0]\n",
      "[0, 0, 0, 1, 0, 1, 0, 0, 1, 1]\n"
     ]
    }
   ],
   "source": [
    "mine12.show()"
   ]
  },
  {
   "cell_type": "markdown",
   "metadata": {},
   "source": [
    "## Game Design\n",
    "\n",
    "### States\n",
    "\n",
    "  - New Game\n",
    "    - all cells covered\n",
    "    - number of unflagged mines = number of placed mines\n",
    "  - In Progress\n",
    "    - some cells uncovered\n",
    "    - number of flagged mines <= number of placed mines\n",
    "    - number of correctly flagged mines < number of placed mines\n",
    "  - Game Lost\n",
    "    - uncovered a cell with mine\n",
    "  - Game Won\n",
    "    - number/location of correctly flagged mines == number/location of placed mines\n",
    "    \n",
    "  "
   ]
  },
  {
   "cell_type": "code",
   "execution_count": 166,
   "metadata": {
    "collapsed": false
   },
   "outputs": [
    {
     "data": {
      "text/plain": [
       "<module 'minesweeper' from '/Users/corntoole/GIT/tophatter_challenge/minesweeper.py'>"
      ]
     },
     "execution_count": 166,
     "metadata": {},
     "output_type": "execute_result"
    }
   ],
   "source": [
    "importlib.reload(minesweeper)"
   ]
  },
  {
   "cell_type": "code",
   "execution_count": 167,
   "metadata": {
    "collapsed": false
   },
   "outputs": [
    {
     "name": "stdout",
     "output_type": "stream",
     "text": [
      "MinesweeperStates.new_game\n"
     ]
    }
   ],
   "source": [
    "mine13 = minesweeper.Minesweeper(10,10)"
   ]
  },
  {
   "cell_type": "markdown",
   "metadata": {},
   "source": [
    "## Cell types\n",
    "\n",
    "|        |Covered|Uncovered|Marked|\n",
    "|--------|-------|---------|------|\n",
    "|**Armed**   |\\_,\\_,\\* |@        |M,M   |\n",
    "|**Empty**   |\\_,\\_,X  |X or #   | %    |\n"
   ]
  },
  {
   "cell_type": "code",
   "execution_count": 168,
   "metadata": {
    "collapsed": false
   },
   "outputs": [
    {
     "name": "stdout",
     "output_type": "stream",
     "text": [
      "   0  1  2  3  4  5  6  7  8  9 \n",
      "0  X  X  *  X  X  X  X  X  X  X \n",
      "1  X  X  X  X  X  X  X  X  X  X \n",
      "2  X  X  X  X  X  X  X  X  X  * \n",
      "3  X  X  X  X  X  X  X  *  X  X \n",
      "4  X  X  X  X  X  X  X  X  *  * \n",
      "5  X  *  X  X  X  X  X  X  X  * \n",
      "6  X  X  X  X  X  X  X  X  X  X \n",
      "7  X  X  X  X  X  X  X  X  X  X \n",
      "8  X  X  X  X  X  X  X  X  X  X \n",
      "9  X  X  X  X  X  X  *  X  X  * \n"
     ]
    }
   ],
   "source": [
    "mine13.show()"
   ]
  },
  {
   "cell_type": "code",
   "execution_count": 169,
   "metadata": {
    "collapsed": false
   },
   "outputs": [
    {
     "data": {
      "text/plain": [
       "[(4, 8),\n",
       " (0, 2),\n",
       " (0, 2),\n",
       " (5, 1),\n",
       " (4, 9),\n",
       " (3, 7),\n",
       " (5, 9),\n",
       " (9, 9),\n",
       " (2, 9),\n",
       " (9, 6)]"
      ]
     },
     "execution_count": 169,
     "metadata": {},
     "output_type": "execute_result"
    }
   ],
   "source": [
    "mine13.mines"
   ]
  },
  {
   "cell_type": "code",
   "execution_count": 170,
   "metadata": {
    "collapsed": true
   },
   "outputs": [],
   "source": [
    "flags_set = set([(4,9)])"
   ]
  },
  {
   "cell_type": "code",
   "execution_count": 171,
   "metadata": {
    "collapsed": false
   },
   "outputs": [
    {
     "data": {
      "text/plain": [
       "{(4, 9)}"
      ]
     },
     "execution_count": 171,
     "metadata": {},
     "output_type": "execute_result"
    }
   ],
   "source": [
    "flags_set"
   ]
  },
  {
   "cell_type": "code",
   "execution_count": 172,
   "metadata": {
    "collapsed": true
   },
   "outputs": [],
   "source": [
    "mines_set = set(mine13.mines)"
   ]
  },
  {
   "cell_type": "code",
   "execution_count": 173,
   "metadata": {
    "collapsed": false
   },
   "outputs": [
    {
     "data": {
      "text/plain": [
       "{(0, 2), (2, 9), (3, 7), (4, 8), (4, 9), (5, 1), (5, 9), (9, 6), (9, 9)}"
      ]
     },
     "execution_count": 173,
     "metadata": {},
     "output_type": "execute_result"
    }
   ],
   "source": [
    "mines_set"
   ]
  },
  {
   "cell_type": "code",
   "execution_count": 174,
   "metadata": {
    "collapsed": false
   },
   "outputs": [
    {
     "data": {
      "text/plain": [
       "{(0, 2), (2, 9), (3, 7), (4, 8), (5, 1), (5, 9), (9, 6), (9, 9)}"
      ]
     },
     "execution_count": 174,
     "metadata": {},
     "output_type": "execute_result"
    }
   ],
   "source": [
    "mines_set - flags_set"
   ]
  },
  {
   "cell_type": "code",
   "execution_count": 175,
   "metadata": {
    "collapsed": false
   },
   "outputs": [
    {
     "data": {
      "text/plain": [
       "8"
      ]
     },
     "execution_count": 175,
     "metadata": {},
     "output_type": "execute_result"
    }
   ],
   "source": [
    "len(mines_set - flags_set)"
   ]
  },
  {
   "cell_type": "code",
   "execution_count": 178,
   "metadata": {
    "collapsed": true
   },
   "outputs": [],
   "source": [
    "my_set = set([])"
   ]
  },
  {
   "cell_type": "code",
   "execution_count": 180,
   "metadata": {
    "collapsed": false
   },
   "outputs": [
    {
     "data": {
      "text/plain": [
       "set"
      ]
     },
     "execution_count": 180,
     "metadata": {},
     "output_type": "execute_result"
    }
   ],
   "source": [
    "type(my_set)"
   ]
  },
  {
   "cell_type": "code",
   "execution_count": 181,
   "metadata": {
    "collapsed": true
   },
   "outputs": [],
   "source": [
    "my_set.add((9,0))"
   ]
  },
  {
   "cell_type": "code",
   "execution_count": 182,
   "metadata": {
    "collapsed": false,
    "scrolled": false
   },
   "outputs": [
    {
     "data": {
      "text/plain": [
       "{(9, 0)}"
      ]
     },
     "execution_count": 182,
     "metadata": {},
     "output_type": "execute_result"
    }
   ],
   "source": [
    "my_set"
   ]
  },
  {
   "cell_type": "code",
   "execution_count": 183,
   "metadata": {
    "collapsed": false
   },
   "outputs": [
    {
     "data": {
      "text/plain": [
       "<module 'minesweeper' from '/Users/corntoole/GIT/tophatter_challenge/minesweeper.py'>"
      ]
     },
     "execution_count": 183,
     "metadata": {},
     "output_type": "execute_result"
    }
   ],
   "source": [
    "importlib.reload(minesweeper)"
   ]
  },
  {
   "cell_type": "code",
   "execution_count": 184,
   "metadata": {
    "collapsed": false
   },
   "outputs": [
    {
     "name": "stdout",
     "output_type": "stream",
     "text": [
      "-------------------------------------------------------------------------------\n",
      "|   New Game                                                                   |\n",
      "-------------------------------------------------------------------------------\n",
      "\n",
      "MinesweeperStates.new_game\n",
      "Move #1 at cell(3,3)\n",
      "   0  1  2  3  4  5  6 \n",
      "0  1  1  2  2  *  1  X \n",
      "1  1  *  3  *  2  1  X \n",
      "2  1  2  *  3  2  1  1 \n",
      "3  X  1  2  @  1  1  * \n",
      "4  2  2  2  1  2  3  3 \n",
      "5  *  *  1  X  1  *  * \n",
      "6  2  2  1  X  1  2  2 \n",
      "MinesweeperStates.game_lost\n"
     ]
    }
   ],
   "source": [
    "minesweeper.test1()"
   ]
  },
  {
   "cell_type": "code",
   "execution_count": 186,
   "metadata": {
    "collapsed": false
   },
   "outputs": [
    {
     "name": "stdout",
     "output_type": "stream",
     "text": [
      "-------------------------------------------------------------------------------\n",
      "|   New Game                                                                   |\n",
      "-------------------------------------------------------------------------------\n",
      "\n",
      "MinesweeperStates.new_game\n",
      "Move #1 at cell(3,4)\n",
      "   0  1  2  3  4  5  6 \n",
      "0  1  2  2  2  _  1  X \n",
      "1  1  _  _  2  2  2  1 \n",
      "2  1  2  2  1  1  _  1 \n",
      "3  X  X  X  1  3  3  2 \n",
      "4  1  1  X  1  _  _  1 \n",
      "5  _  1  1  3  4  3  1 \n",
      "6  1  1  1  _  _  1  X \n",
      "MinesweeperStates.in_progress\n",
      "Move #2 at cell(3,5)\n",
      "   0  1  2  3  4  5  6 \n",
      "0  1  2  2  2  _  1  X \n",
      "1  1  _  _  2  2  2  1 \n",
      "2  1  2  2  1  1  _  1 \n",
      "3  X  X  X  1  3  3  2 \n",
      "4  1  1  X  1  _  _  1 \n",
      "5  _  1  1  3  4  3  1 \n",
      "6  1  1  1  _  _  1  X \n",
      "MinesweeperStates.in_progress\n",
      "Move #3 at cell(3,3)\n",
      "   0  1  2  3  4  5  6 \n",
      "0  1  2  2  2  _  1  X \n",
      "1  1  _  _  2  2  2  1 \n",
      "2  1  2  2  1  1  _  1 \n",
      "3  X  X  X  1  3  3  2 \n",
      "4  1  1  X  1  _  _  1 \n",
      "5  _  1  1  3  4  3  1 \n",
      "6  1  1  1  _  _  1  X \n",
      "MinesweeperStates.in_progress\n",
      "Move #4 at cell(2,2)\n",
      "   0  1  2  3  4  5  6 \n",
      "0  1  2  2  2  _  1  X \n",
      "1  1  _  _  2  2  2  1 \n",
      "2  1  2  2  1  1  _  1 \n",
      "3  X  X  X  1  3  3  2 \n",
      "4  1  1  X  1  _  _  1 \n",
      "5  _  1  1  3  4  3  1 \n",
      "6  1  1  1  _  _  1  X \n",
      "MinesweeperStates.in_progress\n",
      "Move #5 at cell(2,2)\n",
      "   0  1  2  3  4  5  6 \n",
      "0  1  2  2  2  _  1  X \n",
      "1  1  _  _  2  2  2  1 \n",
      "2  1  2  2  1  1  _  1 \n",
      "3  X  X  X  1  3  3  2 \n",
      "4  1  1  X  1  _  _  1 \n",
      "5  _  1  1  3  4  3  1 \n",
      "6  1  1  1  _  _  1  X \n",
      "MinesweeperStates.in_progress\n",
      "Move #6 at cell(3,6)\n",
      "   0  1  2  3  4  5  6 \n",
      "0  1  2  2  2  _  1  X \n",
      "1  1  _  _  2  2  2  1 \n",
      "2  1  2  2  1  1  _  1 \n",
      "3  X  X  X  1  3  3  2 \n",
      "4  1  1  X  1  _  _  1 \n",
      "5  _  1  1  3  4  3  1 \n",
      "6  1  1  1  _  _  1  X \n",
      "MinesweeperStates.in_progress\n",
      "Move #7 at cell(0,1)\n",
      "   0  1  2  3  4  5  6 \n",
      "0  1  2  2  2  _  1  X \n",
      "1  1  _  _  2  2  2  1 \n",
      "2  1  2  2  1  1  _  1 \n",
      "3  X  X  X  1  3  3  2 \n",
      "4  1  1  X  1  _  _  1 \n",
      "5  _  1  1  3  4  3  1 \n",
      "6  1  1  1  _  _  1  X \n",
      "MinesweeperStates.in_progress\n",
      "Move #8 at cell(3,2)\n",
      "   0  1  2  3  4  5  6 \n",
      "0  1  2  2  2  _  1  X \n",
      "1  1  _  _  2  2  2  1 \n",
      "2  1  2  2  1  1  _  1 \n",
      "3  X  X  X  1  3  3  2 \n",
      "4  1  1  X  1  _  _  1 \n",
      "5  _  1  1  3  4  3  1 \n",
      "6  1  1  1  _  _  1  X \n",
      "MinesweeperStates.in_progress\n",
      "Move #9 at cell(3,4)\n",
      "   0  1  2  3  4  5  6 \n",
      "0  1  2  2  2  _  1  X \n",
      "1  1  _  _  2  2  2  1 \n",
      "2  1  2  2  1  1  _  1 \n",
      "3  X  X  X  1  3  3  2 \n",
      "4  1  1  X  1  _  _  1 \n",
      "5  _  1  1  3  4  3  1 \n",
      "6  1  1  1  _  _  1  X \n",
      "MinesweeperStates.in_progress\n",
      "Move #10 at cell(5,0)\n",
      "   0  1  2  3  4  5  6 \n",
      "0  1  2  2  2  *  1  X \n",
      "1  1  *  *  2  2  2  1 \n",
      "2  1  2  2  1  1  *  1 \n",
      "3  X  X  X  1  3  3  2 \n",
      "4  1  1  X  1  *  *  1 \n",
      "5  *  1  1  3  4  3  1 \n",
      "6  1  1  1  *  *  1  X \n",
      "MinesweeperStates.game_lost\n"
     ]
    }
   ],
   "source": [
    "minesweeper.test1()"
   ]
  },
  {
   "cell_type": "code",
   "execution_count": 187,
   "metadata": {
    "collapsed": false
   },
   "outputs": [
    {
     "name": "stdout",
     "output_type": "stream",
     "text": [
      "-------------------------------------------------------------------------------\n",
      "|   New Game                                                                   |\n",
      "-------------------------------------------------------------------------------\n",
      "\n",
      "MinesweeperStates.new_game\n",
      "Mark #1 at cell(4,4)\n",
      "   0  1  2  3  4  5  6 \n",
      "0  _  _  _  _  _  _  _ \n",
      "1  _  _  _  _  _  _  _ \n",
      "2  _  _  _  _  _  _  _ \n",
      "3  _  _  _  _  _  _  _ \n",
      "4  _  _  _  _  M  _  _ \n",
      "5  _  _  _  _  _  _  _ \n",
      "6  _  _  _  _  _  _  _ \n",
      "MinesweeperStates.in_progress\n",
      "Mark #2 at cell(3,1)\n",
      "   0  1  2  3  4  5  6 \n",
      "0  _  _  _  _  _  _  _ \n",
      "1  _  _  _  _  _  _  _ \n",
      "2  _  _  _  _  _  _  _ \n",
      "3  _  M  _  _  _  _  _ \n",
      "4  _  _  _  _  M  _  _ \n",
      "5  _  _  _  _  _  _  _ \n",
      "6  _  _  _  _  _  _  _ \n",
      "MinesweeperStates.in_progress\n",
      "Mark #3 at cell(2,3)\n",
      "   0  1  2  3  4  5  6 \n",
      "0  _  _  _  _  _  _  _ \n",
      "1  _  _  _  _  _  _  _ \n",
      "2  _  _  _  M  _  _  _ \n",
      "3  _  M  _  _  _  _  _ \n",
      "4  _  _  _  _  M  _  _ \n",
      "5  _  _  _  _  _  _  _ \n",
      "6  _  _  _  _  _  _  _ \n",
      "MinesweeperStates.in_progress\n",
      "Mark #4 at cell(5,5)\n",
      "   0  1  2  3  4  5  6 \n",
      "0  _  _  _  _  _  _  _ \n",
      "1  _  _  _  _  _  _  _ \n",
      "2  _  _  _  M  _  _  _ \n",
      "3  _  M  _  _  _  _  _ \n",
      "4  _  _  _  _  M  _  _ \n",
      "5  _  _  _  _  _  M  _ \n",
      "6  _  _  _  _  _  _  _ \n",
      "MinesweeperStates.in_progress\n",
      "Mark #5 at cell(4,2)\n",
      "   0  1  2  3  4  5  6 \n",
      "0  _  _  _  _  _  _  _ \n",
      "1  _  _  _  _  _  _  _ \n",
      "2  _  _  _  M  _  _  _ \n",
      "3  _  M  _  _  _  _  _ \n",
      "4  _  _  M  _  M  _  _ \n",
      "5  _  _  _  _  _  M  _ \n",
      "6  _  _  _  _  _  _  _ \n",
      "MinesweeperStates.in_progress\n",
      "Mark #6 at cell(2,1)\n",
      "   0  1  2  3  4  5  6 \n",
      "0  _  _  _  _  _  _  _ \n",
      "1  _  _  _  _  _  _  _ \n",
      "2  _  M  _  M  _  _  _ \n",
      "3  _  M  _  _  _  _  _ \n",
      "4  _  _  M  _  M  _  _ \n",
      "5  _  _  _  _  _  M  _ \n",
      "6  _  _  _  _  _  _  _ \n",
      "MinesweeperStates.in_progress\n",
      "Mark #7 at cell(2,1)\n",
      "   0  1  2  3  4  5  6 \n",
      "0  _  _  _  _  _  _  _ \n",
      "1  _  _  _  _  _  _  _ \n",
      "2  _  M  _  M  _  _  _ \n",
      "3  _  M  _  _  _  _  _ \n",
      "4  _  _  M  _  M  _  _ \n",
      "5  _  _  _  _  _  M  _ \n",
      "6  _  _  _  _  _  _  _ \n",
      "MinesweeperStates.in_progress\n",
      "Mark #8 at cell(2,1)\n",
      "   0  1  2  3  4  5  6 \n",
      "0  _  _  _  _  _  _  _ \n",
      "1  _  _  _  _  _  _  _ \n",
      "2  _  M  _  M  _  _  _ \n",
      "3  _  M  _  _  _  _  _ \n",
      "4  _  _  M  _  M  _  _ \n",
      "5  _  _  _  _  _  M  _ \n",
      "6  _  _  _  _  _  _  _ \n",
      "MinesweeperStates.in_progress\n",
      "Mark #9 at cell(2,4)\n",
      "   0  1  2  3  4  5  6 \n",
      "0  _  _  _  _  _  _  _ \n",
      "1  _  _  _  _  _  _  _ \n",
      "2  _  M  _  M  M  _  _ \n",
      "3  _  M  _  _  _  _  _ \n",
      "4  _  _  M  _  M  _  _ \n",
      "5  _  _  _  _  _  M  _ \n",
      "6  _  _  _  _  _  _  _ \n",
      "MinesweeperStates.in_progress\n",
      "Mark #10 at cell(5,1)\n",
      "   0  1  2  3  4  5  6 \n",
      "0  _  _  _  _  _  _  _ \n",
      "1  _  _  _  _  _  _  _ \n",
      "2  _  M  _  M  M  _  _ \n",
      "3  _  M  _  _  _  _  _ \n",
      "4  _  _  M  _  M  _  _ \n",
      "5  _  M  _  _  _  M  _ \n",
      "6  _  _  _  _  _  _  _ \n",
      "MinesweeperStates.in_progress\n",
      "Move #1 at cell(3,5)\n",
      "   0  1  2  3  4  5  6 \n",
      "0  X  1  2  _  1  X  X \n",
      "1  X  2  _  3  1  X  X \n",
      "2  1  M  _  M  M  X  X \n",
      "3  1  M  4  3  1  1  1 \n",
      "4  2  3  M  _  M  2  _ \n",
      "5  _  M  2  3  _  M  2 \n",
      "6  1  1  X  1  1  2  _ \n",
      "MinesweeperStates.in_progress\n",
      "Move #2 at cell(1,0)\n",
      "   0  1  2  3  4  5  6 \n",
      "0  X  1  2  _  1  X  X \n",
      "1  X  2  _  3  1  X  X \n",
      "2  1  M  _  M  M  X  X \n",
      "3  1  M  4  3  1  1  1 \n",
      "4  2  3  M  _  M  2  _ \n",
      "5  _  M  2  3  _  M  2 \n",
      "6  1  1  X  1  1  2  _ \n",
      "MinesweeperStates.in_progress\n",
      "Move #3 at cell(1,3)\n",
      "   0  1  2  3  4  5  6 \n",
      "0  X  1  2  _  1  X  X \n",
      "1  X  2  _  3  1  X  X \n",
      "2  1  M  _  M  M  X  X \n",
      "3  1  M  4  3  1  1  1 \n",
      "4  2  3  M  _  M  2  _ \n",
      "5  _  M  2  3  _  M  2 \n",
      "6  1  1  X  1  1  2  _ \n",
      "MinesweeperStates.in_progress\n",
      "Move #4 at cell(0,2)\n",
      "   0  1  2  3  4  5  6 \n",
      "0  X  1  2  _  1  X  X \n",
      "1  X  2  _  3  1  X  X \n",
      "2  1  M  _  M  M  X  X \n",
      "3  1  M  4  3  1  1  1 \n",
      "4  2  3  M  _  M  2  _ \n",
      "5  _  M  2  3  _  M  2 \n",
      "6  1  1  X  1  1  2  _ \n",
      "MinesweeperStates.in_progress\n",
      "Move #5 at cell(3,4)\n",
      "   0  1  2  3  4  5  6 \n",
      "0  X  1  2  _  1  X  X \n",
      "1  X  2  _  3  1  X  X \n",
      "2  1  M  _  M  M  X  X \n",
      "3  1  M  4  3  1  1  1 \n",
      "4  2  3  M  _  M  2  _ \n",
      "5  _  M  2  3  _  M  2 \n",
      "6  1  1  X  1  1  2  _ \n",
      "MinesweeperStates.in_progress\n",
      "Move #6 at cell(1,2)\n",
      "   0  1  2  3  4  5  6 \n",
      "0  X  1  2  *  1  X  X \n",
      "1  X  2  *  3  1  X  X \n",
      "2  1  3  *  %  %  X  X \n",
      "3  1  M  4  3  1  1  1 \n",
      "4  2  3  M  *  %  2  * \n",
      "5  *  %  2  3  *  %  2 \n",
      "6  1  1  X  1  1  2  * \n",
      "MinesweeperStates.game_lost\n"
     ]
    }
   ],
   "source": [
    "minesweeper.test2()"
   ]
  },
  {
   "cell_type": "code",
   "execution_count": 188,
   "metadata": {
    "collapsed": false
   },
   "outputs": [
    {
     "name": "stdout",
     "output_type": "stream",
     "text": [
      "-------------------------------------------------------------------------------\n",
      "|   New Game                                                                   |\n",
      "-------------------------------------------------------------------------------\n",
      "\n",
      "MinesweeperStates.new_game\n",
      "Mark #1 at cell(3,2)\n",
      "   0  1  2  3  4  5  6 \n",
      "0  _  _  _  _  _  _  _ \n",
      "1  _  _  _  _  _  _  _ \n",
      "2  _  _  _  _  _  _  _ \n",
      "3  _  _  M  _  _  _  _ \n",
      "4  _  _  _  _  _  _  _ \n",
      "5  _  _  _  _  _  _  _ \n",
      "6  _  _  _  _  _  _  _ \n",
      "MinesweeperStates.in_progress\n",
      "Mark #2 at cell(5,0)\n",
      "   0  1  2  3  4  5  6 \n",
      "0  _  _  _  _  _  _  _ \n",
      "1  _  _  _  _  _  _  _ \n",
      "2  _  _  _  _  _  _  _ \n",
      "3  _  _  M  _  _  _  _ \n",
      "4  _  _  _  _  _  _  _ \n",
      "5  M  _  _  _  _  _  _ \n",
      "6  _  _  _  _  _  _  _ \n",
      "MinesweeperStates.in_progress\n",
      "Mark #3 at cell(5,0)\n",
      "   0  1  2  3  4  5  6 \n",
      "0  _  _  _  _  _  _  _ \n",
      "1  _  _  _  _  _  _  _ \n",
      "2  _  _  _  _  _  _  _ \n",
      "3  _  _  M  _  _  _  _ \n",
      "4  _  _  _  _  _  _  _ \n",
      "5  M  _  _  _  _  _  _ \n",
      "6  _  _  _  _  _  _  _ \n",
      "MinesweeperStates.in_progress\n",
      "Mark #4 at cell(1,2)\n",
      "   0  1  2  3  4  5  6 \n",
      "0  _  _  _  _  _  _  _ \n",
      "1  _  _  M  _  _  _  _ \n",
      "2  _  _  _  _  _  _  _ \n",
      "3  _  _  M  _  _  _  _ \n",
      "4  _  _  _  _  _  _  _ \n",
      "5  M  _  _  _  _  _  _ \n",
      "6  _  _  _  _  _  _  _ \n",
      "MinesweeperStates.in_progress\n",
      "Mark #5 at cell(0,3)\n",
      "   0  1  2  3  4  5  6 \n",
      "0  _  _  _  M  _  _  _ \n",
      "1  _  _  M  _  _  _  _ \n",
      "2  _  _  _  _  _  _  _ \n",
      "3  _  _  M  _  _  _  _ \n",
      "4  _  _  _  _  _  _  _ \n",
      "5  M  _  _  _  _  _  _ \n",
      "6  _  _  _  _  _  _  _ \n",
      "MinesweeperStates.in_progress\n",
      "Mark #6 at cell(2,6)\n",
      "   0  1  2  3  4  5  6 \n",
      "0  _  _  _  M  _  _  _ \n",
      "1  _  _  M  _  _  _  _ \n",
      "2  _  _  _  _  _  _  M \n",
      "3  _  _  M  _  _  _  _ \n",
      "4  _  _  _  _  _  _  _ \n",
      "5  M  _  _  _  _  _  _ \n",
      "6  _  _  _  _  _  _  _ \n",
      "MinesweeperStates.in_progress\n",
      "Mark #7 at cell(2,2)\n",
      "   0  1  2  3  4  5  6 \n",
      "0  _  _  _  M  _  _  _ \n",
      "1  _  _  M  _  _  _  _ \n",
      "2  _  _  M  _  _  _  M \n",
      "3  _  _  M  _  _  _  _ \n",
      "4  _  _  _  _  _  _  _ \n",
      "5  M  _  _  _  _  _  _ \n",
      "6  _  _  _  _  _  _  _ \n",
      "MinesweeperStates.in_progress\n",
      "Mark #8 at cell(2,4)\n",
      "   0  1  2  3  4  5  6 \n",
      "0  _  _  _  M  _  _  _ \n",
      "1  _  _  M  _  _  _  _ \n",
      "2  _  _  M  _  M  _  M \n",
      "3  _  _  M  _  _  _  _ \n",
      "4  _  _  _  _  _  _  _ \n",
      "5  M  _  _  _  _  _  _ \n",
      "6  _  _  _  _  _  _  _ \n",
      "MinesweeperStates.in_progress\n",
      "Mark #9 at cell(6,0)\n",
      "   0  1  2  3  4  5  6 \n",
      "0  _  _  _  M  _  _  _ \n",
      "1  _  _  M  _  _  _  _ \n",
      "2  _  _  M  _  M  _  M \n",
      "3  _  _  M  _  _  _  _ \n",
      "4  _  _  _  _  _  _  _ \n",
      "5  M  _  _  _  _  _  _ \n",
      "6  M  _  _  _  _  _  _ \n",
      "MinesweeperStates.in_progress\n",
      "Mark #10 at cell(3,2)\n",
      "   0  1  2  3  4  5  6 \n",
      "0  _  _  _  M  _  _  _ \n",
      "1  _  _  M  _  _  _  _ \n",
      "2  _  _  M  _  M  _  M \n",
      "3  _  _  M  _  _  _  _ \n",
      "4  _  _  _  _  _  _  _ \n",
      "5  M  _  _  _  _  _  _ \n",
      "6  M  _  _  _  _  _  _ \n",
      "MinesweeperStates.in_progress\n",
      "Move #1 at cell(2,2)\n",
      "   0  1  2  3  4  5  6 \n",
      "0  _  _  2  M  _  _  _ \n",
      "1  2  2  M  _  _  _  _ \n",
      "2  X  X  1  2  M  _  M \n",
      "3  1  1  M  1  2  2  _ \n",
      "4  _  1  1  _  1  1  1 \n",
      "5  M  1  1  2  2  1  X \n",
      "6  M  X  X  1  _  1  X \n",
      "MinesweeperStates.in_progress\n",
      "Move #2 at cell(2,3)\n",
      "   0  1  2  3  4  5  6 \n",
      "0  _  _  2  M  _  _  _ \n",
      "1  2  2  M  _  _  _  _ \n",
      "2  X  X  1  2  M  _  M \n",
      "3  1  1  M  1  2  2  _ \n",
      "4  _  1  1  _  1  1  1 \n",
      "5  M  1  1  2  2  1  X \n",
      "6  M  X  X  1  _  1  X \n",
      "MinesweeperStates.in_progress\n",
      "Move #3 at cell(2,6)\n",
      "   0  1  2  3  4  5  6 \n",
      "0  _  _  2  M  2  1  X \n",
      "1  2  2  M  _  _  2  1 \n",
      "2  X  X  1  2  M  _  2 \n",
      "3  1  1  M  1  2  2  _ \n",
      "4  _  1  1  _  1  1  1 \n",
      "5  M  1  1  2  2  1  X \n",
      "6  M  X  X  1  _  1  X \n",
      "MinesweeperStates.in_progress\n",
      "Move #4 at cell(6,4)\n",
      "   0  1  2  3  4  5  6 \n",
      "0  *  *  2  %  2  1  X \n",
      "1  2  2  %  *  *  2  1 \n",
      "2  X  X  1  2  %  *  2 \n",
      "3  1  1  %  1  2  2  * \n",
      "4  *  1  1  *  1  1  1 \n",
      "5  %  1  1  2  2  1  X \n",
      "6  %  X  X  1  *  1  X \n",
      "MinesweeperStates.game_lost\n"
     ]
    }
   ],
   "source": [
    "minesweeper.test2()"
   ]
  },
  {
   "cell_type": "code",
   "execution_count": null,
   "metadata": {
    "collapsed": true
   },
   "outputs": [],
   "source": []
  }
 ],
 "metadata": {
  "kernelspec": {
   "display_name": "Python 3",
   "language": "python",
   "name": "python3"
  },
  "language_info": {
   "codemirror_mode": {
    "name": "ipython",
    "version": 3
   },
   "file_extension": ".py",
   "mimetype": "text/x-python",
   "name": "python",
   "nbconvert_exporter": "python",
   "pygments_lexer": "ipython3",
   "version": "3.5.1"
  }
 },
 "nbformat": 4,
 "nbformat_minor": 0
}
