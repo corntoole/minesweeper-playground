{
 "cells": [
  {
   "cell_type": "code",
   "execution_count": 51,
   "metadata": {
    "collapsed": false
   },
   "outputs": [],
   "source": [
    "class Minesweeper(object):\n",
    "    grid_repr = {'empty': 'X', 'uncovered': '.', 'marked': 'M', 'armed': '*'}\n",
    "    def __init__(self, dim, number_of_mines):\n",
    "        self.mines = []\n",
    "        self.board = [ [] for d in range(dim)]\n",
    "        for r in self.board:\n",
    "            for i in range(dim):\n",
    "                r.append({'state': 'empty'})\n",
    "        for m in range(number_of_mines):\n",
    "            self.mines.append((random.randint(0,dim-1),random.randint(0,dim-1)) )\n",
    "    \n",
    "    def show(self):\n",
    "        for row in self.board:\n",
    "            print([Minesweeper.grid_repr[item['state']] for item in row])\n",
    "        print(self.mines)\n",
    "    "
   ]
  },
  {
   "cell_type": "code",
   "execution_count": 52,
   "metadata": {
    "collapsed": false
   },
   "outputs": [],
   "source": [
    "mine01 = Minesweeper(5, 5)"
   ]
  },
  {
   "cell_type": "code",
   "execution_count": 53,
   "metadata": {
    "collapsed": false
   },
   "outputs": [
    {
     "name": "stdout",
     "output_type": "stream",
     "text": [
      "['X', 'X', 'X', 'X', 'X']\n",
      "['X', 'X', 'X', 'X', 'X']\n",
      "['X', 'X', 'X', 'X', 'X']\n",
      "['X', 'X', 'X', 'X', 'X']\n",
      "['X', 'X', 'X', 'X', 'X']\n",
      "[(3, 4), (0, 2), (0, 2), (0, 4), (1, 1)]\n"
     ]
    }
   ],
   "source": [
    "mine01.show()"
   ]
  },
  {
   "cell_type": "code",
   "execution_count": 3,
   "metadata": {
    "collapsed": false
   },
   "outputs": [
    {
     "name": "stdout",
     "output_type": "stream",
     "text": [
      "Help on module random:\n",
      "\n",
      "NAME\n",
      "    random - Random variable generators.\n",
      "\n",
      "DESCRIPTION\n",
      "        integers\n",
      "        --------\n",
      "               uniform within range\n",
      "    \n",
      "        sequences\n",
      "        ---------\n",
      "               pick random element\n",
      "               pick random sample\n",
      "               generate random permutation\n",
      "    \n",
      "        distributions on the real line:\n",
      "        ------------------------------\n",
      "               uniform\n",
      "               triangular\n",
      "               normal (Gaussian)\n",
      "               lognormal\n",
      "               negative exponential\n",
      "               gamma\n",
      "               beta\n",
      "               pareto\n",
      "               Weibull\n",
      "    \n",
      "        distributions on the circle (angles 0 to 2pi)\n",
      "        ---------------------------------------------\n",
      "               circular uniform\n",
      "               von Mises\n",
      "    \n",
      "    General notes on the underlying Mersenne Twister core generator:\n",
      "    \n",
      "    * The period is 2**19937-1.\n",
      "    * It is one of the most extensively tested generators in existence.\n",
      "    * The random() method is implemented in C, executes in a single Python step,\n",
      "      and is, therefore, threadsafe.\n",
      "\n",
      "CLASSES\n",
      "    _random.Random(builtins.object)\n",
      "        Random\n",
      "            SystemRandom\n",
      "    \n",
      "    class Random(_random.Random)\n",
      "     |  Random number generator base class used by bound module functions.\n",
      "     |  \n",
      "     |  Used to instantiate instances of Random to get generators that don't\n",
      "     |  share state.\n",
      "     |  \n",
      "     |  Class Random can also be subclassed if you want to use a different basic\n",
      "     |  generator of your own devising: in that case, override the following\n",
      "     |  methods:  random(), seed(), getstate(), and setstate().\n",
      "     |  Optionally, implement a getrandbits() method so that randrange()\n",
      "     |  can cover arbitrarily large ranges.\n",
      "     |  \n",
      "     |  Method resolution order:\n",
      "     |      Random\n",
      "     |      _random.Random\n",
      "     |      builtins.object\n",
      "     |  \n",
      "     |  Methods defined here:\n",
      "     |  \n",
      "     |  __getstate__(self)\n",
      "     |      # Issue 17489: Since __reduce__ was defined to fix #759889 this is no\n",
      "     |      # longer called; we leave it here because it has been here since random was\n",
      "     |      # rewritten back in 2001 and why risk breaking something.\n",
      "     |  \n",
      "     |  __init__(self, x=None)\n",
      "     |      Initialize an instance.\n",
      "     |      \n",
      "     |      Optional argument x controls seeding, as for Random.seed().\n",
      "     |  \n",
      "     |  __reduce__(self)\n",
      "     |      helper for pickle\n",
      "     |  \n",
      "     |  __setstate__(self, state)\n",
      "     |  \n",
      "     |  betavariate(self, alpha, beta)\n",
      "     |      Beta distribution.\n",
      "     |      \n",
      "     |      Conditions on the parameters are alpha > 0 and beta > 0.\n",
      "     |      Returned values range between 0 and 1.\n",
      "     |  \n",
      "     |  choice(self, seq)\n",
      "     |      Choose a random element from a non-empty sequence.\n",
      "     |  \n",
      "     |  expovariate(self, lambd)\n",
      "     |      Exponential distribution.\n",
      "     |      \n",
      "     |      lambd is 1.0 divided by the desired mean.  It should be\n",
      "     |      nonzero.  (The parameter would be called \"lambda\", but that is\n",
      "     |      a reserved word in Python.)  Returned values range from 0 to\n",
      "     |      positive infinity if lambd is positive, and from negative\n",
      "     |      infinity to 0 if lambd is negative.\n",
      "     |  \n",
      "     |  gammavariate(self, alpha, beta)\n",
      "     |      Gamma distribution.  Not the gamma function!\n",
      "     |      \n",
      "     |      Conditions on the parameters are alpha > 0 and beta > 0.\n",
      "     |      \n",
      "     |      The probability distribution function is:\n",
      "     |      \n",
      "     |                  x ** (alpha - 1) * math.exp(-x / beta)\n",
      "     |        pdf(x) =  --------------------------------------\n",
      "     |                    math.gamma(alpha) * beta ** alpha\n",
      "     |  \n",
      "     |  gauss(self, mu, sigma)\n",
      "     |      Gaussian distribution.\n",
      "     |      \n",
      "     |      mu is the mean, and sigma is the standard deviation.  This is\n",
      "     |      slightly faster than the normalvariate() function.\n",
      "     |      \n",
      "     |      Not thread-safe without a lock around calls.\n",
      "     |  \n",
      "     |  getstate(self)\n",
      "     |      Return internal state; can be passed to setstate() later.\n",
      "     |  \n",
      "     |  lognormvariate(self, mu, sigma)\n",
      "     |      Log normal distribution.\n",
      "     |      \n",
      "     |      If you take the natural logarithm of this distribution, you'll get a\n",
      "     |      normal distribution with mean mu and standard deviation sigma.\n",
      "     |      mu can have any value, and sigma must be greater than zero.\n",
      "     |  \n",
      "     |  normalvariate(self, mu, sigma)\n",
      "     |      Normal distribution.\n",
      "     |      \n",
      "     |      mu is the mean, and sigma is the standard deviation.\n",
      "     |  \n",
      "     |  paretovariate(self, alpha)\n",
      "     |      Pareto distribution.  alpha is the shape parameter.\n",
      "     |  \n",
      "     |  randint(self, a, b)\n",
      "     |      Return random integer in range [a, b], including both end points.\n",
      "     |  \n",
      "     |  randrange(self, start, stop=None, step=1, _int=<class 'int'>)\n",
      "     |      Choose a random item from range(start, stop[, step]).\n",
      "     |      \n",
      "     |      This fixes the problem with randint() which includes the\n",
      "     |      endpoint; in Python this is usually not what you want.\n",
      "     |  \n",
      "     |  sample(self, population, k)\n",
      "     |      Chooses k unique random elements from a population sequence or set.\n",
      "     |      \n",
      "     |      Returns a new list containing elements from the population while\n",
      "     |      leaving the original population unchanged.  The resulting list is\n",
      "     |      in selection order so that all sub-slices will also be valid random\n",
      "     |      samples.  This allows raffle winners (the sample) to be partitioned\n",
      "     |      into grand prize and second place winners (the subslices).\n",
      "     |      \n",
      "     |      Members of the population need not be hashable or unique.  If the\n",
      "     |      population contains repeats, then each occurrence is a possible\n",
      "     |      selection in the sample.\n",
      "     |      \n",
      "     |      To choose a sample in a range of integers, use range as an argument.\n",
      "     |      This is especially fast and space efficient for sampling from a\n",
      "     |      large population:   sample(range(10000000), 60)\n",
      "     |  \n",
      "     |  seed(self, a=None, version=2)\n",
      "     |      Initialize internal state from hashable object.\n",
      "     |      \n",
      "     |      None or no argument seeds from current time or from an operating\n",
      "     |      system specific randomness source if available.\n",
      "     |      \n",
      "     |      For version 2 (the default), all of the bits are used if *a* is a str,\n",
      "     |      bytes, or bytearray.  For version 1, the hash() of *a* is used instead.\n",
      "     |      \n",
      "     |      If *a* is an int, all bits are used.\n",
      "     |  \n",
      "     |  setstate(self, state)\n",
      "     |      Restore internal state from object returned by getstate().\n",
      "     |  \n",
      "     |  shuffle(self, x, random=None)\n",
      "     |      Shuffle list x in place, and return None.\n",
      "     |      \n",
      "     |      Optional argument random is a 0-argument function returning a\n",
      "     |      random float in [0.0, 1.0); if it is the default None, the\n",
      "     |      standard random.random will be used.\n",
      "     |  \n",
      "     |  triangular(self, low=0.0, high=1.0, mode=None)\n",
      "     |      Triangular distribution.\n",
      "     |      \n",
      "     |      Continuous distribution bounded by given lower and upper limits,\n",
      "     |      and having a given mode value in-between.\n",
      "     |      \n",
      "     |      http://en.wikipedia.org/wiki/Triangular_distribution\n",
      "     |  \n",
      "     |  uniform(self, a, b)\n",
      "     |      Get a random number in the range [a, b) or [a, b] depending on rounding.\n",
      "     |  \n",
      "     |  vonmisesvariate(self, mu, kappa)\n",
      "     |      Circular data distribution.\n",
      "     |      \n",
      "     |      mu is the mean angle, expressed in radians between 0 and 2*pi, and\n",
      "     |      kappa is the concentration parameter, which must be greater than or\n",
      "     |      equal to zero.  If kappa is equal to zero, this distribution reduces\n",
      "     |      to a uniform random angle over the range 0 to 2*pi.\n",
      "     |  \n",
      "     |  weibullvariate(self, alpha, beta)\n",
      "     |      Weibull distribution.\n",
      "     |      \n",
      "     |      alpha is the scale parameter and beta is the shape parameter.\n",
      "     |  \n",
      "     |  ----------------------------------------------------------------------\n",
      "     |  Data descriptors defined here:\n",
      "     |  \n",
      "     |  __dict__\n",
      "     |      dictionary for instance variables (if defined)\n",
      "     |  \n",
      "     |  __weakref__\n",
      "     |      list of weak references to the object (if defined)\n",
      "     |  \n",
      "     |  ----------------------------------------------------------------------\n",
      "     |  Data and other attributes defined here:\n",
      "     |  \n",
      "     |  VERSION = 3\n",
      "     |  \n",
      "     |  ----------------------------------------------------------------------\n",
      "     |  Methods inherited from _random.Random:\n",
      "     |  \n",
      "     |  __getattribute__(self, name, /)\n",
      "     |      Return getattr(self, name).\n",
      "     |  \n",
      "     |  __new__(*args, **kwargs) from builtins.type\n",
      "     |      Create and return a new object.  See help(type) for accurate signature.\n",
      "     |  \n",
      "     |  getrandbits(...)\n",
      "     |      getrandbits(k) -> x.  Generates an int with k random bits.\n",
      "     |  \n",
      "     |  random(...)\n",
      "     |      random() -> x in the interval [0, 1).\n",
      "    \n",
      "    class SystemRandom(Random)\n",
      "     |  Alternate random number generator using sources provided\n",
      "     |  by the operating system (such as /dev/urandom on Unix or\n",
      "     |  CryptGenRandom on Windows).\n",
      "     |  \n",
      "     |   Not available on all systems (see os.urandom() for details).\n",
      "     |  \n",
      "     |  Method resolution order:\n",
      "     |      SystemRandom\n",
      "     |      Random\n",
      "     |      _random.Random\n",
      "     |      builtins.object\n",
      "     |  \n",
      "     |  Methods defined here:\n",
      "     |  \n",
      "     |  getrandbits(self, k)\n",
      "     |      getrandbits(k) -> x.  Generates an int with k random bits.\n",
      "     |  \n",
      "     |  getstate = _notimplemented(self, *args, **kwds)\n",
      "     |  \n",
      "     |  random(self)\n",
      "     |      Get the next random number in the range [0.0, 1.0).\n",
      "     |  \n",
      "     |  seed(self, *args, **kwds)\n",
      "     |      Stub method.  Not used for a system random number generator.\n",
      "     |  \n",
      "     |  setstate = _notimplemented(self, *args, **kwds)\n",
      "     |  \n",
      "     |  ----------------------------------------------------------------------\n",
      "     |  Methods inherited from Random:\n",
      "     |  \n",
      "     |  __getstate__(self)\n",
      "     |      # Issue 17489: Since __reduce__ was defined to fix #759889 this is no\n",
      "     |      # longer called; we leave it here because it has been here since random was\n",
      "     |      # rewritten back in 2001 and why risk breaking something.\n",
      "     |  \n",
      "     |  __init__(self, x=None)\n",
      "     |      Initialize an instance.\n",
      "     |      \n",
      "     |      Optional argument x controls seeding, as for Random.seed().\n",
      "     |  \n",
      "     |  __reduce__(self)\n",
      "     |      helper for pickle\n",
      "     |  \n",
      "     |  __setstate__(self, state)\n",
      "     |  \n",
      "     |  betavariate(self, alpha, beta)\n",
      "     |      Beta distribution.\n",
      "     |      \n",
      "     |      Conditions on the parameters are alpha > 0 and beta > 0.\n",
      "     |      Returned values range between 0 and 1.\n",
      "     |  \n",
      "     |  choice(self, seq)\n",
      "     |      Choose a random element from a non-empty sequence.\n",
      "     |  \n",
      "     |  expovariate(self, lambd)\n",
      "     |      Exponential distribution.\n",
      "     |      \n",
      "     |      lambd is 1.0 divided by the desired mean.  It should be\n",
      "     |      nonzero.  (The parameter would be called \"lambda\", but that is\n",
      "     |      a reserved word in Python.)  Returned values range from 0 to\n",
      "     |      positive infinity if lambd is positive, and from negative\n",
      "     |      infinity to 0 if lambd is negative.\n",
      "     |  \n",
      "     |  gammavariate(self, alpha, beta)\n",
      "     |      Gamma distribution.  Not the gamma function!\n",
      "     |      \n",
      "     |      Conditions on the parameters are alpha > 0 and beta > 0.\n",
      "     |      \n",
      "     |      The probability distribution function is:\n",
      "     |      \n",
      "     |                  x ** (alpha - 1) * math.exp(-x / beta)\n",
      "     |        pdf(x) =  --------------------------------------\n",
      "     |                    math.gamma(alpha) * beta ** alpha\n",
      "     |  \n",
      "     |  gauss(self, mu, sigma)\n",
      "     |      Gaussian distribution.\n",
      "     |      \n",
      "     |      mu is the mean, and sigma is the standard deviation.  This is\n",
      "     |      slightly faster than the normalvariate() function.\n",
      "     |      \n",
      "     |      Not thread-safe without a lock around calls.\n",
      "     |  \n",
      "     |  lognormvariate(self, mu, sigma)\n",
      "     |      Log normal distribution.\n",
      "     |      \n",
      "     |      If you take the natural logarithm of this distribution, you'll get a\n",
      "     |      normal distribution with mean mu and standard deviation sigma.\n",
      "     |      mu can have any value, and sigma must be greater than zero.\n",
      "     |  \n",
      "     |  normalvariate(self, mu, sigma)\n",
      "     |      Normal distribution.\n",
      "     |      \n",
      "     |      mu is the mean, and sigma is the standard deviation.\n",
      "     |  \n",
      "     |  paretovariate(self, alpha)\n",
      "     |      Pareto distribution.  alpha is the shape parameter.\n",
      "     |  \n",
      "     |  randint(self, a, b)\n",
      "     |      Return random integer in range [a, b], including both end points.\n",
      "     |  \n",
      "     |  randrange(self, start, stop=None, step=1, _int=<class 'int'>)\n",
      "     |      Choose a random item from range(start, stop[, step]).\n",
      "     |      \n",
      "     |      This fixes the problem with randint() which includes the\n",
      "     |      endpoint; in Python this is usually not what you want.\n",
      "     |  \n",
      "     |  sample(self, population, k)\n",
      "     |      Chooses k unique random elements from a population sequence or set.\n",
      "     |      \n",
      "     |      Returns a new list containing elements from the population while\n",
      "     |      leaving the original population unchanged.  The resulting list is\n",
      "     |      in selection order so that all sub-slices will also be valid random\n",
      "     |      samples.  This allows raffle winners (the sample) to be partitioned\n",
      "     |      into grand prize and second place winners (the subslices).\n",
      "     |      \n",
      "     |      Members of the population need not be hashable or unique.  If the\n",
      "     |      population contains repeats, then each occurrence is a possible\n",
      "     |      selection in the sample.\n",
      "     |      \n",
      "     |      To choose a sample in a range of integers, use range as an argument.\n",
      "     |      This is especially fast and space efficient for sampling from a\n",
      "     |      large population:   sample(range(10000000), 60)\n",
      "     |  \n",
      "     |  shuffle(self, x, random=None)\n",
      "     |      Shuffle list x in place, and return None.\n",
      "     |      \n",
      "     |      Optional argument random is a 0-argument function returning a\n",
      "     |      random float in [0.0, 1.0); if it is the default None, the\n",
      "     |      standard random.random will be used.\n",
      "     |  \n",
      "     |  triangular(self, low=0.0, high=1.0, mode=None)\n",
      "     |      Triangular distribution.\n",
      "     |      \n",
      "     |      Continuous distribution bounded by given lower and upper limits,\n",
      "     |      and having a given mode value in-between.\n",
      "     |      \n",
      "     |      http://en.wikipedia.org/wiki/Triangular_distribution\n",
      "     |  \n",
      "     |  uniform(self, a, b)\n",
      "     |      Get a random number in the range [a, b) or [a, b] depending on rounding.\n",
      "     |  \n",
      "     |  vonmisesvariate(self, mu, kappa)\n",
      "     |      Circular data distribution.\n",
      "     |      \n",
      "     |      mu is the mean angle, expressed in radians between 0 and 2*pi, and\n",
      "     |      kappa is the concentration parameter, which must be greater than or\n",
      "     |      equal to zero.  If kappa is equal to zero, this distribution reduces\n",
      "     |      to a uniform random angle over the range 0 to 2*pi.\n",
      "     |  \n",
      "     |  weibullvariate(self, alpha, beta)\n",
      "     |      Weibull distribution.\n",
      "     |      \n",
      "     |      alpha is the scale parameter and beta is the shape parameter.\n",
      "     |  \n",
      "     |  ----------------------------------------------------------------------\n",
      "     |  Data descriptors inherited from Random:\n",
      "     |  \n",
      "     |  __dict__\n",
      "     |      dictionary for instance variables (if defined)\n",
      "     |  \n",
      "     |  __weakref__\n",
      "     |      list of weak references to the object (if defined)\n",
      "     |  \n",
      "     |  ----------------------------------------------------------------------\n",
      "     |  Data and other attributes inherited from Random:\n",
      "     |  \n",
      "     |  VERSION = 3\n",
      "     |  \n",
      "     |  ----------------------------------------------------------------------\n",
      "     |  Methods inherited from _random.Random:\n",
      "     |  \n",
      "     |  __getattribute__(self, name, /)\n",
      "     |      Return getattr(self, name).\n",
      "     |  \n",
      "     |  __new__(*args, **kwargs) from builtins.type\n",
      "     |      Create and return a new object.  See help(type) for accurate signature.\n",
      "\n",
      "FUNCTIONS\n",
      "    betavariate(alpha, beta) method of Random instance\n",
      "        Beta distribution.\n",
      "        \n",
      "        Conditions on the parameters are alpha > 0 and beta > 0.\n",
      "        Returned values range between 0 and 1.\n",
      "    \n",
      "    choice(seq) method of Random instance\n",
      "        Choose a random element from a non-empty sequence.\n",
      "    \n",
      "    expovariate(lambd) method of Random instance\n",
      "        Exponential distribution.\n",
      "        \n",
      "        lambd is 1.0 divided by the desired mean.  It should be\n",
      "        nonzero.  (The parameter would be called \"lambda\", but that is\n",
      "        a reserved word in Python.)  Returned values range from 0 to\n",
      "        positive infinity if lambd is positive, and from negative\n",
      "        infinity to 0 if lambd is negative.\n",
      "    \n",
      "    gammavariate(alpha, beta) method of Random instance\n",
      "        Gamma distribution.  Not the gamma function!\n",
      "        \n",
      "        Conditions on the parameters are alpha > 0 and beta > 0.\n",
      "        \n",
      "        The probability distribution function is:\n",
      "        \n",
      "                    x ** (alpha - 1) * math.exp(-x / beta)\n",
      "          pdf(x) =  --------------------------------------\n",
      "                      math.gamma(alpha) * beta ** alpha\n",
      "    \n",
      "    gauss(mu, sigma) method of Random instance\n",
      "        Gaussian distribution.\n",
      "        \n",
      "        mu is the mean, and sigma is the standard deviation.  This is\n",
      "        slightly faster than the normalvariate() function.\n",
      "        \n",
      "        Not thread-safe without a lock around calls.\n",
      "    \n",
      "    getrandbits(...) method of Random instance\n",
      "        getrandbits(k) -> x.  Generates an int with k random bits.\n",
      "    \n",
      "    getstate() method of Random instance\n",
      "        Return internal state; can be passed to setstate() later.\n",
      "    \n",
      "    lognormvariate(mu, sigma) method of Random instance\n",
      "        Log normal distribution.\n",
      "        \n",
      "        If you take the natural logarithm of this distribution, you'll get a\n",
      "        normal distribution with mean mu and standard deviation sigma.\n",
      "        mu can have any value, and sigma must be greater than zero.\n",
      "    \n",
      "    normalvariate(mu, sigma) method of Random instance\n",
      "        Normal distribution.\n",
      "        \n",
      "        mu is the mean, and sigma is the standard deviation.\n",
      "    \n",
      "    paretovariate(alpha) method of Random instance\n",
      "        Pareto distribution.  alpha is the shape parameter.\n",
      "    \n",
      "    randint(a, b) method of Random instance\n",
      "        Return random integer in range [a, b], including both end points.\n",
      "    \n",
      "    random(...) method of Random instance\n",
      "        random() -> x in the interval [0, 1).\n",
      "    \n",
      "    randrange(start, stop=None, step=1, _int=<class 'int'>) method of Random instance\n",
      "        Choose a random item from range(start, stop[, step]).\n",
      "        \n",
      "        This fixes the problem with randint() which includes the\n",
      "        endpoint; in Python this is usually not what you want.\n",
      "    \n",
      "    sample(population, k) method of Random instance\n",
      "        Chooses k unique random elements from a population sequence or set.\n",
      "        \n",
      "        Returns a new list containing elements from the population while\n",
      "        leaving the original population unchanged.  The resulting list is\n",
      "        in selection order so that all sub-slices will also be valid random\n",
      "        samples.  This allows raffle winners (the sample) to be partitioned\n",
      "        into grand prize and second place winners (the subslices).\n",
      "        \n",
      "        Members of the population need not be hashable or unique.  If the\n",
      "        population contains repeats, then each occurrence is a possible\n",
      "        selection in the sample.\n",
      "        \n",
      "        To choose a sample in a range of integers, use range as an argument.\n",
      "        This is especially fast and space efficient for sampling from a\n",
      "        large population:   sample(range(10000000), 60)\n",
      "    \n",
      "    seed(a=None, version=2) method of Random instance\n",
      "        Initialize internal state from hashable object.\n",
      "        \n",
      "        None or no argument seeds from current time or from an operating\n",
      "        system specific randomness source if available.\n",
      "        \n",
      "        For version 2 (the default), all of the bits are used if *a* is a str,\n",
      "        bytes, or bytearray.  For version 1, the hash() of *a* is used instead.\n",
      "        \n",
      "        If *a* is an int, all bits are used.\n",
      "    \n",
      "    setstate(state) method of Random instance\n",
      "        Restore internal state from object returned by getstate().\n",
      "    \n",
      "    shuffle(x, random=None) method of Random instance\n",
      "        Shuffle list x in place, and return None.\n",
      "        \n",
      "        Optional argument random is a 0-argument function returning a\n",
      "        random float in [0.0, 1.0); if it is the default None, the\n",
      "        standard random.random will be used.\n",
      "    \n",
      "    triangular(low=0.0, high=1.0, mode=None) method of Random instance\n",
      "        Triangular distribution.\n",
      "        \n",
      "        Continuous distribution bounded by given lower and upper limits,\n",
      "        and having a given mode value in-between.\n",
      "        \n",
      "        http://en.wikipedia.org/wiki/Triangular_distribution\n",
      "    \n",
      "    uniform(a, b) method of Random instance\n",
      "        Get a random number in the range [a, b) or [a, b] depending on rounding.\n",
      "    \n",
      "    vonmisesvariate(mu, kappa) method of Random instance\n",
      "        Circular data distribution.\n",
      "        \n",
      "        mu is the mean angle, expressed in radians between 0 and 2*pi, and\n",
      "        kappa is the concentration parameter, which must be greater than or\n",
      "        equal to zero.  If kappa is equal to zero, this distribution reduces\n",
      "        to a uniform random angle over the range 0 to 2*pi.\n",
      "    \n",
      "    weibullvariate(alpha, beta) method of Random instance\n",
      "        Weibull distribution.\n",
      "        \n",
      "        alpha is the scale parameter and beta is the shape parameter.\n",
      "\n",
      "DATA\n",
      "    __all__ = ['Random', 'seed', 'random', 'uniform', 'randint', 'choice',...\n",
      "\n",
      "FILE\n",
      "    /Users/corntoole/GIT/grading_utils/env/lib/python3.5/random.py\n",
      "\n",
      "\n"
     ]
    }
   ],
   "source": [
    "import random\n",
    "help(random)"
   ]
  },
  {
   "cell_type": "code",
   "execution_count": 4,
   "metadata": {
    "collapsed": true
   },
   "outputs": [],
   "source": [
    "class Minesweeper(object):\n",
    "    grid_repr = {'empty': 'X', 'uncovered': '.', 'marked': 'M', 'armed': '*'}\n",
    "    def __init__(self, dim, number_of_mines):\n",
    "        self.mines = []\n",
    "        self.board = [ [] for d in range(dim)]\n",
    "        for r in self.board:\n",
    "            for i in range(dim):\n",
    "                r.append({'state': 'empty'})\n",
    "        for m in range(number_of_mines):\n",
    "            x,y = (random.randint(0,dim-1),random.randint(0,dim-1))\n",
    "            self.mines.append((x,y))\n",
    "            self.board[y][x]['state'] = 'armed'\n",
    "    \n",
    "    def show(self):\n",
    "        for row in self.board:\n",
    "            print([Minesweeper.grid_repr[item['state']] for item in row])\n",
    "        print(self.mines)\n",
    "     "
   ]
  },
  {
   "cell_type": "code",
   "execution_count": 5,
   "metadata": {
    "collapsed": false
   },
   "outputs": [],
   "source": [
    "mine02 = Minesweeper(4, 3)"
   ]
  },
  {
   "cell_type": "code",
   "execution_count": 59,
   "metadata": {
    "collapsed": false
   },
   "outputs": [
    {
     "name": "stdout",
     "output_type": "stream",
     "text": [
      "['X', 'X', 'X', 'X']\n",
      "['X', 'X', '*', 'X']\n",
      "['*', 'X', 'X', 'X']\n",
      "['X', 'X', 'X', '*']\n",
      "[(2, 1), (0, 2), (3, 3)]\n"
     ]
    }
   ],
   "source": [
    "mine02.show()"
   ]
  },
  {
   "cell_type": "markdown",
   "metadata": {
    "collapsed": true
   },
   "source": [
    "## Algorithm: Cell Marking\n",
    "### input: N x N array of cells with M randomly placed mines\n",
    "### output: the number of mines adjacent to each cell, if any\n",
    "            for row in rows:\n",
    "                for cell in row:\n",
    "                    adjacement_mine_count = 0\n",
    "                    for neighbor in get_neighbors(cell):\n",
    "                        if neighbor['state'] == 'armed':\n",
    "                            adjacent_mine_count = adjacent_mine_count + 1\n",
    "                    cell['adjacement_mines'] = adjacent_mine_count\n",
    "  "
   ]
  },
  {
   "cell_type": "markdown",
   "metadata": {},
   "source": [
    "## Algorithm: Cell Marking Alternative - iterate through list of mines\n",
    "### input: N x N array of cells with M randomly placed mines, a list of mine locations\n",
    "### output: the number of mines adjacent to each cell, if any\n",
    "            for mine in mines_list:\n",
    "                for cell in neighbors(mine):\n",
    "                    cell[adjacent_mines] = cell[adjacent_mines] + 1\n",
    "  "
   ]
  },
  {
   "cell_type": "code",
   "execution_count": 6,
   "metadata": {
    "collapsed": false
   },
   "outputs": [
    {
     "data": {
      "text/plain": [
       "[(2, 1), (1, 2), (2, 3)]"
      ]
     },
     "execution_count": 6,
     "metadata": {},
     "output_type": "execute_result"
    }
   ],
   "source": [
    "mine02.mines"
   ]
  },
  {
   "cell_type": "code",
   "execution_count": 36,
   "metadata": {
    "collapsed": false
   },
   "outputs": [],
   "source": [
    "def get_neighbors(i, j, n):\n",
    "    def within_bounds(row, col):\n",
    "        return (row,col) != (i,j) and row >= 0 and row < n and col >= 0 and col < n\n",
    "    neighbors = []\n",
    "    for r in range(i-1, i+2, 1):\n",
    "        print('r ',r, 'i', i)\n",
    "        for c in range(j-1, j+2, 1):\n",
    "            print('c ', c)\n",
    "            if within_bounds(r,c):\n",
    "                neighbors.append((r,c))\n",
    "    return neighbors"
   ]
  },
  {
   "cell_type": "code",
   "execution_count": 21,
   "metadata": {
    "collapsed": false
   },
   "outputs": [],
   "source": [
    "lst = range(0,10)"
   ]
  },
  {
   "cell_type": "code",
   "execution_count": 12,
   "metadata": {
    "collapsed": false
   },
   "outputs": [
    {
     "data": {
      "text/plain": [
       "range(0, 10)"
      ]
     },
     "execution_count": 12,
     "metadata": {},
     "output_type": "execute_result"
    }
   ],
   "source": []
  },
  {
   "cell_type": "code",
   "execution_count": 13,
   "metadata": {
    "collapsed": false
   },
   "outputs": [
    {
     "data": {
      "text/plain": [
       "0"
      ]
     },
     "execution_count": 13,
     "metadata": {},
     "output_type": "execute_result"
    }
   ],
   "source": [
    "lst.start"
   ]
  },
  {
   "cell_type": "code",
   "execution_count": 14,
   "metadata": {
    "collapsed": true
   },
   "outputs": [],
   "source": [
    "i,j = 1,2"
   ]
  },
  {
   "cell_type": "code",
   "execution_count": 27,
   "metadata": {
    "collapsed": false
   },
   "outputs": [
    {
     "data": {
      "text/plain": [
       "[0, 1, 2]"
      ]
     },
     "execution_count": 27,
     "metadata": {},
     "output_type": "execute_result"
    }
   ],
   "source": [
    "[i for i in range(i-1,i+2)]"
   ]
  },
  {
   "cell_type": "code",
   "execution_count": 37,
   "metadata": {
    "collapsed": false
   },
   "outputs": [
    {
     "name": "stdout",
     "output_type": "stream",
     "text": [
      "r  1 i 2\n",
      "c  0\n",
      "c  1\n",
      "c  2\n",
      "r  2 i 2\n",
      "c  0\n",
      "c  1\n",
      "c  2\n",
      "r  3 i 2\n",
      "c  0\n",
      "c  1\n",
      "c  2\n"
     ]
    },
    {
     "data": {
      "text/plain": [
       "[(1, 0), (1, 1), (1, 2), (2, 0), (2, 2), (3, 0), (3, 1), (3, 2)]"
      ]
     },
     "execution_count": 37,
     "metadata": {},
     "output_type": "execute_result"
    }
   ],
   "source": [
    "get_neighbors(2,1,4)"
   ]
  },
  {
   "cell_type": "code",
   "execution_count": 39,
   "metadata": {
    "collapsed": false
   },
   "outputs": [],
   "source": [
    "class Minesweeper(object):\n",
    "    grid_repr = {'empty': 'X', 'uncovered': '.', 'marked': 'M', 'armed': '*'}\n",
    "    def compute_mine_adjacency(self):\n",
    "        for mine in self.mines:\n",
    "            for cell in get_neighbors(mine[0], mine[1], len(self.board)):\n",
    "                if self.board[cell[0]][cell[1]]['adjacent_mines'] is None:\n",
    "                    self.board[cell[0]][cell[1]]['adjacent_mines'] = 0\n",
    "                self.board[cell[0]][cell[1]]['adjacent_mines'] = self.board[cell[0]][cell[1]]['adjacent_mines'] + 1\n",
    "                \n",
    "    def __init__(self, dim, number_of_mines):\n",
    "        self.mines = []\n",
    "        self.board = [ [] for d in range(dim)]\n",
    "        for r in self.board:\n",
    "            for i in range(dim):\n",
    "                r.append({'state': 'empty'})\n",
    "        for m in range(number_of_mines):\n",
    "            x,y = (random.randint(0,dim-1),random.randint(0,dim-1))\n",
    "            self.mines.append((x,y))\n",
    "            self.board[y][x]['state'] = 'armed'\n",
    "        self.compute_mine_adjacency()\n",
    "    \n",
    "    def show(self):\n",
    "        for row in self.board:\n",
    "            print([Minesweeper.grid_repr[item['state'], item['adjacent_mines']] for item in row])\n",
    "        print(self.mines)"
   ]
  },
  {
   "cell_type": "code",
   "execution_count": 40,
   "metadata": {
    "collapsed": true
   },
   "outputs": [],
   "source": [
    "mine03 = Minesweeper(4,2)"
   ]
  },
  {
   "cell_type": "code",
   "execution_count": 41,
   "metadata": {
    "collapsed": false
   },
   "outputs": [
    {
     "ename": "KeyError",
     "evalue": "'adjacent_mines'",
     "output_type": "error",
     "traceback": [
      "\u001b[0;31m---------------------------------------------------------------------------\u001b[0m",
      "\u001b[0;31mKeyError\u001b[0m                                  Traceback (most recent call last)",
      "\u001b[0;32m<ipython-input-41-b28af4f806c1>\u001b[0m in \u001b[0;36m<module>\u001b[0;34m()\u001b[0m\n\u001b[0;32m----> 1\u001b[0;31m \u001b[0mmine03\u001b[0m\u001b[0;34m.\u001b[0m\u001b[0mshow\u001b[0m\u001b[0;34m(\u001b[0m\u001b[0;34m)\u001b[0m\u001b[0;34m\u001b[0m\u001b[0m\n\u001b[0m",
      "\u001b[0;32m<ipython-input-39-c23f5eaef246>\u001b[0m in \u001b[0;36mshow\u001b[0;34m(self)\u001b[0m\n\u001b[1;32m     21\u001b[0m     \u001b[0;32mdef\u001b[0m \u001b[0mshow\u001b[0m\u001b[0;34m(\u001b[0m\u001b[0mself\u001b[0m\u001b[0;34m)\u001b[0m\u001b[0;34m:\u001b[0m\u001b[0;34m\u001b[0m\u001b[0m\n\u001b[1;32m     22\u001b[0m         \u001b[0;32mfor\u001b[0m \u001b[0mrow\u001b[0m \u001b[0;32min\u001b[0m \u001b[0mself\u001b[0m\u001b[0;34m.\u001b[0m\u001b[0mboard\u001b[0m\u001b[0;34m:\u001b[0m\u001b[0;34m\u001b[0m\u001b[0m\n\u001b[0;32m---> 23\u001b[0;31m             \u001b[0mprint\u001b[0m\u001b[0;34m(\u001b[0m\u001b[0;34m[\u001b[0m\u001b[0mMinesweeper\u001b[0m\u001b[0;34m.\u001b[0m\u001b[0mgrid_repr\u001b[0m\u001b[0;34m[\u001b[0m\u001b[0mitem\u001b[0m\u001b[0;34m[\u001b[0m\u001b[0;34m'state'\u001b[0m\u001b[0;34m]\u001b[0m\u001b[0;34m,\u001b[0m \u001b[0mitem\u001b[0m\u001b[0;34m[\u001b[0m\u001b[0;34m'adjacent_mines'\u001b[0m\u001b[0;34m]\u001b[0m\u001b[0;34m]\u001b[0m \u001b[0;32mfor\u001b[0m \u001b[0mitem\u001b[0m \u001b[0;32min\u001b[0m \u001b[0mrow\u001b[0m\u001b[0;34m]\u001b[0m\u001b[0;34m)\u001b[0m\u001b[0;34m\u001b[0m\u001b[0m\n\u001b[0m\u001b[1;32m     24\u001b[0m         \u001b[0mprint\u001b[0m\u001b[0;34m(\u001b[0m\u001b[0mself\u001b[0m\u001b[0;34m.\u001b[0m\u001b[0mmines\u001b[0m\u001b[0;34m)\u001b[0m\u001b[0;34m\u001b[0m\u001b[0m\n",
      "\u001b[0;32m<ipython-input-39-c23f5eaef246>\u001b[0m in \u001b[0;36m<listcomp>\u001b[0;34m(.0)\u001b[0m\n\u001b[1;32m     21\u001b[0m     \u001b[0;32mdef\u001b[0m \u001b[0mshow\u001b[0m\u001b[0;34m(\u001b[0m\u001b[0mself\u001b[0m\u001b[0;34m)\u001b[0m\u001b[0;34m:\u001b[0m\u001b[0;34m\u001b[0m\u001b[0m\n\u001b[1;32m     22\u001b[0m         \u001b[0;32mfor\u001b[0m \u001b[0mrow\u001b[0m \u001b[0;32min\u001b[0m \u001b[0mself\u001b[0m\u001b[0;34m.\u001b[0m\u001b[0mboard\u001b[0m\u001b[0;34m:\u001b[0m\u001b[0;34m\u001b[0m\u001b[0m\n\u001b[0;32m---> 23\u001b[0;31m             \u001b[0mprint\u001b[0m\u001b[0;34m(\u001b[0m\u001b[0;34m[\u001b[0m\u001b[0mMinesweeper\u001b[0m\u001b[0;34m.\u001b[0m\u001b[0mgrid_repr\u001b[0m\u001b[0;34m[\u001b[0m\u001b[0mitem\u001b[0m\u001b[0;34m[\u001b[0m\u001b[0;34m'state'\u001b[0m\u001b[0;34m]\u001b[0m\u001b[0;34m,\u001b[0m \u001b[0mitem\u001b[0m\u001b[0;34m[\u001b[0m\u001b[0;34m'adjacent_mines'\u001b[0m\u001b[0;34m]\u001b[0m\u001b[0;34m]\u001b[0m \u001b[0;32mfor\u001b[0m \u001b[0mitem\u001b[0m \u001b[0;32min\u001b[0m \u001b[0mrow\u001b[0m\u001b[0;34m]\u001b[0m\u001b[0;34m)\u001b[0m\u001b[0;34m\u001b[0m\u001b[0m\n\u001b[0m\u001b[1;32m     24\u001b[0m         \u001b[0mprint\u001b[0m\u001b[0;34m(\u001b[0m\u001b[0mself\u001b[0m\u001b[0;34m.\u001b[0m\u001b[0mmines\u001b[0m\u001b[0;34m)\u001b[0m\u001b[0;34m\u001b[0m\u001b[0m\n",
      "\u001b[0;31mKeyError\u001b[0m: 'adjacent_mines'"
     ]
    }
   ],
   "source": [
    "mine03.show()"
   ]
  },
  {
   "cell_type": "code",
   "execution_count": 64,
   "metadata": {
    "collapsed": false
   },
   "outputs": [],
   "source": [
    "class Minesweeper(object):\n",
    "    grid_repr = {'empty': 'X', 'uncovered': '.', 'marked': 'M', 'armed': '*'}\n",
    "    def compute_mine_adjacency(self):\n",
    "        for mine in self.mines:\n",
    "            for cell in get_neighbors(mine[0], mine[1], len(self.board)):\n",
    "                self.board[cell[0]][cell[1]]['adjacent_mines'] = self.board[cell[0]][cell[1]]['adjacent_mines'] + 1\n",
    "                \n",
    "    def __init__(self, dim, number_of_mines):\n",
    "        self.mines = []\n",
    "        self.board = [ [] for d in range(dim)]\n",
    "        for r in self.board:\n",
    "            for i in range(dim):\n",
    "                r.append({'state': 'empty', 'adjacent_mines': 0})\n",
    "        for m in range(number_of_mines):\n",
    "            x,y = (random.randint(0,dim-1),random.randint(0,dim-1))\n",
    "            self.mines.append((x,y))\n",
    "            self.board[x][y]['state'] = 'armed'\n",
    "        self.compute_mine_adjacency()\n",
    "    \n",
    "    def show(self):\n",
    "        for row in self.board:\n",
    "            print([Minesweeper.grid_repr[item['state']] for item in row])\n",
    "            \n",
    "        for row in self.board:\n",
    "            print([item['adjacent_mines'] for item in row])\n",
    "\n",
    "        print(self.mines)"
   ]
  },
  {
   "cell_type": "code",
   "execution_count": 58,
   "metadata": {
    "collapsed": false
   },
   "outputs": [
    {
     "name": "stdout",
     "output_type": "stream",
     "text": [
      "r  0 i 1\n",
      "c  0\n",
      "c  1\n",
      "c  2\n",
      "r  1 i 1\n",
      "c  0\n",
      "c  1\n",
      "c  2\n",
      "r  2 i 1\n",
      "c  0\n",
      "c  1\n",
      "c  2\n",
      "r  2 i 3\n",
      "c  1\n",
      "c  2\n",
      "c  3\n",
      "r  3 i 3\n",
      "c  1\n",
      "c  2\n",
      "c  3\n",
      "r  4 i 3\n",
      "c  1\n",
      "c  2\n",
      "c  3\n"
     ]
    }
   ],
   "source": [
    "mine03 = Minesweeper(4,2)"
   ]
  },
  {
   "cell_type": "code",
   "execution_count": 59,
   "metadata": {
    "collapsed": false
   },
   "outputs": [
    {
     "name": "stdout",
     "output_type": "stream",
     "text": [
      "[1, 1, 1, 0]\n",
      "[1, 0, 1, 0]\n",
      "[1, 2, 2, 1]\n",
      "[0, 1, 0, 1]\n",
      "[(1, 1), (3, 2)]\n"
     ]
    }
   ],
   "source": [
    "mine03.show()"
   ]
  },
  {
   "cell_type": "code",
   "execution_count": 65,
   "metadata": {
    "collapsed": false
   },
   "outputs": [
    {
     "name": "stdout",
     "output_type": "stream",
     "text": [
      "r  2 i 3\n",
      "c  3\n",
      "c  4\n",
      "c  5\n",
      "r  3 i 3\n",
      "c  3\n",
      "c  4\n",
      "c  5\n",
      "r  4 i 3\n",
      "c  3\n",
      "c  4\n",
      "c  5\n",
      "r  2 i 3\n",
      "c  0\n",
      "c  1\n",
      "c  2\n",
      "r  3 i 3\n",
      "c  0\n",
      "c  1\n",
      "c  2\n",
      "r  4 i 3\n",
      "c  0\n",
      "c  1\n",
      "c  2\n",
      "r  1 i 2\n",
      "c  2\n",
      "c  3\n",
      "c  4\n",
      "r  2 i 2\n",
      "c  2\n",
      "c  3\n",
      "c  4\n",
      "r  3 i 2\n",
      "c  2\n",
      "c  3\n",
      "c  4\n"
     ]
    }
   ],
   "source": [
    "mine04 = Minesweeper(5, 3)"
   ]
  },
  {
   "cell_type": "code",
   "execution_count": 62,
   "metadata": {
    "collapsed": false
   },
   "outputs": [
    {
     "name": "stdout",
     "output_type": "stream",
     "text": [
      "['X', 'X', '*', 'X', 'X']\n",
      "['*', 'X', 'X', 'X', 'X']\n",
      "['X', 'X', 'X', 'X', 'X']\n",
      "['X', 'X', 'X', '*', 'X']\n",
      "['X', 'X', 'X', 'X', 'X']\n",
      "[1, 0, 1, 0, 0]\n",
      "[2, 2, 1, 0, 0]\n",
      "[0, 1, 1, 1, 1]\n",
      "[1, 1, 1, 0, 1]\n",
      "[0, 0, 1, 1, 1]\n",
      "[(2, 0), (0, 1), (3, 3)]\n"
     ]
    }
   ],
   "source": [
    "mine04.show()"
   ]
  },
  {
   "cell_type": "code",
   "execution_count": 66,
   "metadata": {
    "collapsed": false
   },
   "outputs": [
    {
     "name": "stdout",
     "output_type": "stream",
     "text": [
      "['X', 'X', 'X', 'X', 'X']\n",
      "['X', 'X', 'X', 'X', 'X']\n",
      "['X', 'X', 'X', '*', 'X']\n",
      "['X', '*', 'X', 'X', '*']\n",
      "['X', 'X', 'X', 'X', 'X']\n",
      "[0, 0, 0, 0, 0]\n",
      "[0, 0, 1, 1, 1]\n",
      "[1, 1, 2, 1, 2]\n",
      "[1, 0, 2, 2, 1]\n",
      "[1, 1, 1, 1, 1]\n",
      "[(3, 4), (3, 1), (2, 3)]\n"
     ]
    }
   ],
   "source": [
    "mine04.show()"
   ]
  },
  {
   "cell_type": "code",
   "execution_count": 67,
   "metadata": {
    "collapsed": true
   },
   "outputs": [],
   "source": [
    "class MSCell(object):\n",
    "    state_repr = {'empty': 'X', 'uncovered': '.', 'marked': 'M', 'armed': '*'}\n",
    "    def __init__(self, state = 'empty', adjacent_mines = 0):\n",
    "        self.state = state\n",
    "        self.adjacent_mines = 0"
   ]
  },
  {
   "cell_type": "code",
   "execution_count": 94,
   "metadata": {
    "collapsed": true
   },
   "outputs": [],
   "source": [
    "class Minesweeper(object):\n",
    "    grid_repr = {'empty': 'X', 'uncovered': '.', 'marked': 'M', 'armed': '*'}\n",
    "    def compute_mine_adjacency(self):\n",
    "        for mine in self.mines:\n",
    "            for cell in get_neighbors(mine[0], mine[1], len(self.board)):\n",
    "                self.board[cell[0]][cell[1]]['adjacent_mines'] = self.board[cell[0]][cell[1]]['adjacent_mines'] + 1\n",
    "                \n",
    "    def __init__(self, dim, number_of_mines):\n",
    "        self.mines = []\n",
    "        self.board = [ [] for d in range(dim)]\n",
    "        for r in self.board:\n",
    "            for i in range(dim):\n",
    "                r.append({'state': 'empty', 'adjacent_mines': 0})\n",
    "        for m in range(number_of_mines):\n",
    "            x,y = (random.randint(0,dim-1),random.randint(0,dim-1))\n",
    "            self.mines.append((x,y))\n",
    "            self.board[x][y]['state'] = 'armed'\n",
    "        self.compute_mine_adjacency()\n",
    "    \n",
    "    def show(self):\n",
    "        for row in self.board:\n",
    "            print([Minesweeper.grid_repr[item['state']] for item in row])\n",
    "            \n",
    "        for row in self.board:\n",
    "            print([item['adjacent_mines'] for item in row])\n",
    "\n",
    "        print(self.mines)\n",
    "        \n",
    "    def uncover_cell(self, x, y):\n",
    "        if self.board[y][x]['state'] == 'empty':\n",
    "            self.board[y][x]['state'] = 'uncovered'\n",
    "            self.uncover_empty_neighbors(y,x)\n",
    "    \n",
    "    def uncover_empty_neighbors(self, i, j):\n",
    "        for r,c in get_neighbors(i,j, len(self.board)):\n",
    "            if self.board[r][c]['state'] == 'empty':\n",
    "                self.board[r][c]['state'] = 'uncovered'\n",
    "                self.uncover_empty_neighbors(r,c)"
   ]
  },
  {
   "cell_type": "code",
   "execution_count": 70,
   "metadata": {
    "collapsed": false
   },
   "outputs": [
    {
     "name": "stdout",
     "output_type": "stream",
     "text": [
      "r  1 i 2\n",
      "c  6\n",
      "c  7\n",
      "c  8\n",
      "r  2 i 2\n",
      "c  6\n",
      "c  7\n",
      "c  8\n",
      "r  3 i 2\n",
      "c  6\n",
      "c  7\n",
      "c  8\n",
      "r  6 i 7\n",
      "c  1\n",
      "c  2\n",
      "c  3\n",
      "r  7 i 7\n",
      "c  1\n",
      "c  2\n",
      "c  3\n",
      "r  8 i 7\n",
      "c  1\n",
      "c  2\n",
      "c  3\n",
      "r  4 i 5\n",
      "c  4\n",
      "c  5\n",
      "c  6\n",
      "r  5 i 5\n",
      "c  4\n",
      "c  5\n",
      "c  6\n",
      "r  6 i 5\n",
      "c  4\n",
      "c  5\n",
      "c  6\n",
      "r  0 i 1\n",
      "c  1\n",
      "c  2\n",
      "c  3\n",
      "r  1 i 1\n",
      "c  1\n",
      "c  2\n",
      "c  3\n",
      "r  2 i 1\n",
      "c  1\n",
      "c  2\n",
      "c  3\n",
      "r  -1 i 0\n",
      "c  0\n",
      "c  1\n",
      "c  2\n",
      "r  0 i 0\n",
      "c  0\n",
      "c  1\n",
      "c  2\n",
      "r  1 i 0\n",
      "c  0\n",
      "c  1\n",
      "c  2\n"
     ]
    }
   ],
   "source": [
    "mine05 = Minesweeper(10, 5)"
   ]
  },
  {
   "cell_type": "code",
   "execution_count": 71,
   "metadata": {
    "collapsed": true
   },
   "outputs": [],
   "source": [
    "def get_neighbors(i, j, n):\n",
    "    def within_bounds(row, col):\n",
    "        return (row,col) != (i,j) and row >= 0 and row < n and col >= 0 and col < n\n",
    "    neighbors = []\n",
    "    for r in range(i-1, i+2, 1):\n",
    "#         print('r ',r, 'i', i)\n",
    "        for c in range(j-1, j+2, 1):\n",
    "#             print('c ', c)\n",
    "            if within_bounds(r,c):\n",
    "                neighbors.append((r,c))\n",
    "    return neighbors"
   ]
  },
  {
   "cell_type": "code",
   "execution_count": 72,
   "metadata": {
    "collapsed": true
   },
   "outputs": [],
   "source": [
    "mine05 = Minesweeper(10, 5)"
   ]
  },
  {
   "cell_type": "code",
   "execution_count": 73,
   "metadata": {
    "collapsed": false
   },
   "outputs": [
    {
     "name": "stdout",
     "output_type": "stream",
     "text": [
      "['X', 'X', 'X', 'X', 'X', 'X', 'X', 'X', 'X', 'X']\n",
      "['X', 'X', 'X', 'X', '*', 'X', 'X', 'X', 'X', 'X']\n",
      "['X', '*', 'X', 'X', 'X', 'X', 'X', 'X', 'X', 'X']\n",
      "['X', 'X', 'X', 'X', 'X', 'X', 'X', 'X', 'X', 'X']\n",
      "['X', 'X', 'X', 'X', 'X', '*', 'X', 'X', 'X', 'X']\n",
      "['X', 'X', 'X', 'X', 'X', 'X', 'X', 'X', 'X', 'X']\n",
      "['X', '*', 'X', '*', 'X', 'X', 'X', 'X', 'X', 'X']\n",
      "['X', 'X', 'X', 'X', 'X', 'X', 'X', 'X', 'X', 'X']\n",
      "['X', 'X', 'X', 'X', 'X', 'X', 'X', 'X', 'X', 'X']\n",
      "['X', 'X', 'X', 'X', 'X', 'X', 'X', 'X', 'X', 'X']\n",
      "[0, 0, 0, 1, 1, 1, 0, 0, 0, 0]\n",
      "[1, 1, 1, 1, 0, 1, 0, 0, 0, 0]\n",
      "[1, 0, 1, 1, 1, 1, 0, 0, 0, 0]\n",
      "[1, 1, 1, 0, 1, 1, 1, 0, 0, 0]\n",
      "[0, 0, 0, 0, 1, 0, 1, 0, 0, 0]\n",
      "[1, 1, 2, 1, 2, 1, 1, 0, 0, 0]\n",
      "[1, 0, 2, 0, 1, 0, 0, 0, 0, 0]\n",
      "[1, 1, 2, 1, 1, 0, 0, 0, 0, 0]\n",
      "[0, 0, 0, 0, 0, 0, 0, 0, 0, 0]\n",
      "[0, 0, 0, 0, 0, 0, 0, 0, 0, 0]\n",
      "[(6, 3), (1, 4), (2, 1), (6, 1), (4, 5)]\n"
     ]
    }
   ],
   "source": [
    "mine05.show()"
   ]
  },
  {
   "cell_type": "code",
   "execution_count": 74,
   "metadata": {
    "collapsed": false
   },
   "outputs": [
    {
     "ename": "TypeError",
     "evalue": "uncover_empty_neighbors() takes 3 positional arguments but 4 were given",
     "output_type": "error",
     "traceback": [
      "\u001b[0;31m---------------------------------------------------------------------------\u001b[0m",
      "\u001b[0;31mTypeError\u001b[0m                                 Traceback (most recent call last)",
      "\u001b[0;32m<ipython-input-74-5e4e8143ca13>\u001b[0m in \u001b[0;36m<module>\u001b[0;34m()\u001b[0m\n\u001b[0;32m----> 1\u001b[0;31m \u001b[0mmine05\u001b[0m\u001b[0;34m.\u001b[0m\u001b[0muncover_cell\u001b[0m\u001b[0;34m(\u001b[0m\u001b[0;36m0\u001b[0m\u001b[0;34m,\u001b[0m\u001b[0;36m4\u001b[0m\u001b[0;34m)\u001b[0m\u001b[0;34m\u001b[0m\u001b[0m\n\u001b[0m",
      "\u001b[0;32m<ipython-input-69-9acdf35ed098>\u001b[0m in \u001b[0;36muncover_cell\u001b[0;34m(self, x, y)\u001b[0m\n\u001b[1;32m     29\u001b[0m     \u001b[0;32mdef\u001b[0m \u001b[0muncover_cell\u001b[0m\u001b[0;34m(\u001b[0m\u001b[0mself\u001b[0m\u001b[0;34m,\u001b[0m \u001b[0mx\u001b[0m\u001b[0;34m,\u001b[0m \u001b[0my\u001b[0m\u001b[0;34m)\u001b[0m\u001b[0;34m:\u001b[0m\u001b[0;34m\u001b[0m\u001b[0m\n\u001b[1;32m     30\u001b[0m         \u001b[0;32mif\u001b[0m \u001b[0mself\u001b[0m\u001b[0;34m.\u001b[0m\u001b[0mboard\u001b[0m\u001b[0;34m[\u001b[0m\u001b[0my\u001b[0m\u001b[0;34m]\u001b[0m\u001b[0;34m[\u001b[0m\u001b[0mx\u001b[0m\u001b[0;34m]\u001b[0m\u001b[0;34m[\u001b[0m\u001b[0;34m'state'\u001b[0m\u001b[0;34m]\u001b[0m \u001b[0;34m==\u001b[0m \u001b[0;34m'empty'\u001b[0m\u001b[0;34m:\u001b[0m\u001b[0;34m\u001b[0m\u001b[0m\n\u001b[0;32m---> 31\u001b[0;31m             \u001b[0mself\u001b[0m\u001b[0;34m.\u001b[0m\u001b[0muncover_empty_neighbors\u001b[0m\u001b[0;34m(\u001b[0m\u001b[0my\u001b[0m\u001b[0;34m,\u001b[0m\u001b[0mx\u001b[0m\u001b[0;34m)\u001b[0m\u001b[0;34m\u001b[0m\u001b[0m\n\u001b[0m\u001b[1;32m     32\u001b[0m \u001b[0;34m\u001b[0m\u001b[0m\n\u001b[1;32m     33\u001b[0m     \u001b[0;32mdef\u001b[0m \u001b[0muncover_empty_neighbors\u001b[0m\u001b[0;34m(\u001b[0m\u001b[0mself\u001b[0m\u001b[0;34m,\u001b[0m \u001b[0mi\u001b[0m\u001b[0;34m,\u001b[0m \u001b[0mj\u001b[0m\u001b[0;34m)\u001b[0m\u001b[0;34m:\u001b[0m\u001b[0;34m\u001b[0m\u001b[0m\n",
      "\u001b[0;32m<ipython-input-69-9acdf35ed098>\u001b[0m in \u001b[0;36muncover_empty_neighbors\u001b[0;34m(self, i, j)\u001b[0m\n\u001b[1;32m     35\u001b[0m             \u001b[0;32mif\u001b[0m \u001b[0mself\u001b[0m\u001b[0;34m.\u001b[0m\u001b[0mboard\u001b[0m\u001b[0;34m[\u001b[0m\u001b[0mr\u001b[0m\u001b[0;34m]\u001b[0m\u001b[0;34m[\u001b[0m\u001b[0mc\u001b[0m\u001b[0;34m]\u001b[0m\u001b[0;34m[\u001b[0m\u001b[0;34m'state'\u001b[0m\u001b[0;34m]\u001b[0m \u001b[0;34m==\u001b[0m \u001b[0;34m'empty'\u001b[0m\u001b[0;34m:\u001b[0m\u001b[0;34m\u001b[0m\u001b[0m\n\u001b[1;32m     36\u001b[0m                 \u001b[0mself\u001b[0m\u001b[0;34m.\u001b[0m\u001b[0mboard\u001b[0m\u001b[0;34m[\u001b[0m\u001b[0mr\u001b[0m\u001b[0;34m]\u001b[0m\u001b[0;34m[\u001b[0m\u001b[0mc\u001b[0m\u001b[0;34m]\u001b[0m\u001b[0;34m[\u001b[0m\u001b[0;34m'state'\u001b[0m\u001b[0;34m]\u001b[0m \u001b[0;34m=\u001b[0m \u001b[0;34m'uncovered'\u001b[0m\u001b[0;34m\u001b[0m\u001b[0m\n\u001b[0;32m---> 37\u001b[0;31m                 \u001b[0mself\u001b[0m\u001b[0;34m.\u001b[0m\u001b[0muncover_empty_neighbors\u001b[0m\u001b[0;34m(\u001b[0m\u001b[0mr\u001b[0m\u001b[0;34m,\u001b[0m\u001b[0mc\u001b[0m\u001b[0;34m,\u001b[0m \u001b[0mlen\u001b[0m\u001b[0;34m(\u001b[0m\u001b[0mself\u001b[0m\u001b[0;34m.\u001b[0m\u001b[0mboard\u001b[0m\u001b[0;34m)\u001b[0m\u001b[0;34m)\u001b[0m\u001b[0;34m\u001b[0m\u001b[0m\n\u001b[0m",
      "\u001b[0;31mTypeError\u001b[0m: uncover_empty_neighbors() takes 3 positional arguments but 4 were given"
     ]
    }
   ],
   "source": [
    "mine05.uncover_cell(0,4)"
   ]
  },
  {
   "cell_type": "code",
   "execution_count": 76,
   "metadata": {
    "collapsed": true
   },
   "outputs": [],
   "source": [
    "mine05 = Minesweeper(10, 10)"
   ]
  },
  {
   "cell_type": "code",
   "execution_count": 77,
   "metadata": {
    "collapsed": false
   },
   "outputs": [
    {
     "name": "stdout",
     "output_type": "stream",
     "text": [
      "['X', 'X', 'X', 'X', 'X', 'X', '*', 'X', 'X', 'X']\n",
      "['X', '*', 'X', '*', 'X', 'X', '*', '*', 'X', 'X']\n",
      "['X', 'X', 'X', 'X', 'X', '*', 'X', 'X', 'X', 'X']\n",
      "['X', 'X', 'X', 'X', 'X', 'X', 'X', 'X', 'X', 'X']\n",
      "['X', '*', 'X', '*', 'X', 'X', 'X', 'X', 'X', 'X']\n",
      "['X', 'X', 'X', 'X', 'X', 'X', 'X', 'X', 'X', 'X']\n",
      "['X', 'X', 'X', 'X', 'X', 'X', 'X', 'X', 'X', 'X']\n",
      "['X', '*', 'X', 'X', 'X', 'X', 'X', 'X', 'X', 'X']\n",
      "['X', 'X', 'X', 'X', '*', 'X', 'X', 'X', 'X', 'X']\n",
      "['X', 'X', 'X', 'X', 'X', 'X', 'X', 'X', 'X', 'X']\n",
      "[1, 1, 2, 1, 1, 2, 2, 3, 1, 0]\n",
      "[1, 0, 2, 0, 2, 3, 3, 2, 1, 0]\n",
      "[1, 1, 2, 1, 2, 1, 3, 2, 1, 0]\n",
      "[1, 1, 2, 1, 2, 1, 1, 0, 0, 0]\n",
      "[1, 0, 2, 0, 1, 0, 0, 0, 0, 0]\n",
      "[1, 1, 2, 1, 1, 0, 0, 0, 0, 0]\n",
      "[1, 1, 1, 0, 0, 0, 0, 0, 0, 0]\n",
      "[1, 0, 1, 1, 1, 1, 0, 0, 0, 0]\n",
      "[1, 1, 1, 1, 0, 1, 0, 0, 0, 0]\n",
      "[0, 0, 0, 1, 1, 1, 0, 0, 0, 0]\n",
      "[(2, 5), (7, 1), (1, 7), (1, 6), (1, 3), (8, 4), (0, 6), (4, 3), (4, 1), (1, 1)]\n"
     ]
    }
   ],
   "source": [
    "mine05.show()"
   ]
  },
  {
   "cell_type": "code",
   "execution_count": 78,
   "metadata": {
    "collapsed": true
   },
   "outputs": [],
   "source": [
    "mine05.uncover_cell(0,4)"
   ]
  },
  {
   "cell_type": "code",
   "execution_count": 79,
   "metadata": {
    "collapsed": false
   },
   "outputs": [
    {
     "name": "stdout",
     "output_type": "stream",
     "text": [
      "['.', '.', '.', '.', '.', '.', '*', '.', '.', '.']\n",
      "['.', '*', '.', '*', '.', '.', '*', '*', '.', '.']\n",
      "['.', '.', '.', '.', '.', '*', '.', '.', '.', '.']\n",
      "['.', '.', '.', '.', '.', '.', '.', '.', '.', '.']\n",
      "['.', '*', '.', '*', '.', '.', '.', '.', '.', '.']\n",
      "['.', '.', '.', '.', '.', '.', '.', '.', '.', '.']\n",
      "['.', '.', '.', '.', '.', '.', '.', '.', '.', '.']\n",
      "['.', '*', '.', '.', '.', '.', '.', '.', '.', '.']\n",
      "['.', '.', '.', '.', '*', '.', '.', '.', '.', '.']\n",
      "['.', '.', '.', '.', '.', '.', '.', '.', '.', '.']\n",
      "[1, 1, 2, 1, 1, 2, 2, 3, 1, 0]\n",
      "[1, 0, 2, 0, 2, 3, 3, 2, 1, 0]\n",
      "[1, 1, 2, 1, 2, 1, 3, 2, 1, 0]\n",
      "[1, 1, 2, 1, 2, 1, 1, 0, 0, 0]\n",
      "[1, 0, 2, 0, 1, 0, 0, 0, 0, 0]\n",
      "[1, 1, 2, 1, 1, 0, 0, 0, 0, 0]\n",
      "[1, 1, 1, 0, 0, 0, 0, 0, 0, 0]\n",
      "[1, 0, 1, 1, 1, 1, 0, 0, 0, 0]\n",
      "[1, 1, 1, 1, 0, 1, 0, 0, 0, 0]\n",
      "[0, 0, 0, 1, 1, 1, 0, 0, 0, 0]\n",
      "[(2, 5), (7, 1), (1, 7), (1, 6), (1, 3), (8, 4), (0, 6), (4, 3), (4, 1), (1, 1)]\n"
     ]
    }
   ],
   "source": [
    "mine05.show()"
   ]
  },
  {
   "cell_type": "code",
   "execution_count": 80,
   "metadata": {
    "collapsed": true
   },
   "outputs": [],
   "source": [
    "mine06 = Minesweeper(10, 20)"
   ]
  },
  {
   "cell_type": "code",
   "execution_count": 81,
   "metadata": {
    "collapsed": false
   },
   "outputs": [
    {
     "name": "stdout",
     "output_type": "stream",
     "text": [
      "['X', 'X', 'X', 'X', '*', 'X', 'X', 'X', 'X', 'X']\n",
      "['X', '*', 'X', 'X', 'X', '*', '*', '*', 'X', 'X']\n",
      "['X', '*', 'X', 'X', 'X', 'X', 'X', 'X', 'X', 'X']\n",
      "['X', 'X', 'X', 'X', 'X', '*', 'X', 'X', 'X', 'X']\n",
      "['X', 'X', 'X', 'X', 'X', 'X', '*', 'X', 'X', '*']\n",
      "['X', 'X', 'X', '*', 'X', 'X', 'X', 'X', 'X', 'X']\n",
      "['X', 'X', 'X', '*', '*', '*', 'X', 'X', '*', 'X']\n",
      "['X', 'X', 'X', 'X', '*', 'X', 'X', 'X', 'X', 'X']\n",
      "['*', 'X', 'X', 'X', 'X', 'X', 'X', 'X', 'X', 'X']\n",
      "['X', '*', 'X', 'X', 'X', 'X', '*', 'X', '*', 'X']\n",
      "[1, 1, 1, 1, 1, 3, 3, 2, 1, 0]\n",
      "[2, 1, 2, 1, 2, 2, 2, 1, 1, 0]\n",
      "[2, 1, 2, 0, 2, 3, 4, 2, 1, 0]\n",
      "[1, 1, 1, 0, 1, 1, 2, 1, 1, 1]\n",
      "[0, 0, 1, 1, 2, 2, 1, 1, 1, 0]\n",
      "[0, 0, 2, 2, 4, 3, 2, 2, 2, 2]\n",
      "[0, 0, 2, 3, 4, 2, 1, 1, 0, 1]\n",
      "[1, 1, 1, 3, 3, 3, 1, 1, 1, 1]\n",
      "[1, 2, 1, 1, 1, 3, 2, 3, 1, 1]\n",
      "[2, 1, 1, 0, 0, 2, 0, 3, 0, 1]\n",
      "[(4, 9), (1, 1), (9, 8), (3, 5), (5, 3), (2, 1), (0, 4), (1, 7), (1, 5), (4, 6), (6, 5), (9, 6), (8, 0), (9, 1), (7, 4), (6, 8), (6, 4), (1, 6), (6, 3), (9, 6)]\n"
     ]
    }
   ],
   "source": [
    "mine06.show()"
   ]
  },
  {
   "cell_type": "code",
   "execution_count": 95,
   "metadata": {
    "collapsed": true
   },
   "outputs": [],
   "source": [
    "# Trying to verify that adjacent empty cells are being uncovered correctly\n",
    "class MinesweeperGenerationalUncover(Minesweeper):\n",
    "    def __init__(self, dim, number_of_mines):\n",
    "        Minesweeper.__init__(self, dim, number_of_mines)\n",
    "        \n",
    "    def uncover_empty_neighbors(self, i, j, depth=1):\n",
    "        if depth == 0:\n",
    "            return\n",
    "        for r,c in get_neighbors(i,j, len(self.board)):\n",
    "            if self.board[r][c]['state'] == 'empty':\n",
    "                self.board[r][c]['state'] = 'uncovered'\n",
    "                self.uncover_empty_neighbors(r,c, depth-1)\n",
    "        "
   ]
  },
  {
   "cell_type": "code",
   "execution_count": 83,
   "metadata": {
    "collapsed": true
   },
   "outputs": [],
   "source": [
    "mine07 = MinesweeperGenerationalUncover(10, 15)"
   ]
  },
  {
   "cell_type": "code",
   "execution_count": 84,
   "metadata": {
    "collapsed": false
   },
   "outputs": [
    {
     "name": "stdout",
     "output_type": "stream",
     "text": [
      "['X', 'X', 'X', 'X', '*', 'X', 'X', '*', 'X', 'X']\n",
      "['X', 'X', 'X', 'X', 'X', 'X', '*', '*', 'X', 'X']\n",
      "['X', '*', 'X', 'X', 'X', 'X', 'X', 'X', 'X', 'X']\n",
      "['X', 'X', 'X', 'X', 'X', '*', 'X', 'X', '*', 'X']\n",
      "['X', 'X', 'X', 'X', 'X', 'X', 'X', 'X', 'X', 'X']\n",
      "['X', 'X', 'X', '*', '*', 'X', 'X', 'X', '*', 'X']\n",
      "['X', 'X', 'X', 'X', 'X', 'X', 'X', 'X', 'X', 'X']\n",
      "['X', 'X', 'X', '*', 'X', 'X', 'X', 'X', 'X', 'X']\n",
      "['X', 'X', '*', 'X', '*', 'X', 'X', 'X', 'X', 'X']\n",
      "['X', 'X', 'X', 'X', 'X', 'X', 'X', 'X', '*', 'X']\n",
      "[0, 0, 0, 2, 0, 3, 3, 2, 2, 0]\n",
      "[1, 1, 1, 2, 2, 3, 2, 2, 2, 0]\n",
      "[1, 0, 1, 0, 1, 2, 3, 3, 2, 1]\n",
      "[1, 1, 1, 0, 1, 0, 1, 1, 0, 1]\n",
      "[0, 0, 1, 2, 3, 2, 1, 2, 2, 2]\n",
      "[0, 0, 1, 1, 1, 1, 0, 1, 0, 1]\n",
      "[0, 0, 2, 3, 3, 1, 0, 1, 1, 1]\n",
      "[0, 1, 2, 2, 2, 1, 0, 0, 0, 0]\n",
      "[0, 1, 1, 3, 1, 1, 0, 1, 1, 1]\n",
      "[0, 1, 1, 2, 1, 1, 0, 1, 0, 1]\n",
      "[(0, 7), (5, 4), (5, 8), (8, 4), (2, 1), (1, 6), (5, 3), (3, 8), (9, 8), (8, 2), (0, 4), (0, 4), (7, 3), (3, 5), (1, 7)]\n"
     ]
    }
   ],
   "source": [
    "mine07.show()"
   ]
  },
  {
   "cell_type": "code",
   "execution_count": 85,
   "metadata": {
    "collapsed": true
   },
   "outputs": [],
   "source": [
    "mine07.uncover_cell(0,0)"
   ]
  },
  {
   "cell_type": "code",
   "execution_count": 86,
   "metadata": {
    "collapsed": false
   },
   "outputs": [
    {
     "name": "stdout",
     "output_type": "stream",
     "text": [
      "['.', '.', '.', 'X', '*', 'X', 'X', '*', 'X', 'X']\n",
      "['.', '.', '.', 'X', 'X', 'X', '*', '*', 'X', 'X']\n",
      "['X', '*', 'X', 'X', 'X', 'X', 'X', 'X', 'X', 'X']\n",
      "['X', 'X', 'X', 'X', 'X', '*', 'X', 'X', '*', 'X']\n",
      "['X', 'X', 'X', 'X', 'X', 'X', 'X', 'X', 'X', 'X']\n",
      "['X', 'X', 'X', '*', '*', 'X', 'X', 'X', '*', 'X']\n",
      "['X', 'X', 'X', 'X', 'X', 'X', 'X', 'X', 'X', 'X']\n",
      "['X', 'X', 'X', '*', 'X', 'X', 'X', 'X', 'X', 'X']\n",
      "['X', 'X', '*', 'X', '*', 'X', 'X', 'X', 'X', 'X']\n",
      "['X', 'X', 'X', 'X', 'X', 'X', 'X', 'X', '*', 'X']\n",
      "[0, 0, 0, 2, 0, 3, 3, 2, 2, 0]\n",
      "[1, 1, 1, 2, 2, 3, 2, 2, 2, 0]\n",
      "[1, 0, 1, 0, 1, 2, 3, 3, 2, 1]\n",
      "[1, 1, 1, 0, 1, 0, 1, 1, 0, 1]\n",
      "[0, 0, 1, 2, 3, 2, 1, 2, 2, 2]\n",
      "[0, 0, 1, 1, 1, 1, 0, 1, 0, 1]\n",
      "[0, 0, 2, 3, 3, 1, 0, 1, 1, 1]\n",
      "[0, 1, 2, 2, 2, 1, 0, 0, 0, 0]\n",
      "[0, 1, 1, 3, 1, 1, 0, 1, 1, 1]\n",
      "[0, 1, 1, 2, 1, 1, 0, 1, 0, 1]\n",
      "[(0, 7), (5, 4), (5, 8), (8, 4), (2, 1), (1, 6), (5, 3), (3, 8), (9, 8), (8, 2), (0, 4), (0, 4), (7, 3), (3, 5), (1, 7)]\n"
     ]
    }
   ],
   "source": [
    "mine07.show()"
   ]
  },
  {
   "cell_type": "code",
   "execution_count": 88,
   "metadata": {
    "collapsed": true
   },
   "outputs": [],
   "source": [
    "mine08 = MinesweeperGenerationalUncover(10, 15)"
   ]
  },
  {
   "cell_type": "code",
   "execution_count": 89,
   "metadata": {
    "collapsed": false
   },
   "outputs": [
    {
     "name": "stdout",
     "output_type": "stream",
     "text": [
      "['X', 'X', 'X', '*', 'X', 'X', 'X', 'X', 'X', 'X']\n",
      "['X', 'X', 'X', 'X', 'X', '*', 'X', 'X', 'X', 'X']\n",
      "['X', 'X', 'X', 'X', 'X', 'X', 'X', 'X', 'X', '*']\n",
      "['X', 'X', 'X', 'X', 'X', 'X', '*', 'X', 'X', 'X']\n",
      "['X', 'X', 'X', 'X', 'X', 'X', 'X', 'X', 'X', 'X']\n",
      "['X', 'X', 'X', 'X', 'X', 'X', 'X', 'X', 'X', '*']\n",
      "['X', 'X', '*', '*', 'X', 'X', 'X', 'X', 'X', 'X']\n",
      "['*', 'X', 'X', 'X', '*', '*', 'X', 'X', 'X', '*']\n",
      "['X', 'X', '*', 'X', 'X', 'X', 'X', 'X', 'X', 'X']\n",
      "['X', 'X', 'X', 'X', 'X', 'X', 'X', 'X', 'X', 'X']\n",
      "[0, 0, 1, 0, 3, 2, 2, 0, 0, 0]\n",
      "[0, 0, 1, 1, 3, 0, 2, 0, 1, 1]\n",
      "[0, 0, 0, 0, 2, 3, 3, 1, 1, 0]\n",
      "[0, 0, 0, 0, 0, 1, 0, 1, 1, 1]\n",
      "[0, 0, 0, 0, 0, 1, 1, 1, 1, 1]\n",
      "[0, 1, 2, 2, 1, 0, 0, 0, 1, 0]\n",
      "[2, 3, 1, 3, 4, 3, 1, 0, 2, 2]\n",
      "[0, 4, 3, 5, 2, 2, 1, 0, 1, 0]\n",
      "[2, 3, 0, 3, 3, 3, 1, 0, 1, 1]\n",
      "[0, 1, 1, 1, 0, 0, 0, 0, 0, 0]\n",
      "[(7, 9), (0, 3), (6, 2), (1, 5), (2, 9), (8, 2), (7, 4), (7, 0), (1, 5), (7, 5), (6, 3), (7, 0), (7, 4), (3, 6), (5, 9)]\n"
     ]
    }
   ],
   "source": [
    "mine08.show()"
   ]
  },
  {
   "cell_type": "code",
   "execution_count": 90,
   "metadata": {
    "collapsed": true
   },
   "outputs": [],
   "source": [
    "mine08.uncover_cell(0,0)"
   ]
  },
  {
   "cell_type": "code",
   "execution_count": 91,
   "metadata": {
    "collapsed": false
   },
   "outputs": [
    {
     "name": "stdout",
     "output_type": "stream",
     "text": [
      "['X', '.', 'X', '*', 'X', 'X', 'X', 'X', 'X', 'X']\n",
      "['.', '.', 'X', 'X', 'X', '*', 'X', 'X', 'X', 'X']\n",
      "['X', 'X', 'X', 'X', 'X', 'X', 'X', 'X', 'X', '*']\n",
      "['X', 'X', 'X', 'X', 'X', 'X', '*', 'X', 'X', 'X']\n",
      "['X', 'X', 'X', 'X', 'X', 'X', 'X', 'X', 'X', 'X']\n",
      "['X', 'X', 'X', 'X', 'X', 'X', 'X', 'X', 'X', '*']\n",
      "['X', 'X', '*', '*', 'X', 'X', 'X', 'X', 'X', 'X']\n",
      "['*', 'X', 'X', 'X', '*', '*', 'X', 'X', 'X', '*']\n",
      "['X', 'X', '*', 'X', 'X', 'X', 'X', 'X', 'X', 'X']\n",
      "['X', 'X', 'X', 'X', 'X', 'X', 'X', 'X', 'X', 'X']\n",
      "[0, 0, 1, 0, 3, 2, 2, 0, 0, 0]\n",
      "[0, 0, 1, 1, 3, 0, 2, 0, 1, 1]\n",
      "[0, 0, 0, 0, 2, 3, 3, 1, 1, 0]\n",
      "[0, 0, 0, 0, 0, 1, 0, 1, 1, 1]\n",
      "[0, 0, 0, 0, 0, 1, 1, 1, 1, 1]\n",
      "[0, 1, 2, 2, 1, 0, 0, 0, 1, 0]\n",
      "[2, 3, 1, 3, 4, 3, 1, 0, 2, 2]\n",
      "[0, 4, 3, 5, 2, 2, 1, 0, 1, 0]\n",
      "[2, 3, 0, 3, 3, 3, 1, 0, 1, 1]\n",
      "[0, 1, 1, 1, 0, 0, 0, 0, 0, 0]\n",
      "[(7, 9), (0, 3), (6, 2), (1, 5), (2, 9), (8, 2), (7, 4), (7, 0), (1, 5), (7, 5), (6, 3), (7, 0), (7, 4), (3, 6), (5, 9)]\n"
     ]
    }
   ],
   "source": [
    "mine08.show()"
   ]
  },
  {
   "cell_type": "code",
   "execution_count": 92,
   "metadata": {
    "collapsed": true
   },
   "outputs": [],
   "source": [
    "mine08.uncover_cell(2,0)"
   ]
  },
  {
   "cell_type": "code",
   "execution_count": 93,
   "metadata": {
    "collapsed": false
   },
   "outputs": [
    {
     "name": "stdout",
     "output_type": "stream",
     "text": [
      "['X', '.', 'X', '*', 'X', 'X', 'X', 'X', 'X', 'X']\n",
      "['.', '.', '.', '.', 'X', '*', 'X', 'X', 'X', 'X']\n",
      "['X', 'X', 'X', 'X', 'X', 'X', 'X', 'X', 'X', '*']\n",
      "['X', 'X', 'X', 'X', 'X', 'X', '*', 'X', 'X', 'X']\n",
      "['X', 'X', 'X', 'X', 'X', 'X', 'X', 'X', 'X', 'X']\n",
      "['X', 'X', 'X', 'X', 'X', 'X', 'X', 'X', 'X', '*']\n",
      "['X', 'X', '*', '*', 'X', 'X', 'X', 'X', 'X', 'X']\n",
      "['*', 'X', 'X', 'X', '*', '*', 'X', 'X', 'X', '*']\n",
      "['X', 'X', '*', 'X', 'X', 'X', 'X', 'X', 'X', 'X']\n",
      "['X', 'X', 'X', 'X', 'X', 'X', 'X', 'X', 'X', 'X']\n",
      "[0, 0, 1, 0, 3, 2, 2, 0, 0, 0]\n",
      "[0, 0, 1, 1, 3, 0, 2, 0, 1, 1]\n",
      "[0, 0, 0, 0, 2, 3, 3, 1, 1, 0]\n",
      "[0, 0, 0, 0, 0, 1, 0, 1, 1, 1]\n",
      "[0, 0, 0, 0, 0, 1, 1, 1, 1, 1]\n",
      "[0, 1, 2, 2, 1, 0, 0, 0, 1, 0]\n",
      "[2, 3, 1, 3, 4, 3, 1, 0, 2, 2]\n",
      "[0, 4, 3, 5, 2, 2, 1, 0, 1, 0]\n",
      "[2, 3, 0, 3, 3, 3, 1, 0, 1, 1]\n",
      "[0, 1, 1, 1, 0, 0, 0, 0, 0, 0]\n",
      "[(7, 9), (0, 3), (6, 2), (1, 5), (2, 9), (8, 2), (7, 4), (7, 0), (1, 5), (7, 5), (6, 3), (7, 0), (7, 4), (3, 6), (5, 9)]\n"
     ]
    }
   ],
   "source": [
    "mine08.show()"
   ]
  },
  {
   "cell_type": "code",
   "execution_count": 96,
   "metadata": {
    "collapsed": true
   },
   "outputs": [],
   "source": [
    "mine09 = MinesweeperGenerationalUncover(10, 15)"
   ]
  },
  {
   "cell_type": "code",
   "execution_count": 97,
   "metadata": {
    "collapsed": false
   },
   "outputs": [
    {
     "name": "stdout",
     "output_type": "stream",
     "text": [
      "['X', 'X', 'X', 'X', 'X', 'X', 'X', 'X', 'X', 'X']\n",
      "['X', '*', 'X', 'X', 'X', 'X', 'X', 'X', 'X', 'X']\n",
      "['X', 'X', 'X', 'X', 'X', 'X', 'X', 'X', 'X', 'X']\n",
      "['X', 'X', 'X', 'X', 'X', 'X', 'X', 'X', 'X', 'X']\n",
      "['X', 'X', '*', 'X', 'X', 'X', 'X', '*', 'X', 'X']\n",
      "['X', 'X', '*', 'X', 'X', 'X', 'X', 'X', 'X', 'X']\n",
      "['X', 'X', '*', 'X', '*', 'X', '*', 'X', 'X', 'X']\n",
      "['X', 'X', '*', 'X', 'X', 'X', '*', 'X', '*', 'X']\n",
      "['X', 'X', 'X', 'X', '*', '*', 'X', 'X', 'X', 'X']\n",
      "['X', 'X', 'X', '*', 'X', 'X', 'X', 'X', 'X', 'X']\n",
      "[1, 1, 1, 0, 0, 0, 0, 0, 0, 0]\n",
      "[1, 0, 1, 0, 0, 0, 0, 0, 0, 0]\n",
      "[1, 1, 1, 0, 0, 0, 0, 0, 0, 0]\n",
      "[0, 1, 1, 1, 0, 0, 1, 1, 1, 0]\n",
      "[0, 2, 1, 2, 0, 0, 1, 0, 1, 0]\n",
      "[0, 4, 3, 6, 2, 3, 2, 2, 1, 0]\n",
      "[0, 4, 2, 6, 0, 4, 1, 3, 1, 1]\n",
      "[0, 3, 2, 6, 4, 6, 2, 3, 0, 1]\n",
      "[0, 1, 2, 3, 2, 2, 2, 2, 1, 1]\n",
      "[0, 0, 1, 1, 3, 2, 1, 0, 0, 0]\n",
      "[(6, 6), (6, 2), (1, 1), (6, 2), (6, 4), (6, 4), (7, 2), (4, 2), (5, 2), (9, 3), (8, 4), (4, 7), (7, 8), (7, 6), (8, 5)]\n"
     ]
    }
   ],
   "source": [
    "mine09.show()"
   ]
  },
  {
   "cell_type": "code",
   "execution_count": 98,
   "metadata": {
    "collapsed": true
   },
   "outputs": [],
   "source": [
    "mine09.uncover_cell(0,0)"
   ]
  },
  {
   "cell_type": "code",
   "execution_count": 99,
   "metadata": {
    "collapsed": false
   },
   "outputs": [
    {
     "name": "stdout",
     "output_type": "stream",
     "text": [
      "['.', '.', 'X', 'X', 'X', 'X', 'X', 'X', 'X', 'X']\n",
      "['.', '*', 'X', 'X', 'X', 'X', 'X', 'X', 'X', 'X']\n",
      "['X', 'X', 'X', 'X', 'X', 'X', 'X', 'X', 'X', 'X']\n",
      "['X', 'X', 'X', 'X', 'X', 'X', 'X', 'X', 'X', 'X']\n",
      "['X', 'X', '*', 'X', 'X', 'X', 'X', '*', 'X', 'X']\n",
      "['X', 'X', '*', 'X', 'X', 'X', 'X', 'X', 'X', 'X']\n",
      "['X', 'X', '*', 'X', '*', 'X', '*', 'X', 'X', 'X']\n",
      "['X', 'X', '*', 'X', 'X', 'X', '*', 'X', '*', 'X']\n",
      "['X', 'X', 'X', 'X', '*', '*', 'X', 'X', 'X', 'X']\n",
      "['X', 'X', 'X', '*', 'X', 'X', 'X', 'X', 'X', 'X']\n",
      "[1, 1, 1, 0, 0, 0, 0, 0, 0, 0]\n",
      "[1, 0, 1, 0, 0, 0, 0, 0, 0, 0]\n",
      "[1, 1, 1, 0, 0, 0, 0, 0, 0, 0]\n",
      "[0, 1, 1, 1, 0, 0, 1, 1, 1, 0]\n",
      "[0, 2, 1, 2, 0, 0, 1, 0, 1, 0]\n",
      "[0, 4, 3, 6, 2, 3, 2, 2, 1, 0]\n",
      "[0, 4, 2, 6, 0, 4, 1, 3, 1, 1]\n",
      "[0, 3, 2, 6, 4, 6, 2, 3, 0, 1]\n",
      "[0, 1, 2, 3, 2, 2, 2, 2, 1, 1]\n",
      "[0, 0, 1, 1, 3, 2, 1, 0, 0, 0]\n",
      "[(6, 6), (6, 2), (1, 1), (6, 2), (6, 4), (6, 4), (7, 2), (4, 2), (5, 2), (9, 3), (8, 4), (4, 7), (7, 8), (7, 6), (8, 5)]\n"
     ]
    }
   ],
   "source": [
    "mine09.show()"
   ]
  },
  {
   "cell_type": "code",
   "execution_count": 100,
   "metadata": {
    "collapsed": true
   },
   "outputs": [],
   "source": [
    "mine10 = Minesweeper(6,4)"
   ]
  },
  {
   "cell_type": "code",
   "execution_count": 101,
   "metadata": {
    "collapsed": false
   },
   "outputs": [
    {
     "name": "stdout",
     "output_type": "stream",
     "text": [
      "['X', 'X', '*', 'X', 'X', 'X']\n",
      "['X', 'X', 'X', 'X', 'X', 'X']\n",
      "['X', 'X', 'X', 'X', 'X', 'X']\n",
      "['X', '*', '*', 'X', 'X', 'X']\n",
      "['X', 'X', 'X', 'X', 'X', 'X']\n",
      "['X', 'X', '*', 'X', 'X', 'X']\n",
      "[0, 1, 0, 1, 0, 0]\n",
      "[0, 1, 1, 1, 0, 0]\n",
      "[1, 2, 2, 1, 0, 0]\n",
      "[1, 1, 1, 1, 0, 0]\n",
      "[1, 3, 3, 2, 0, 0]\n",
      "[0, 1, 0, 1, 0, 0]\n",
      "[(5, 2), (0, 2), (3, 2), (3, 1)]\n"
     ]
    }
   ],
   "source": [
    "mine10.show()"
   ]
  },
  {
   "cell_type": "code",
   "execution_count": 102,
   "metadata": {
    "collapsed": true
   },
   "outputs": [],
   "source": [
    "mine10.uncover_cell(0,0)"
   ]
  },
  {
   "cell_type": "code",
   "execution_count": 103,
   "metadata": {
    "collapsed": false
   },
   "outputs": [
    {
     "name": "stdout",
     "output_type": "stream",
     "text": [
      "['.', '.', '*', '.', '.', '.']\n",
      "['.', '.', '.', '.', '.', '.']\n",
      "['.', '.', '.', '.', '.', '.']\n",
      "['.', '*', '*', '.', '.', '.']\n",
      "['.', '.', '.', '.', '.', '.']\n",
      "['.', '.', '*', '.', '.', '.']\n",
      "[0, 1, 0, 1, 0, 0]\n",
      "[0, 1, 1, 1, 0, 0]\n",
      "[1, 2, 2, 1, 0, 0]\n",
      "[1, 1, 1, 1, 0, 0]\n",
      "[1, 3, 3, 2, 0, 0]\n",
      "[0, 1, 0, 1, 0, 0]\n",
      "[(5, 2), (0, 2), (3, 2), (3, 1)]\n"
     ]
    }
   ],
   "source": [
    "mine10.show()"
   ]
  },
  {
   "cell_type": "code",
   "execution_count": 111,
   "metadata": {
    "collapsed": true
   },
   "outputs": [],
   "source": [
    "mine11 = Minesweeper(10, 30)"
   ]
  },
  {
   "cell_type": "code",
   "execution_count": 112,
   "metadata": {
    "collapsed": false
   },
   "outputs": [
    {
     "name": "stdout",
     "output_type": "stream",
     "text": [
      "['X', 'X', 'X', 'X', 'X', 'X', 'X', '*', 'X', 'X']\n",
      "['X', '*', 'X', '*', 'X', 'X', 'X', 'X', 'X', 'X']\n",
      "['X', 'X', 'X', 'X', '*', '*', '*', 'X', 'X', 'X']\n",
      "['X', 'X', 'X', '*', 'X', 'X', 'X', 'X', 'X', 'X']\n",
      "['*', 'X', '*', 'X', 'X', 'X', 'X', '*', '*', 'X']\n",
      "['X', '*', '*', 'X', 'X', '*', 'X', 'X', '*', 'X']\n",
      "['X', '*', 'X', '*', '*', 'X', 'X', '*', 'X', 'X']\n",
      "['X', '*', 'X', 'X', 'X', 'X', 'X', '*', 'X', '*']\n",
      "['*', 'X', 'X', 'X', 'X', 'X', '*', 'X', 'X', 'X']\n",
      "['X', 'X', 'X', '*', 'X', 'X', '*', '*', 'X', '*']\n",
      "[1, 1, 2, 1, 1, 0, 1, 0, 1, 0]\n",
      "[1, 0, 2, 1, 3, 3, 3, 2, 1, 0]\n",
      "[1, 1, 3, 3, 3, 2, 1, 1, 0, 0]\n",
      "[1, 3, 3, 3, 3, 3, 3, 3, 2, 1]\n",
      "[1, 5, 3, 4, 2, 1, 2, 2, 2, 2]\n",
      "[3, 5, 5, 5, 3, 1, 3, 4, 3, 2]\n",
      "[3, 3, 5, 2, 2, 2, 3, 2, 4, 2]\n",
      "[3, 2, 3, 2, 2, 2, 3, 2, 3, 0]\n",
      "[1, 2, 2, 1, 1, 3, 4, 5, 4, 2]\n",
      "[1, 1, 1, 0, 1, 3, 2, 3, 2, 0]\n",
      "[(9, 6), (9, 9), (2, 6), (8, 0), (4, 8), (8, 6), (2, 4), (9, 6), (4, 2), (6, 4), (3, 3), (9, 7), (2, 5), (4, 0), (5, 5), (4, 2), (5, 1), (7, 7), (5, 8), (5, 2), (6, 1), (1, 3), (6, 3), (6, 7), (1, 1), (9, 3), (7, 1), (4, 7), (0, 7), (7, 9)]\n"
     ]
    }
   ],
   "source": [
    "mine11.show()"
   ]
  },
  {
   "cell_type": "code",
   "execution_count": 109,
   "metadata": {
    "collapsed": false
   },
   "outputs": [],
   "source": [
    "mine11.uncover_cell(9,7)"
   ]
  },
  {
   "cell_type": "code",
   "execution_count": 110,
   "metadata": {
    "collapsed": false
   },
   "outputs": [
    {
     "name": "stdout",
     "output_type": "stream",
     "text": [
      "['.', '.', '*', '.', '.', '.', '.', '*', '.', '.']\n",
      "['*', '.', '.', '.', '.', '.', '.', '.', '*', '.']\n",
      "['*', '*', '*', '.', '.', '.', '.', '.', '.', '.']\n",
      "['.', '.', '*', '*', '.', '.', '*', '.', '.', '.']\n",
      "['*', '.', '*', '.', '*', '.', '.', '.', '.', '*']\n",
      "['.', '.', '*', '.', '.', '.', '*', '*', '.', '*']\n",
      "['.', '.', '.', '.', '.', '.', '.', '.', '.', '*']\n",
      "['.', '.', '*', '.', '*', '.', '.', '.', '*', '.']\n",
      "['.', '.', '.', '*', '*', '.', '*', '.', '*', '.']\n",
      "['.', '.', '.', '.', '.', '*', '.', '.', '*', '.']\n",
      "[1, 2, 0, 1, 0, 0, 1, 1, 2, 1]\n",
      "[2, 5, 3, 2, 0, 0, 1, 2, 1, 1]\n",
      "[2, 4, 3, 3, 1, 1, 1, 2, 1, 1]\n",
      "[3, 6, 4, 5, 3, 3, 0, 1, 1, 1]\n",
      "[0, 4, 3, 6, 1, 4, 3, 3, 3, 1]\n",
      "[1, 3, 1, 4, 2, 3, 1, 1, 4, 2]\n",
      "[0, 3, 3, 4, 1, 2, 2, 3, 4, 2]\n",
      "[0, 2, 1, 5, 2, 3, 1, 3, 2, 3]\n",
      "[0, 2, 3, 4, 3, 4, 1, 4, 2, 3]\n",
      "[0, 0, 1, 2, 3, 2, 2, 3, 1, 2]\n",
      "[(8, 8), (5, 7), (0, 7), (1, 0), (3, 6), (6, 9), (2, 2), (7, 2), (4, 9), (5, 2), (3, 3), (8, 6), (4, 2), (4, 4), (8, 4), (5, 9), (2, 1), (7, 4), (4, 4), (9, 5), (4, 0), (5, 6), (9, 8), (3, 2), (1, 8), (7, 2), (8, 3), (0, 2), (2, 0), (7, 8)]\n"
     ]
    }
   ],
   "source": [
    "mine11.show()"
   ]
  },
  {
   "cell_type": "code",
   "execution_count": 114,
   "metadata": {
    "collapsed": false
   },
   "outputs": [],
   "source": [
    "mine11.board[1][1]['state']='armed'"
   ]
  },
  {
   "cell_type": "code",
   "execution_count": 115,
   "metadata": {
    "collapsed": true
   },
   "outputs": [],
   "source": [
    "mine11.board[1][2]['state']='armed'"
   ]
  },
  {
   "cell_type": "code",
   "execution_count": 116,
   "metadata": {
    "collapsed": false
   },
   "outputs": [
    {
     "name": "stdout",
     "output_type": "stream",
     "text": [
      "['X', 'X', 'X', 'X', 'X', 'X', 'X', '*', 'X', 'X']\n",
      "['X', '*', '*', '*', 'X', 'X', 'X', 'X', 'X', 'X']\n",
      "['X', 'X', 'X', 'X', '*', '*', '*', 'X', 'X', 'X']\n",
      "['X', 'X', 'X', '*', 'X', 'X', 'X', 'X', 'X', 'X']\n",
      "['*', 'X', '*', 'X', 'X', 'X', 'X', '*', '*', 'X']\n",
      "['X', '*', '*', 'X', 'X', '*', 'X', 'X', '*', 'X']\n",
      "['X', '*', 'X', '*', '*', 'X', 'X', '*', 'X', 'X']\n",
      "['X', '*', 'X', 'X', 'X', 'X', 'X', '*', 'X', '*']\n",
      "['*', 'X', 'X', 'X', 'X', 'X', '*', 'X', 'X', 'X']\n",
      "['X', 'X', 'X', '*', 'X', 'X', '*', '*', 'X', '*']\n",
      "[1, 1, 2, 1, 1, 0, 1, 0, 1, 0]\n",
      "[1, 0, 2, 1, 3, 3, 3, 2, 1, 0]\n",
      "[1, 1, 3, 3, 3, 2, 1, 1, 0, 0]\n",
      "[1, 3, 3, 3, 3, 3, 3, 3, 2, 1]\n",
      "[1, 5, 3, 4, 2, 1, 2, 2, 2, 2]\n",
      "[3, 5, 5, 5, 3, 1, 3, 4, 3, 2]\n",
      "[3, 3, 5, 2, 2, 2, 3, 2, 4, 2]\n",
      "[3, 2, 3, 2, 2, 2, 3, 2, 3, 0]\n",
      "[1, 2, 2, 1, 1, 3, 4, 5, 4, 2]\n",
      "[1, 1, 1, 0, 1, 3, 2, 3, 2, 0]\n",
      "[(9, 6), (9, 9), (2, 6), (8, 0), (4, 8), (8, 6), (2, 4), (9, 6), (4, 2), (6, 4), (3, 3), (9, 7), (2, 5), (4, 0), (5, 5), (4, 2), (5, 1), (7, 7), (5, 8), (5, 2), (6, 1), (1, 3), (6, 3), (6, 7), (1, 1), (9, 3), (7, 1), (4, 7), (0, 7), (7, 9)]\n"
     ]
    }
   ],
   "source": [
    "mine11.show()"
   ]
  },
  {
   "cell_type": "code",
   "execution_count": 117,
   "metadata": {
    "collapsed": true
   },
   "outputs": [],
   "source": [
    "mine11.board[0][2]['state']='armed'"
   ]
  },
  {
   "cell_type": "code",
   "execution_count": 118,
   "metadata": {
    "collapsed": false
   },
   "outputs": [
    {
     "name": "stdout",
     "output_type": "stream",
     "text": [
      "['X', 'X', '*', 'X', 'X', 'X', 'X', '*', 'X', 'X']\n",
      "['X', '*', '*', '*', 'X', 'X', 'X', 'X', 'X', 'X']\n",
      "['X', 'X', 'X', 'X', '*', '*', '*', 'X', 'X', 'X']\n",
      "['X', 'X', 'X', '*', 'X', 'X', 'X', 'X', 'X', 'X']\n",
      "['*', 'X', '*', 'X', 'X', 'X', 'X', '*', '*', 'X']\n",
      "['X', '*', '*', 'X', 'X', '*', 'X', 'X', '*', 'X']\n",
      "['X', '*', 'X', '*', '*', 'X', 'X', '*', 'X', 'X']\n",
      "['X', '*', 'X', 'X', 'X', 'X', 'X', '*', 'X', '*']\n",
      "['*', 'X', 'X', 'X', 'X', 'X', '*', 'X', 'X', 'X']\n",
      "['X', 'X', 'X', '*', 'X', 'X', '*', '*', 'X', '*']\n",
      "[1, 1, 2, 1, 1, 0, 1, 0, 1, 0]\n",
      "[1, 0, 2, 1, 3, 3, 3, 2, 1, 0]\n",
      "[1, 1, 3, 3, 3, 2, 1, 1, 0, 0]\n",
      "[1, 3, 3, 3, 3, 3, 3, 3, 2, 1]\n",
      "[1, 5, 3, 4, 2, 1, 2, 2, 2, 2]\n",
      "[3, 5, 5, 5, 3, 1, 3, 4, 3, 2]\n",
      "[3, 3, 5, 2, 2, 2, 3, 2, 4, 2]\n",
      "[3, 2, 3, 2, 2, 2, 3, 2, 3, 0]\n",
      "[1, 2, 2, 1, 1, 3, 4, 5, 4, 2]\n",
      "[1, 1, 1, 0, 1, 3, 2, 3, 2, 0]\n",
      "[(9, 6), (9, 9), (2, 6), (8, 0), (4, 8), (8, 6), (2, 4), (9, 6), (4, 2), (6, 4), (3, 3), (9, 7), (2, 5), (4, 0), (5, 5), (4, 2), (5, 1), (7, 7), (5, 8), (5, 2), (6, 1), (1, 3), (6, 3), (6, 7), (1, 1), (9, 3), (7, 1), (4, 7), (0, 7), (7, 9)]\n"
     ]
    }
   ],
   "source": [
    "mine11.show()"
   ]
  },
  {
   "cell_type": "code",
   "execution_count": 119,
   "metadata": {
    "collapsed": true
   },
   "outputs": [],
   "source": [
    "mine11.board[1][0]['state'] = 'armed'"
   ]
  },
  {
   "cell_type": "code",
   "execution_count": 120,
   "metadata": {
    "collapsed": false
   },
   "outputs": [
    {
     "name": "stdout",
     "output_type": "stream",
     "text": [
      "['X', 'X', '*', 'X', 'X', 'X', 'X', '*', 'X', 'X']\n",
      "['*', '*', '*', '*', 'X', 'X', 'X', 'X', 'X', 'X']\n",
      "['X', 'X', 'X', 'X', '*', '*', '*', 'X', 'X', 'X']\n",
      "['X', 'X', 'X', '*', 'X', 'X', 'X', 'X', 'X', 'X']\n",
      "['*', 'X', '*', 'X', 'X', 'X', 'X', '*', '*', 'X']\n",
      "['X', '*', '*', 'X', 'X', '*', 'X', 'X', '*', 'X']\n",
      "['X', '*', 'X', '*', '*', 'X', 'X', '*', 'X', 'X']\n",
      "['X', '*', 'X', 'X', 'X', 'X', 'X', '*', 'X', '*']\n",
      "['*', 'X', 'X', 'X', 'X', 'X', '*', 'X', 'X', 'X']\n",
      "['X', 'X', 'X', '*', 'X', 'X', '*', '*', 'X', '*']\n",
      "[1, 1, 2, 1, 1, 0, 1, 0, 1, 0]\n",
      "[1, 0, 2, 1, 3, 3, 3, 2, 1, 0]\n",
      "[1, 1, 3, 3, 3, 2, 1, 1, 0, 0]\n",
      "[1, 3, 3, 3, 3, 3, 3, 3, 2, 1]\n",
      "[1, 5, 3, 4, 2, 1, 2, 2, 2, 2]\n",
      "[3, 5, 5, 5, 3, 1, 3, 4, 3, 2]\n",
      "[3, 3, 5, 2, 2, 2, 3, 2, 4, 2]\n",
      "[3, 2, 3, 2, 2, 2, 3, 2, 3, 0]\n",
      "[1, 2, 2, 1, 1, 3, 4, 5, 4, 2]\n",
      "[1, 1, 1, 0, 1, 3, 2, 3, 2, 0]\n",
      "[(9, 6), (9, 9), (2, 6), (8, 0), (4, 8), (8, 6), (2, 4), (9, 6), (4, 2), (6, 4), (3, 3), (9, 7), (2, 5), (4, 0), (5, 5), (4, 2), (5, 1), (7, 7), (5, 8), (5, 2), (6, 1), (1, 3), (6, 3), (6, 7), (1, 1), (9, 3), (7, 1), (4, 7), (0, 7), (7, 9)]\n"
     ]
    }
   ],
   "source": [
    "mine11.show()"
   ]
  },
  {
   "cell_type": "code",
   "execution_count": 121,
   "metadata": {
    "collapsed": true
   },
   "outputs": [],
   "source": [
    "mine11.uncover_cell(0,0)"
   ]
  },
  {
   "cell_type": "code",
   "execution_count": 122,
   "metadata": {
    "collapsed": false
   },
   "outputs": [
    {
     "name": "stdout",
     "output_type": "stream",
     "text": [
      "['.', '.', '*', 'X', 'X', 'X', 'X', '*', 'X', 'X']\n",
      "['*', '*', '*', '*', 'X', 'X', 'X', 'X', 'X', 'X']\n",
      "['X', 'X', 'X', 'X', '*', '*', '*', 'X', 'X', 'X']\n",
      "['X', 'X', 'X', '*', 'X', 'X', 'X', 'X', 'X', 'X']\n",
      "['*', 'X', '*', 'X', 'X', 'X', 'X', '*', '*', 'X']\n",
      "['X', '*', '*', 'X', 'X', '*', 'X', 'X', '*', 'X']\n",
      "['X', '*', 'X', '*', '*', 'X', 'X', '*', 'X', 'X']\n",
      "['X', '*', 'X', 'X', 'X', 'X', 'X', '*', 'X', '*']\n",
      "['*', 'X', 'X', 'X', 'X', 'X', '*', 'X', 'X', 'X']\n",
      "['X', 'X', 'X', '*', 'X', 'X', '*', '*', 'X', '*']\n",
      "[1, 1, 2, 1, 1, 0, 1, 0, 1, 0]\n",
      "[1, 0, 2, 1, 3, 3, 3, 2, 1, 0]\n",
      "[1, 1, 3, 3, 3, 2, 1, 1, 0, 0]\n",
      "[1, 3, 3, 3, 3, 3, 3, 3, 2, 1]\n",
      "[1, 5, 3, 4, 2, 1, 2, 2, 2, 2]\n",
      "[3, 5, 5, 5, 3, 1, 3, 4, 3, 2]\n",
      "[3, 3, 5, 2, 2, 2, 3, 2, 4, 2]\n",
      "[3, 2, 3, 2, 2, 2, 3, 2, 3, 0]\n",
      "[1, 2, 2, 1, 1, 3, 4, 5, 4, 2]\n",
      "[1, 1, 1, 0, 1, 3, 2, 3, 2, 0]\n",
      "[(9, 6), (9, 9), (2, 6), (8, 0), (4, 8), (8, 6), (2, 4), (9, 6), (4, 2), (6, 4), (3, 3), (9, 7), (2, 5), (4, 0), (5, 5), (4, 2), (5, 1), (7, 7), (5, 8), (5, 2), (6, 1), (1, 3), (6, 3), (6, 7), (1, 1), (9, 3), (7, 1), (4, 7), (0, 7), (7, 9)]\n"
     ]
    }
   ],
   "source": [
    "mine11.show()"
   ]
  },
  {
   "cell_type": "markdown",
   "metadata": {},
   "source": [
    "## Working to fix the show methodd\n"
   ]
  },
  {
   "cell_type": "code",
   "execution_count": 123,
   "metadata": {
    "collapsed": true
   },
   "outputs": [],
   "source": [
    "from minesweeper import Minesweeper, MinesweeperGenerationalUncover"
   ]
  },
  {
   "cell_type": "code",
   "execution_count": 124,
   "metadata": {
    "collapsed": false
   },
   "outputs": [
    {
     "name": "stdout",
     "output_type": "stream",
     "text": [
      "['.', '.', '*', 'X', 'X', 'X', 'X', '*', 'X', 'X']\n",
      "['*', '*', '*', '*', 'X', 'X', 'X', 'X', 'X', 'X']\n",
      "['X', 'X', 'X', 'X', '*', '*', '*', 'X', 'X', 'X']\n",
      "['X', 'X', 'X', '*', 'X', 'X', 'X', 'X', 'X', 'X']\n",
      "['*', 'X', '*', 'X', 'X', 'X', 'X', '*', '*', 'X']\n",
      "['X', '*', '*', 'X', 'X', '*', 'X', 'X', '*', 'X']\n",
      "['X', '*', 'X', '*', '*', 'X', 'X', '*', 'X', 'X']\n",
      "['X', '*', 'X', 'X', 'X', 'X', 'X', '*', 'X', '*']\n",
      "['*', 'X', 'X', 'X', 'X', 'X', '*', 'X', 'X', 'X']\n",
      "['X', 'X', 'X', '*', 'X', 'X', '*', '*', 'X', '*']\n",
      "[1, 1, 2, 1, 1, 0, 1, 0, 1, 0]\n",
      "[1, 0, 2, 1, 3, 3, 3, 2, 1, 0]\n",
      "[1, 1, 3, 3, 3, 2, 1, 1, 0, 0]\n",
      "[1, 3, 3, 3, 3, 3, 3, 3, 2, 1]\n",
      "[1, 5, 3, 4, 2, 1, 2, 2, 2, 2]\n",
      "[3, 5, 5, 5, 3, 1, 3, 4, 3, 2]\n",
      "[3, 3, 5, 2, 2, 2, 3, 2, 4, 2]\n",
      "[3, 2, 3, 2, 2, 2, 3, 2, 3, 0]\n",
      "[1, 2, 2, 1, 1, 3, 4, 5, 4, 2]\n",
      "[1, 1, 1, 0, 1, 3, 2, 3, 2, 0]\n",
      "[(9, 6), (9, 9), (2, 6), (8, 0), (4, 8), (8, 6), (2, 4), (9, 6), (4, 2), (6, 4), (3, 3), (9, 7), (2, 5), (4, 0), (5, 5), (4, 2), (5, 1), (7, 7), (5, 8), (5, 2), (6, 1), (1, 3), (6, 3), (6, 7), (1, 1), (9, 3), (7, 1), (4, 7), (0, 7), (7, 9)]\n"
     ]
    }
   ],
   "source": [
    "mine11.show()"
   ]
  },
  {
   "cell_type": "code",
   "execution_count": 125,
   "metadata": {
    "collapsed": false
   },
   "outputs": [
    {
     "data": {
      "text/plain": [
       "{'armed': '*', 'empty': 'X', 'marked': 'M', 'uncovered': '.'}"
      ]
     },
     "execution_count": 125,
     "metadata": {},
     "output_type": "execute_result"
    }
   ],
   "source": [
    "mine11.grid_repr"
   ]
  },
  {
   "cell_type": "code",
   "execution_count": 126,
   "metadata": {
    "collapsed": false
   },
   "outputs": [
    {
     "ename": "NameError",
     "evalue": "name 'reload' is not defined",
     "output_type": "error",
     "traceback": [
      "\u001b[0;31m---------------------------------------------------------------------------\u001b[0m",
      "\u001b[0;31mNameError\u001b[0m                                 Traceback (most recent call last)",
      "\u001b[0;32m<ipython-input-126-7ac4854c92d0>\u001b[0m in \u001b[0;36m<module>\u001b[0;34m()\u001b[0m\n\u001b[0;32m----> 1\u001b[0;31m \u001b[0mreload\u001b[0m\u001b[0;34m(\u001b[0m\u001b[0mminesweeper\u001b[0m\u001b[0;34m.\u001b[0m\u001b[0mpy\u001b[0m\u001b[0;34m)\u001b[0m\u001b[0;34m\u001b[0m\u001b[0m\n\u001b[0m",
      "\u001b[0;31mNameError\u001b[0m: name 'reload' is not defined"
     ]
    }
   ],
   "source": [
    "reload(minesweeper.py)"
   ]
  },
  {
   "cell_type": "code",
   "execution_count": 127,
   "metadata": {
    "collapsed": true
   },
   "outputs": [],
   "source": [
    "import importlib"
   ]
  },
  {
   "cell_type": "code",
   "execution_count": 132,
   "metadata": {
    "collapsed": false
   },
   "outputs": [],
   "source": [
    "import minesweeper"
   ]
  },
  {
   "cell_type": "code",
   "execution_count": 133,
   "metadata": {
    "collapsed": true
   },
   "outputs": [],
   "source": [
    "Minesweeper = minesweeper.Minesweeper"
   ]
  },
  {
   "cell_type": "code",
   "execution_count": 134,
   "metadata": {
    "collapsed": false
   },
   "outputs": [
    {
     "ename": "NameError",
     "evalue": "name 'get_neighbors' is not defined",
     "output_type": "error",
     "traceback": [
      "\u001b[0;31m---------------------------------------------------------------------------\u001b[0m",
      "\u001b[0;31mNameError\u001b[0m                                 Traceback (most recent call last)",
      "\u001b[0;32m<ipython-input-134-eabe139c3d5e>\u001b[0m in \u001b[0;36m<module>\u001b[0;34m()\u001b[0m\n\u001b[0;32m----> 1\u001b[0;31m \u001b[0mmine12\u001b[0m \u001b[0;34m=\u001b[0m \u001b[0mMinesweeper\u001b[0m\u001b[0;34m(\u001b[0m\u001b[0;36m10\u001b[0m\u001b[0;34m,\u001b[0m\u001b[0;36m10\u001b[0m\u001b[0;34m)\u001b[0m\u001b[0;34m\u001b[0m\u001b[0m\n\u001b[0m",
      "\u001b[0;32m/Users/corntoole/GIT/tophatter_challenge/minesweeper.py\u001b[0m in \u001b[0;36m__init__\u001b[0;34m(self, dim, number_of_mines)\u001b[0m\n\u001b[1;32m     17\u001b[0m             \u001b[0mself\u001b[0m\u001b[0;34m.\u001b[0m\u001b[0mmines\u001b[0m\u001b[0;34m.\u001b[0m\u001b[0mappend\u001b[0m\u001b[0;34m(\u001b[0m\u001b[0;34m(\u001b[0m\u001b[0mx\u001b[0m\u001b[0;34m,\u001b[0m\u001b[0my\u001b[0m\u001b[0;34m)\u001b[0m\u001b[0;34m)\u001b[0m\u001b[0;34m\u001b[0m\u001b[0m\n\u001b[1;32m     18\u001b[0m             \u001b[0mself\u001b[0m\u001b[0;34m.\u001b[0m\u001b[0mboard\u001b[0m\u001b[0;34m[\u001b[0m\u001b[0mx\u001b[0m\u001b[0;34m]\u001b[0m\u001b[0;34m[\u001b[0m\u001b[0my\u001b[0m\u001b[0;34m]\u001b[0m\u001b[0;34m[\u001b[0m\u001b[0;34m'state'\u001b[0m\u001b[0;34m]\u001b[0m \u001b[0;34m=\u001b[0m \u001b[0;34m'armed'\u001b[0m\u001b[0;34m\u001b[0m\u001b[0m\n\u001b[0;32m---> 19\u001b[0;31m         \u001b[0mself\u001b[0m\u001b[0;34m.\u001b[0m\u001b[0mcompute_mine_adjacency\u001b[0m\u001b[0;34m(\u001b[0m\u001b[0;34m)\u001b[0m\u001b[0;34m\u001b[0m\u001b[0m\n\u001b[0m\u001b[1;32m     20\u001b[0m \u001b[0;34m\u001b[0m\u001b[0m\n\u001b[1;32m     21\u001b[0m     \u001b[0;32mdef\u001b[0m \u001b[0mshow\u001b[0m\u001b[0;34m(\u001b[0m\u001b[0mself\u001b[0m\u001b[0;34m)\u001b[0m\u001b[0;34m:\u001b[0m\u001b[0;34m\u001b[0m\u001b[0m\n",
      "\u001b[0;32m/Users/corntoole/GIT/tophatter_challenge/minesweeper.py\u001b[0m in \u001b[0;36mcompute_mine_adjacency\u001b[0;34m(self)\u001b[0m\n\u001b[1;32m      4\u001b[0m     \u001b[0;32mdef\u001b[0m \u001b[0mcompute_mine_adjacency\u001b[0m\u001b[0;34m(\u001b[0m\u001b[0mself\u001b[0m\u001b[0;34m)\u001b[0m\u001b[0;34m:\u001b[0m\u001b[0;34m\u001b[0m\u001b[0m\n\u001b[1;32m      5\u001b[0m         \u001b[0;32mfor\u001b[0m \u001b[0mmine\u001b[0m \u001b[0;32min\u001b[0m \u001b[0mself\u001b[0m\u001b[0;34m.\u001b[0m\u001b[0mmines\u001b[0m\u001b[0;34m:\u001b[0m\u001b[0;34m\u001b[0m\u001b[0m\n\u001b[0;32m----> 6\u001b[0;31m             \u001b[0;32mfor\u001b[0m \u001b[0mcell\u001b[0m \u001b[0;32min\u001b[0m \u001b[0mget_neighbors\u001b[0m\u001b[0;34m(\u001b[0m\u001b[0mmine\u001b[0m\u001b[0;34m[\u001b[0m\u001b[0;36m0\u001b[0m\u001b[0;34m]\u001b[0m\u001b[0;34m,\u001b[0m \u001b[0mmine\u001b[0m\u001b[0;34m[\u001b[0m\u001b[0;36m1\u001b[0m\u001b[0;34m]\u001b[0m\u001b[0;34m,\u001b[0m \u001b[0mlen\u001b[0m\u001b[0;34m(\u001b[0m\u001b[0mself\u001b[0m\u001b[0;34m.\u001b[0m\u001b[0mboard\u001b[0m\u001b[0;34m)\u001b[0m\u001b[0;34m)\u001b[0m\u001b[0;34m:\u001b[0m\u001b[0;34m\u001b[0m\u001b[0m\n\u001b[0m\u001b[1;32m      7\u001b[0m                 \u001b[0mself\u001b[0m\u001b[0;34m.\u001b[0m\u001b[0mboard\u001b[0m\u001b[0;34m[\u001b[0m\u001b[0mcell\u001b[0m\u001b[0;34m[\u001b[0m\u001b[0;36m0\u001b[0m\u001b[0;34m]\u001b[0m\u001b[0;34m]\u001b[0m\u001b[0;34m[\u001b[0m\u001b[0mcell\u001b[0m\u001b[0;34m[\u001b[0m\u001b[0;36m1\u001b[0m\u001b[0;34m]\u001b[0m\u001b[0;34m]\u001b[0m\u001b[0;34m[\u001b[0m\u001b[0;34m'adjacent_mines'\u001b[0m\u001b[0;34m]\u001b[0m \u001b[0;34m=\u001b[0m \u001b[0mself\u001b[0m\u001b[0;34m.\u001b[0m\u001b[0mboard\u001b[0m\u001b[0;34m[\u001b[0m\u001b[0mcell\u001b[0m\u001b[0;34m[\u001b[0m\u001b[0;36m0\u001b[0m\u001b[0;34m]\u001b[0m\u001b[0;34m]\u001b[0m\u001b[0;34m[\u001b[0m\u001b[0mcell\u001b[0m\u001b[0;34m[\u001b[0m\u001b[0;36m1\u001b[0m\u001b[0;34m]\u001b[0m\u001b[0;34m]\u001b[0m\u001b[0;34m[\u001b[0m\u001b[0;34m'adjacent_mines'\u001b[0m\u001b[0;34m]\u001b[0m \u001b[0;34m+\u001b[0m \u001b[0;36m1\u001b[0m\u001b[0;34m\u001b[0m\u001b[0m\n\u001b[1;32m      8\u001b[0m \u001b[0;34m\u001b[0m\u001b[0m\n",
      "\u001b[0;31mNameError\u001b[0m: name 'get_neighbors' is not defined"
     ]
    }
   ],
   "source": [
    "mine12 = Minesweeper(10,10)"
   ]
  },
  {
   "cell_type": "code",
   "execution_count": 135,
   "metadata": {
    "collapsed": true
   },
   "outputs": [],
   "source": [
    "from minesweeper import Minesweeper, MinesweeperGenerationalUncover"
   ]
  },
  {
   "cell_type": "code",
   "execution_count": 136,
   "metadata": {
    "collapsed": false
   },
   "outputs": [
    {
     "ename": "NameError",
     "evalue": "name 'get_neighbors' is not defined",
     "output_type": "error",
     "traceback": [
      "\u001b[0;31m---------------------------------------------------------------------------\u001b[0m",
      "\u001b[0;31mNameError\u001b[0m                                 Traceback (most recent call last)",
      "\u001b[0;32m<ipython-input-136-eabe139c3d5e>\u001b[0m in \u001b[0;36m<module>\u001b[0;34m()\u001b[0m\n\u001b[0;32m----> 1\u001b[0;31m \u001b[0mmine12\u001b[0m \u001b[0;34m=\u001b[0m \u001b[0mMinesweeper\u001b[0m\u001b[0;34m(\u001b[0m\u001b[0;36m10\u001b[0m\u001b[0;34m,\u001b[0m\u001b[0;36m10\u001b[0m\u001b[0;34m)\u001b[0m\u001b[0;34m\u001b[0m\u001b[0m\n\u001b[0m",
      "\u001b[0;32m/Users/corntoole/GIT/tophatter_challenge/minesweeper.py\u001b[0m in \u001b[0;36m__init__\u001b[0;34m(self, dim, number_of_mines)\u001b[0m\n\u001b[1;32m     17\u001b[0m     \u001b[0;32mdef\u001b[0m \u001b[0mcompute_mine_adjacency\u001b[0m\u001b[0;34m(\u001b[0m\u001b[0mself\u001b[0m\u001b[0;34m)\u001b[0m\u001b[0;34m:\u001b[0m\u001b[0;34m\u001b[0m\u001b[0m\n\u001b[1;32m     18\u001b[0m         \u001b[0;32mfor\u001b[0m \u001b[0mmine\u001b[0m \u001b[0;32min\u001b[0m \u001b[0mself\u001b[0m\u001b[0;34m.\u001b[0m\u001b[0mmines\u001b[0m\u001b[0;34m:\u001b[0m\u001b[0;34m\u001b[0m\u001b[0m\n\u001b[0;32m---> 19\u001b[0;31m             \u001b[0;32mfor\u001b[0m \u001b[0mcell\u001b[0m \u001b[0;32min\u001b[0m \u001b[0mget_neighbors\u001b[0m\u001b[0;34m(\u001b[0m\u001b[0mmine\u001b[0m\u001b[0;34m[\u001b[0m\u001b[0;36m0\u001b[0m\u001b[0;34m]\u001b[0m\u001b[0;34m,\u001b[0m \u001b[0mmine\u001b[0m\u001b[0;34m[\u001b[0m\u001b[0;36m1\u001b[0m\u001b[0;34m]\u001b[0m\u001b[0;34m,\u001b[0m \u001b[0mlen\u001b[0m\u001b[0;34m(\u001b[0m\u001b[0mself\u001b[0m\u001b[0;34m.\u001b[0m\u001b[0mboard\u001b[0m\u001b[0;34m)\u001b[0m\u001b[0;34m)\u001b[0m\u001b[0;34m:\u001b[0m\u001b[0;34m\u001b[0m\u001b[0m\n\u001b[0m\u001b[1;32m     20\u001b[0m                 \u001b[0mself\u001b[0m\u001b[0;34m.\u001b[0m\u001b[0mboard\u001b[0m\u001b[0;34m[\u001b[0m\u001b[0mcell\u001b[0m\u001b[0;34m[\u001b[0m\u001b[0;36m0\u001b[0m\u001b[0;34m]\u001b[0m\u001b[0;34m]\u001b[0m\u001b[0;34m[\u001b[0m\u001b[0mcell\u001b[0m\u001b[0;34m[\u001b[0m\u001b[0;36m1\u001b[0m\u001b[0;34m]\u001b[0m\u001b[0;34m]\u001b[0m\u001b[0;34m[\u001b[0m\u001b[0;34m'adjacent_mines'\u001b[0m\u001b[0;34m]\u001b[0m \u001b[0;34m=\u001b[0m \u001b[0mself\u001b[0m\u001b[0;34m.\u001b[0m\u001b[0mboard\u001b[0m\u001b[0;34m[\u001b[0m\u001b[0mcell\u001b[0m\u001b[0;34m[\u001b[0m\u001b[0;36m0\u001b[0m\u001b[0;34m]\u001b[0m\u001b[0;34m]\u001b[0m\u001b[0;34m[\u001b[0m\u001b[0mcell\u001b[0m\u001b[0;34m[\u001b[0m\u001b[0;36m1\u001b[0m\u001b[0;34m]\u001b[0m\u001b[0;34m]\u001b[0m\u001b[0;34m[\u001b[0m\u001b[0;34m'adjacent_mines'\u001b[0m\u001b[0;34m]\u001b[0m \u001b[0;34m+\u001b[0m \u001b[0;36m1\u001b[0m\u001b[0;34m\u001b[0m\u001b[0m\n\u001b[1;32m     21\u001b[0m \u001b[0;34m\u001b[0m\u001b[0m\n",
      "\u001b[0;32m/Users/corntoole/GIT/tophatter_challenge/minesweeper.py\u001b[0m in \u001b[0;36mcompute_mine_adjacency\u001b[0;34m(self)\u001b[0m\n\u001b[1;32m      4\u001b[0m     \u001b[0;32mdef\u001b[0m \u001b[0mwithin_bounds\u001b[0m\u001b[0;34m(\u001b[0m\u001b[0mrow\u001b[0m\u001b[0;34m,\u001b[0m \u001b[0mcol\u001b[0m\u001b[0;34m)\u001b[0m\u001b[0;34m:\u001b[0m\u001b[0;34m\u001b[0m\u001b[0m\n\u001b[1;32m      5\u001b[0m         \u001b[0;32mreturn\u001b[0m \u001b[0;34m(\u001b[0m\u001b[0mrow\u001b[0m\u001b[0;34m,\u001b[0m\u001b[0mcol\u001b[0m\u001b[0;34m)\u001b[0m \u001b[0;34m!=\u001b[0m \u001b[0;34m(\u001b[0m\u001b[0mi\u001b[0m\u001b[0;34m,\u001b[0m\u001b[0mj\u001b[0m\u001b[0;34m)\u001b[0m \u001b[0;32mand\u001b[0m \u001b[0mrow\u001b[0m \u001b[0;34m>=\u001b[0m \u001b[0;36m0\u001b[0m \u001b[0;32mand\u001b[0m \u001b[0mrow\u001b[0m \u001b[0;34m<\u001b[0m \u001b[0mn\u001b[0m \u001b[0;32mand\u001b[0m \u001b[0mcol\u001b[0m \u001b[0;34m>=\u001b[0m \u001b[0;36m0\u001b[0m \u001b[0;32mand\u001b[0m \u001b[0mcol\u001b[0m \u001b[0;34m<\u001b[0m \u001b[0mn\u001b[0m\u001b[0;34m\u001b[0m\u001b[0m\n\u001b[0;32m----> 6\u001b[0;31m     \u001b[0mneighbors\u001b[0m \u001b[0;34m=\u001b[0m \u001b[0;34m[\u001b[0m\u001b[0;34m]\u001b[0m\u001b[0;34m\u001b[0m\u001b[0m\n\u001b[0m\u001b[1;32m      7\u001b[0m     \u001b[0;32mfor\u001b[0m \u001b[0mr\u001b[0m \u001b[0;32min\u001b[0m \u001b[0mrange\u001b[0m\u001b[0;34m(\u001b[0m\u001b[0mi\u001b[0m\u001b[0;34m-\u001b[0m\u001b[0;36m1\u001b[0m\u001b[0;34m,\u001b[0m \u001b[0mi\u001b[0m\u001b[0;34m+\u001b[0m\u001b[0;36m2\u001b[0m\u001b[0;34m,\u001b[0m \u001b[0;36m1\u001b[0m\u001b[0;34m)\u001b[0m\u001b[0;34m:\u001b[0m\u001b[0;34m\u001b[0m\u001b[0m\n\u001b[1;32m      8\u001b[0m \u001b[0;31m#         print('r ',r, 'i', i)\u001b[0m\u001b[0;34m\u001b[0m\u001b[0;34m\u001b[0m\u001b[0m\n",
      "\u001b[0;31mNameError\u001b[0m: name 'get_neighbors' is not defined"
     ]
    }
   ],
   "source": [
    "mine12 = Minesweeper(10,10)"
   ]
  },
  {
   "cell_type": "code",
   "execution_count": 138,
   "metadata": {
    "collapsed": false
   },
   "outputs": [
    {
     "data": {
      "text/plain": [
       "<module 'minesweeper' from '/Users/corntoole/GIT/tophatter_challenge/minesweeper.py'>"
      ]
     },
     "execution_count": 138,
     "metadata": {},
     "output_type": "execute_result"
    }
   ],
   "source": [
    "importlib.reload(minesweeper)"
   ]
  },
  {
   "cell_type": "code",
   "execution_count": 141,
   "metadata": {
    "collapsed": true
   },
   "outputs": [],
   "source": [
    "mine12 = minesweeper.Minesweeper(10,10)"
   ]
  },
  {
   "cell_type": "code",
   "execution_count": 142,
   "metadata": {
    "collapsed": false
   },
   "outputs": [
    {
     "name": "stdout",
     "output_type": "stream",
     "text": [
      " 0 \n",
      " 1 \n",
      " 2 \n",
      " 3 \n",
      " 4 \n",
      " 5 \n",
      " 6 \n",
      " 7 \n",
      " 8 \n",
      " 9 \n",
      "y: \n"
     ]
    },
    {
     "ename": "NameError",
     "evalue": "name 'item' is not defined",
     "output_type": "error",
     "traceback": [
      "\u001b[0;31m---------------------------------------------------------------------------\u001b[0m",
      "\u001b[0;31mNameError\u001b[0m                                 Traceback (most recent call last)",
      "\u001b[0;32m<ipython-input-142-55c1d3fa41f4>\u001b[0m in \u001b[0;36m<module>\u001b[0;34m()\u001b[0m\n\u001b[0;32m----> 1\u001b[0;31m \u001b[0mmine12\u001b[0m\u001b[0;34m.\u001b[0m\u001b[0mshow\u001b[0m\u001b[0;34m(\u001b[0m\u001b[0;34m)\u001b[0m\u001b[0;34m\u001b[0m\u001b[0m\n\u001b[0m",
      "\u001b[0;32m/Users/corntoole/GIT/tophatter_challenge/minesweeper.py\u001b[0m in \u001b[0;36mshow\u001b[0;34m(self)\u001b[0m\n\u001b[1;32m     38\u001b[0m             \u001b[0mprint\u001b[0m \u001b[0;34m(\u001b[0m\u001b[0;34m'y: '\u001b[0m\u001b[0;34m)\u001b[0m\u001b[0;34m\u001b[0m\u001b[0m\n\u001b[1;32m     39\u001b[0m             \u001b[0;32mfor\u001b[0m \u001b[0mcell\u001b[0m \u001b[0;32min\u001b[0m \u001b[0mrow\u001b[0m\u001b[0;34m:\u001b[0m\u001b[0;34m\u001b[0m\u001b[0m\n\u001b[0;32m---> 40\u001b[0;31m                 \u001b[0mprint\u001b[0m\u001b[0;34m(\u001b[0m\u001b[0;34m' {} '\u001b[0m\u001b[0;34m.\u001b[0m\u001b[0mformat\u001b[0m\u001b[0;34m(\u001b[0m\u001b[0mMinesweeper\u001b[0m\u001b[0;34m.\u001b[0m\u001b[0mgrid_repr\u001b[0m\u001b[0;34m[\u001b[0m\u001b[0mitem\u001b[0m\u001b[0;34m[\u001b[0m\u001b[0;34m'state'\u001b[0m\u001b[0;34m]\u001b[0m\u001b[0;34m]\u001b[0m\u001b[0;34m)\u001b[0m\u001b[0;34m)\u001b[0m\u001b[0;34m\u001b[0m\u001b[0m\n\u001b[0m\u001b[1;32m     41\u001b[0m \u001b[0;34m\u001b[0m\u001b[0m\n\u001b[1;32m     42\u001b[0m         \u001b[0;32mfor\u001b[0m \u001b[0mrow\u001b[0m \u001b[0;32min\u001b[0m \u001b[0mself\u001b[0m\u001b[0;34m.\u001b[0m\u001b[0mboard\u001b[0m\u001b[0;34m:\u001b[0m\u001b[0;34m\u001b[0m\u001b[0m\n",
      "\u001b[0;31mNameError\u001b[0m: name 'item' is not defined"
     ]
    }
   ],
   "source": [
    "mine12.show()"
   ]
  },
  {
   "cell_type": "code",
   "execution_count": 162,
   "metadata": {
    "collapsed": false
   },
   "outputs": [
    {
     "data": {
      "text/plain": [
       "<module 'minesweeper' from '/Users/corntoole/GIT/tophatter_challenge/minesweeper.py'>"
      ]
     },
     "execution_count": 162,
     "metadata": {},
     "output_type": "execute_result"
    }
   ],
   "source": [
    "importlib.reload(minesweeper)"
   ]
  },
  {
   "cell_type": "code",
   "execution_count": 163,
   "metadata": {
    "collapsed": true
   },
   "outputs": [],
   "source": [
    "mine12 = minesweeper.Minesweeper(10,10)"
   ]
  },
  {
   "cell_type": "code",
   "execution_count": 164,
   "metadata": {
    "collapsed": false
   },
   "outputs": [
    {
     "name": "stdout",
     "output_type": "stream",
     "text": [
      "   0  1  2  3  4  5  6  7  8  9 \n",
      "0  X  X  X  X  X  X  X  X  X  X \n",
      "1  X  X  X  X  X  X  X  X  X  X \n",
      "2  X  X  X  X  X  X  X  X  X  X \n",
      "3  X  *  X  X  X  X  X  X  X  X \n",
      "4  X  *  X  X  X  X  X  *  X  X \n",
      "5  X  X  X  X  X  X  X  *  X  * \n",
      "6  X  X  X  X  X  *  X  X  X  X \n",
      "7  X  X  X  *  X  X  X  X  X  X \n",
      "8  X  X  X  X  X  X  X  X  X  * \n",
      "9  X  X  X  X  *  X  X  X  X  X \n",
      "[0, 0, 0, 0, 0, 0, 0, 0, 0, 0]\n",
      "[0, 0, 0, 0, 0, 0, 0, 0, 0, 0]\n",
      "[1, 1, 1, 0, 0, 0, 0, 0, 0, 0]\n",
      "[2, 1, 2, 0, 0, 0, 1, 1, 1, 0]\n",
      "[2, 1, 2, 0, 0, 0, 2, 1, 3, 1]\n",
      "[1, 1, 1, 0, 2, 2, 4, 1, 3, 0]\n",
      "[0, 0, 1, 1, 3, 0, 3, 1, 2, 1]\n",
      "[0, 0, 1, 0, 3, 2, 2, 0, 1, 1]\n",
      "[0, 0, 1, 2, 2, 1, 0, 0, 1, 0]\n",
      "[0, 0, 0, 1, 0, 1, 0, 0, 1, 1]\n"
     ]
    }
   ],
   "source": [
    "mine12.show()"
   ]
  },
  {
   "cell_type": "code",
   "execution_count": 151,
   "metadata": {
    "collapsed": false
   },
   "outputs": [
    {
     "ename": "TypeError",
     "evalue": "descriptor 'join' requires a 'str' object but received a 'list'",
     "output_type": "error",
     "traceback": [
      "\u001b[0;31m---------------------------------------------------------------------------\u001b[0m",
      "\u001b[0;31mTypeError\u001b[0m                                 Traceback (most recent call last)",
      "\u001b[0;32m<ipython-input-151-b65232fa7016>\u001b[0m in \u001b[0;36m<module>\u001b[0;34m()\u001b[0m\n\u001b[0;32m----> 1\u001b[0;31m \u001b[0mstr\u001b[0m\u001b[0;34m.\u001b[0m\u001b[0mjoin\u001b[0m\u001b[0;34m(\u001b[0m\u001b[0;34m[\u001b[0m\u001b[0;34m'a'\u001b[0m\u001b[0;34m,\u001b[0m \u001b[0;34m'b'\u001b[0m\u001b[0;34m]\u001b[0m\u001b[0;34m)\u001b[0m\u001b[0;34m\u001b[0m\u001b[0m\n\u001b[0m",
      "\u001b[0;31mTypeError\u001b[0m: descriptor 'join' requires a 'str' object but received a 'list'"
     ]
    }
   ],
   "source": [
    "str.join(['a', 'b'])"
   ]
  },
  {
   "cell_type": "markdown",
   "metadata": {},
   "source": [
    "## Game Design\n",
    "\n",
    "### States\n",
    "\n",
    "  - New Game\n",
    "    - all cells covered\n",
    "    - number of unflagged mines = number of placed mines\n",
    "  - In Progress\n",
    "    - some cells uncovered\n",
    "    - number of flagged mines <= number of placed mines\n",
    "    - number of correctly flagged mines < number of placed mines\n",
    "  - Game Lost\n",
    "    - uncovered a cell with mine\n",
    "  - Game Won\n",
    "    - number/location of correctly flagged mines == number/location of placed mines\n",
    "    \n",
    "  "
   ]
  },
  {
   "cell_type": "code",
   "execution_count": 166,
   "metadata": {
    "collapsed": false
   },
   "outputs": [
    {
     "data": {
      "text/plain": [
       "<module 'minesweeper' from '/Users/corntoole/GIT/tophatter_challenge/minesweeper.py'>"
      ]
     },
     "execution_count": 166,
     "metadata": {},
     "output_type": "execute_result"
    }
   ],
   "source": [
    "importlib.reload(minesweeper)"
   ]
  },
  {
   "cell_type": "code",
   "execution_count": 167,
   "metadata": {
    "collapsed": false
   },
   "outputs": [
    {
     "name": "stdout",
     "output_type": "stream",
     "text": [
      "MinesweeperStates.new_game\n"
     ]
    }
   ],
   "source": [
    "mine13 = minesweeper.Minesweeper(10,10)"
   ]
  },
  {
   "cell_type": "code",
   "execution_count": null,
   "metadata": {
    "collapsed": true
   },
   "outputs": [],
   "source": []
  }
 ],
 "metadata": {
  "kernelspec": {
   "display_name": "Python 3",
   "language": "python",
   "name": "python3"
  },
  "language_info": {
   "codemirror_mode": {
    "name": "ipython",
    "version": 3
   },
   "file_extension": ".py",
   "mimetype": "text/x-python",
   "name": "python",
   "nbconvert_exporter": "python",
   "pygments_lexer": "ipython3",
   "version": "3.5.1"
  }
 },
 "nbformat": 4,
 "nbformat_minor": 0
}
